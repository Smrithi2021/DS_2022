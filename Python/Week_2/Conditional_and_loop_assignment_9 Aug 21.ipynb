{
 "cells": [
  {
   "cell_type": "markdown",
   "metadata": {
    "id": "wNRNTbrsc53d"
   },
   "source": [
    "# If - elif - else statement"
   ]
  },
  {
   "cell_type": "code",
   "execution_count": 9,
   "metadata": {
    "id": "MiPfTnBycxNa"
   },
   "outputs": [
    {
     "name": "stdout",
     "output_type": "stream",
     "text": [
      "Enter a number:173\n",
      "Number outside of the range\n"
     ]
    }
   ],
   "source": [
    "#W. A P. which takes one number from 0 to 9 from the user and prints it in the word. And if the word is not from 0 to 9 then\n",
    "#it should print that number is outside of the range and program should exit.\n",
    "# For exapmple:- \n",
    "# input = 1\n",
    "# output = one\n",
    "\n",
    "abc=int(input(\"Enter a number:\"))\n",
    "if abc==0:\n",
    "    print ('zero')\n",
    "elif abc==1:\n",
    "    print ('one')\n",
    "elif abc==2:\n",
    "    print ('two')\n",
    "elif abc==3:\n",
    "    print ('three')\n",
    "elif abc==4:\n",
    "    print ('four')\n",
    "elif abc==5:\n",
    "    print ('five')\n",
    "elif abc==6:\n",
    "    print ('six')\n",
    "elif abc==7:\n",
    "    print ('seven')\n",
    "elif abc==8:\n",
    "    print ('eight')\n",
    "elif abc==9:\n",
    "    print ('nine')\n",
    "else:\n",
    "    print (\"Number outside of the range\")"
   ]
  },
  {
   "cell_type": "code",
   "execution_count": 3,
   "metadata": {
    "id": "vEMNOv9zdA39"
   },
   "outputs": [
    {
     "name": "stdout",
     "output_type": "stream",
     "text": [
      "Enter 1st number: 9\n",
      "Enter 2nd number: 70\n",
      "    Please select any one operation from below:-\n",
      "        * To add enter 1\n",
      "        * to subtract enter 2\n",
      "        * To multiply enter 3\n",
      "        * To divide enter 4\n",
      "        * To divide and find quotient enter 5\n",
      "        * To divide and find remainder enter 6\n",
      "        * To divide and find num1 to the power of num2 enter 7\n",
      "        * To Come out of the program enter 8\n",
      "Enter the number for operation-->8\n"
     ]
    }
   ],
   "source": [
    "#W. A P. to implement calculator but the operation to be done and two numbers will be taken as input from user:-\n",
    "#Operation console should show below:-\n",
    "#     Please select any one operation from below:-\n",
    "#         * To add enter 1\n",
    "#         * to subtract enter 2\n",
    "#         * To multiply enter 3\n",
    "#         * To divide enter 4\n",
    "#         * To divide and find quotient enter 5\n",
    "#         * To divide and find remainder enter 6\n",
    "#         * To divide and find num1 to the power of num2 enter 7\n",
    "#         * To Come out of the program enter 8\n",
    "\n",
    "num1=eval(input(\"Enter 1st number: \"))\n",
    "num2=eval(input(\"Enter 2nd number: \"))\n",
    "print (\"\"\"    Please select any one operation from below:-\n",
    "        * To add enter 1\n",
    "        * to subtract enter 2\n",
    "        * To multiply enter 3\n",
    "        * To divide enter 4\n",
    "        * To divide and find quotient enter 5\n",
    "        * To divide and find remainder enter 6\n",
    "        * To divide and find num1 to the power of num2 enter 7\n",
    "        * To Come out of the program enter 8\"\"\")\n",
    "op= int(input(\"Enter the number for operation-->\"))\n",
    "if op==1:\n",
    "    print (num1+num2)\n",
    "elif op==2:\n",
    "    print (num1-num2)\n",
    "elif op==3:\n",
    "    print (num1*num2)\n",
    "elif op==4:\n",
    "    print (num1/num2)\n",
    "elif op==5:\n",
    "    print (num1//num2)\n",
    "elif op==6:\n",
    "    print (num1%num2)\n",
    "elif op==7:\n",
    "    print (num1**num2)\n",
    "elif op==8:\n",
    "    pass\n",
    "\n"
   ]
  },
  {
   "cell_type": "code",
   "execution_count": 33,
   "metadata": {
    "id": "1e2gwYLqdC1s"
   },
   "outputs": [
    {
     "name": "stdout",
     "output_type": "stream",
     "text": [
      "Enter a year: 1800\n",
      "Not a leap year\n"
     ]
    }
   ],
   "source": [
    "#W A P to check whether a year entered by user is an leap year or not?\n",
    "#Check with below input:-\n",
    "    #leap year:- 2012, 1968, 2004, 1200, 1600,2400\n",
    "    #Non-lear year:- 1971, 2006, 1700,1800,1900\n",
    "    \n",
    "yr=int(input(\"Enter a year: \"))\n",
    "if (yr%400==0):\n",
    "    print (\"Leap year\")\n",
    "    \n",
    "elif (yr%4==0 and yr%100!=0):\n",
    "    print (\"Leap year\")\n",
    "else: \n",
    "    print (\"Not a leap year\")"
   ]
  },
  {
   "cell_type": "code",
   "execution_count": 43,
   "metadata": {
    "id": "_tpXv1EtdEre"
   },
   "outputs": [
    {
     "name": "stdout",
     "output_type": "stream",
     "text": [
      "Enter an integer no. 970\n",
      "Number is even\n"
     ]
    }
   ],
   "source": [
    "#W A P which takes one number from the user and checks whether it is an even or odd number?, If it even then prints number is \n",
    "#even number else prints that number is odd number.\n",
    "\n",
    "no1=int(input(\"Enter an integer no. \"))\n",
    "if no1%2==0:\n",
    "    print (\"Number is even\")\n",
    "else:\n",
    "    print (\"Number is odd\")\n"
   ]
  },
  {
   "cell_type": "code",
   "execution_count": 67,
   "metadata": {
    "id": "Q1HumymCdG6i"
   },
   "outputs": [
    {
     "name": "stdout",
     "output_type": "stream",
     "text": [
      "Using if - else\n",
      "Enter num1:7\n",
      "Enter num2:8\n",
      "7 is smaller than 8\n",
      "Using ternary operator\n",
      "Enter num3: 9\n",
      "Enter num4: 9\n",
      "both are equal\n"
     ]
    }
   ],
   "source": [
    "#W A P which takes two numbers from the user and prints below output:-\n",
    "#     1. num1 is greater than num2 if num1 is greater than num2\n",
    "#     2. num1 is smaller than num2 if num1 is smaller than num2\n",
    "#     3. num1 is equal to num2 if num1 and num2 are equal\n",
    "\n",
    "#Note:- 1. Do this problem using if - else \n",
    "#       2. Do this using ternary operator\n",
    "\n",
    "print (\"Using if - else\")\n",
    "num1=int(input(\"Enter num1:\"))\n",
    "num2=int(input(\"Enter num2:\"))\n",
    "if num1>num2:\n",
    "    print (f'{num1} is greater than {num2}')\n",
    "elif num1<num2:\n",
    "    print (f'{num1} is smaller than {num2}')\n",
    "else:\n",
    "    print (f'{num1} is equal to {num2}')\n",
    "    \n",
    "    \n",
    "print (\"Using ternary operator\")\n",
    "num3=int(input(\"Enter num3: \"))\n",
    "num4=int(input(\"Enter num4: \"))\n",
    "print ((f'{num3} is greater than {num4}') if (num3>num4) else (f'{num3} is smaller than {num4}') if (num3<num4) else \"both are equal\")"
   ]
  },
  {
   "cell_type": "code",
   "execution_count": 93,
   "metadata": {
    "id": "LR6TVB-DdOPf"
   },
   "outputs": [
    {
     "ename": "SyntaxError",
     "evalue": "invalid syntax (<ipython-input-93-3970fac1acdf>, line 30)",
     "output_type": "error",
     "traceback": [
      "\u001b[1;36m  File \u001b[1;32m\"<ipython-input-93-3970fac1acdf>\"\u001b[1;36m, line \u001b[1;32m30\u001b[0m\n\u001b[1;33m    else ('enter unique values') if (numi==numii==numiii))\u001b[0m\n\u001b[1;37m                                                         ^\u001b[0m\n\u001b[1;31mSyntaxError\u001b[0m\u001b[1;31m:\u001b[0m invalid syntax\n"
     ]
    }
   ],
   "source": [
    "#W A P which takes three numbers from the user and prints below output:-\n",
    "#     1. num1 is greater than num2 and num3 if num1 is greater than num2 and num3\n",
    "#     2. num2 is greater than num1 and num3 if num2 is greater than num1 and num3\n",
    "#     3. num3 is greater than num1 and num2 if num3 is greater than num1 and num2\n",
    "\n",
    "#Note:- 1. Do this problem using if - elif - else \n",
    "#       2. Do this using ternary operator\n",
    "\n",
    "# a = a if a>b else b\n",
    "\n",
    "print (\"Using if - elif - else\")\n",
    "numi=int(input(\"Enter num1: \"))\n",
    "numii=int(input(\"Enter num2: \"))\n",
    "numiii=int(input(\"Enter num3: \"))\n",
    "if (numi>numii) and (numi>numiii):\n",
    "    print(f'{numi} is greater than {numii} and {numiii}')\n",
    "elif (numii>numi) and (numii>numiii):\n",
    "    print (f'{numii} is greater than {numi} and {numiii}')\n",
    "elif (numiii>numi and numiii>numii):\n",
    "    print (f'{numiii} is greater than {numi} and {numii}')\n",
    "elif (numi==numii==numiii):\n",
    "    pass\n",
    "\n",
    "print (\" \")\n",
    "print (\" \")\n",
    "print (\"Using ternary operator:\")\n",
    "print ((f'{numi} is greater than {numii} and {numiii}') if (numi>numii) and (numi>numiii) \n",
    "       else (f'{numiii} is greater than {numi} and {numii}') if (numii>numi) and (numii>numiii)\n",
    "       else (f'{numiii} is greater than {numi} and {numii}') if (numiii>numi) and (numiii>numii)\n",
    "       else ('enter unique values') if (numi==numii==numiii))\n",
    "\n",
    "# @Abhishek: I do not understand why ternary operator is not working in this case.Can you please look into & provide your comments\n"
   ]
  },
  {
   "cell_type": "markdown",
   "metadata": {
    "id": "IoOLQMUGdSox"
   },
   "source": [
    "# Loops - for loop, while loop"
   ]
  },
  {
   "cell_type": "code",
   "execution_count": 94,
   "metadata": {
    "id": "9K23Uld8dQfA"
   },
   "outputs": [
    {
     "name": "stdout",
     "output_type": "stream",
     "text": [
      "55\n"
     ]
    }
   ],
   "source": [
    "#Write a Python program to find the length of the my_str using loop:-\n",
    "\n",
    "#Input:- 'Write a Python program to find the length of the my_str'\n",
    "#Output:- 55\n",
    "\n",
    "my_str='Write a Python program to find the length of the my_str'\n",
    "count=0\n",
    "for i in my_str:\n",
    "    count+=1\n",
    "print (count)"
   ]
  },
  {
   "cell_type": "code",
   "execution_count": 105,
   "metadata": {
    "id": "bp6AcqTsdYxy"
   },
   "outputs": [
    {
     "name": "stdout",
     "output_type": "stream",
     "text": [
      "9\n"
     ]
    }
   ],
   "source": [
    "#Write a Python program to find the total number of times letter 'p' is appeared in the below string using loop:-\n",
    "    \n",
    "#Input:- 'peter piper picked a peck of pickled peppers.\\n'\n",
    "#Output:- 9\n",
    "\n",
    "my_str='peter piper picked a peck of pickled peppers.\\n'\n",
    "count1=0\n",
    "i=0\n",
    "for i in my_str:\n",
    "    if i=='p':\n",
    "        count1+=1\n",
    "print (count1)\n",
    "        "
   ]
  },
  {
   "cell_type": "code",
   "execution_count": 18,
   "metadata": {
    "id": "xvxSBhTJdav1"
   },
   "outputs": [
    {
     "name": "stdout",
     "output_type": "stream",
     "text": [
      "0\n",
      "6\n",
      "8\n",
      "12\n",
      "21\n",
      "29\n",
      "37\n",
      "39\n",
      "40\n"
     ]
    }
   ],
   "source": [
    "#Write a Python Program, to print all the indexes of all occurences of letter 'p' appeared in the string using loop:-\n",
    "    \n",
    "#Input:- 'peter piper picked a peck of pickled peppers.'\n",
    "#Output:- \n",
    "# 0\n",
    "# 6\n",
    "# 8\n",
    "# 12\n",
    "# 21\n",
    "# 29\n",
    "# 37\n",
    "# 39\n",
    "# 40\n",
    "\n",
    "inp='peter piper picked a peck of pickled peppers.'\n",
    "# print (inp)\n",
    "# print (len(inp))\n",
    "for i in range(len(inp)):\n",
    "#     print (i)\n",
    "#     print (inp[i])\n",
    "    if inp[i]=='p':\n",
    "        print (i)\n",
    "\n",
    "\n",
    "        \n",
    "\n"
   ]
  },
  {
   "cell_type": "code",
   "execution_count": 43,
   "metadata": {
    "id": "79L_feMadbmw"
   },
   "outputs": [
    {
     "name": "stdout",
     "output_type": "stream",
     "text": [
      "45\n",
      "44\n",
      "['peter', 'piper', 'picked', 'a', 'peck', 'of', 'pickled', 'peppers.']\n"
     ]
    }
   ],
   "source": [
    "#Write a python program to find below output using loop:-\n",
    "\n",
    "#Input:- 'peter piper picked a peck of pickled peppers.'\n",
    "#Output:- ['peter', 'piper', 'picked', 'a', 'peck', 'of', 'pickled', 'peppers']\n",
    "\n",
    "inp2='peter piper picked a peck of pickled peppers.'\n",
    "outword=''\n",
    "outlist=[]\n",
    "print (len(inp2))\n",
    "print (inp2.index('.'))\n",
    "for i in range (len(inp2)):\n",
    "    if inp2[i]==' ':\n",
    "        outlist+=[outword]\n",
    "        outword=''        \n",
    "        \n",
    "    elif i==(len(inp2)-1):\n",
    "         outword+=inp2[i]\n",
    "         outlist+=[outword]\n",
    "        \n",
    "    else:\n",
    "        outword+=inp2[i]\n",
    "#         outlist+=outword\n",
    "\n",
    "print (outlist)\n",
    "\n"
   ]
  },
  {
   "cell_type": "code",
   "execution_count": 65,
   "metadata": {
    "id": "vzs5AJ53deVS"
   },
   "outputs": [
    {
     "name": "stdout",
     "output_type": "stream",
     "text": [
      "['peter', 'piper', 'picked', 'a', 'peck', 'of', 'pickled', 'peppers.']\n",
      "peppers. pickled of peck a picked piper peter\n"
     ]
    }
   ],
   "source": [
    "#Write a python program to find below output using loop:-\n",
    "\n",
    "#Input:- 'peter piper picked a peck of pickled peppers.'\n",
    "#Output:- 'peppers pickled of peck a picked piper peter'\n",
    "\n",
    "inp2='peter piper picked a peck of pickled peppers.'\n",
    "outword=''\n",
    "outsen=[]\n",
    "# print (len(inp2))\n",
    "# print (inp2.index('.'))\n",
    "for i in range (len(inp2)):\n",
    "    if inp2[i]==' ':\n",
    "        outsen+=[outword]\n",
    "        outword=''        \n",
    "        \n",
    "    elif i==(len(inp2)-1):\n",
    "         outword+=inp2[i]\n",
    "         outsen+=[outword]\n",
    "        \n",
    "    else:\n",
    "        outword+=inp2[i]\n",
    "#         outlist+=outword\n",
    "\n",
    "print (outsen)\n",
    "# type (outsen)\n",
    "# print (outsen[-1])\n",
    "# print ([-len(outsen)])\n",
    "rev= (outsen[-1:-(len(outsen)+1):-1])\n",
    "print (\" \".join(rev))\n"
   ]
  },
  {
   "cell_type": "code",
   "execution_count": 3,
   "metadata": {
    "id": "i-HP7DrCdhwS"
   },
   "outputs": [
    {
     "name": "stdout",
     "output_type": "stream",
     "text": [
      ".sreppep delkcip fo kcep a dekcip repip retep\n"
     ]
    }
   ],
   "source": [
    "#Write a python program to find below output using loop:-\n",
    "\n",
    "#Input:- 'peter piper picked a peck of pickled peppers.'\n",
    "#Output:- '.sreppep delkcip fo kcep a dekcip repip retep'\n",
    "\n",
    "inp2='peter piper picked a peck of pickled peppers.'\n",
    "outword=''\n",
    "outlist=''\n",
    "# print (len(inp2))\n",
    "# print (inp2.index('.'))\n",
    "for i in range (-1,-(len(inp2)+1),-1):\n",
    "    if inp2[i]==' ':\n",
    "        outlist+=outword+' '\n",
    "        outword=''        \n",
    "        \n",
    "    elif i==-len(inp2):\n",
    "         outword+=inp2[i]\n",
    "         outlist+=outword\n",
    "        \n",
    "    else:\n",
    "        outword+=inp2[i]\n",
    "#         outlist+=outword\n",
    "\n",
    "print (outlist)\n"
   ]
  },
  {
   "cell_type": "code",
   "execution_count": 96,
   "metadata": {
    "id": "3rt6p0ytdkq0"
   },
   "outputs": [
    {
     "name": "stdout",
     "output_type": "stream",
     "text": [
      "['peter', 'piper', 'picked', 'a', 'peck', 'of', 'pickled', 'peppers.']\n",
      "retep repip dekcip a kcep fo delkcip .sreppep "
     ]
    },
    {
     "ename": "IndexError",
     "evalue": "list index out of range",
     "output_type": "error",
     "traceback": [
      "\u001b[1;31m---------------------------------------------------------------------------\u001b[0m",
      "\u001b[1;31mIndexError\u001b[0m                                Traceback (most recent call last)",
      "\u001b[1;32m<ipython-input-96-96fa0c900091>\u001b[0m in \u001b[0;36m<module>\u001b[1;34m\u001b[0m\n\u001b[0;32m     26\u001b[0m \u001b[1;31m# # print (outlist[0][-1:-(len(outlist)+1):-1])\u001b[0m\u001b[1;33m\u001b[0m\u001b[1;33m\u001b[0m\u001b[1;33m\u001b[0m\u001b[0m\n\u001b[0;32m     27\u001b[0m \u001b[1;32mfor\u001b[0m \u001b[0mj\u001b[0m \u001b[1;32min\u001b[0m \u001b[0mrange\u001b[0m \u001b[1;33m(\u001b[0m\u001b[1;36m0\u001b[0m\u001b[1;33m,\u001b[0m\u001b[1;33m(\u001b[0m\u001b[0mlen\u001b[0m\u001b[1;33m(\u001b[0m\u001b[0moutlist\u001b[0m\u001b[1;33m)\u001b[0m\u001b[1;33m+\u001b[0m\u001b[1;36m1\u001b[0m\u001b[1;33m)\u001b[0m\u001b[1;33m,\u001b[0m\u001b[1;36m1\u001b[0m\u001b[1;33m)\u001b[0m\u001b[1;33m:\u001b[0m\u001b[1;33m\u001b[0m\u001b[1;33m\u001b[0m\u001b[0m\n\u001b[1;32m---> 28\u001b[1;33m       \u001b[0mres\u001b[0m\u001b[1;33m=\u001b[0m \u001b[1;33m(\u001b[0m\u001b[0moutlist\u001b[0m\u001b[1;33m[\u001b[0m\u001b[0mj\u001b[0m\u001b[1;33m]\u001b[0m\u001b[1;33m[\u001b[0m\u001b[1;33m-\u001b[0m\u001b[1;36m1\u001b[0m\u001b[1;33m:\u001b[0m\u001b[1;33m-\u001b[0m\u001b[1;33m(\u001b[0m\u001b[0mlen\u001b[0m\u001b[1;33m(\u001b[0m\u001b[0moutlist\u001b[0m\u001b[1;33m[\u001b[0m\u001b[0mj\u001b[0m\u001b[1;33m]\u001b[0m\u001b[1;33m)\u001b[0m\u001b[1;33m+\u001b[0m\u001b[1;36m1\u001b[0m\u001b[1;33m)\u001b[0m\u001b[1;33m:\u001b[0m\u001b[1;33m-\u001b[0m\u001b[1;36m1\u001b[0m\u001b[1;33m]\u001b[0m\u001b[1;33m)\u001b[0m\u001b[1;33m\u001b[0m\u001b[1;33m\u001b[0m\u001b[0m\n\u001b[0m\u001b[0;32m     29\u001b[0m \u001b[1;31m#       print (j)\u001b[0m\u001b[1;33m\u001b[0m\u001b[1;33m\u001b[0m\u001b[1;33m\u001b[0m\u001b[0m\n\u001b[0;32m     30\u001b[0m       \u001b[0mprint\u001b[0m \u001b[1;33m(\u001b[0m\u001b[1;33m(\u001b[0m\u001b[0mres\u001b[0m\u001b[1;33m)\u001b[0m\u001b[1;33m,\u001b[0m\u001b[0mend\u001b[0m\u001b[1;33m=\u001b[0m\u001b[1;34m' '\u001b[0m\u001b[1;33m)\u001b[0m\u001b[1;33m\u001b[0m\u001b[1;33m\u001b[0m\u001b[0m\n",
      "\u001b[1;31mIndexError\u001b[0m: list index out of range"
     ]
    }
   ],
   "source": [
    "#Write a python program to find below output using loop:-\n",
    "\n",
    "#Input:- 'peter piper picked a peck of pickled peppers.'\n",
    "#Output:- 'retep repip dekcip a kcep fo delkcip sreppep'\n",
    "\n",
    "inp2='peter piper picked a peck of pickled peppers.'\n",
    "outword=''\n",
    "outlist=[]\n",
    "# print (len(inp2))\n",
    "# print (inp2.index('.'))\n",
    "for i in range (len(inp2)):\n",
    "    if inp2[i]==' ':\n",
    "        outlist+=[outword]\n",
    "        outword=''        \n",
    "        \n",
    "    elif i==(len(inp2)-1):\n",
    "         outword+=inp2[i]\n",
    "         outlist+=[outword]\n",
    "        \n",
    "    else:\n",
    "        outword+=inp2[i]\n",
    "#         outlist+=outword\n",
    "\n",
    "print (outlist)\n",
    "j=0\n",
    "# # print (outlist[0][-1:-(len(outlist)+1):-1])\n",
    "for j in range (0,(len(outlist)+1),1):\n",
    "      res= (outlist[j][-1:-(len(outlist[j])+1):-1])\n",
    "#       print (j)\n",
    "      print ((res),end=' ')\n",
    "    \n",
    "# len(outlist)"
   ]
  },
  {
   "cell_type": "code",
   "execution_count": null,
   "metadata": {
    "id": "HdlAWgT2dnKO"
   },
   "outputs": [
    {
     "name": "stdout",
     "output_type": "stream",
     "text": [
      "Peter Piper Picked A Peck Of Pickled Peppers.\n"
     ]
    }
   ],
   "source": [
    "#Write a python program to find below output using loop:-\n",
    "\n",
    "#Input:- 'peter piper picked a peck of pickled peppers.'\n",
    "#Output:- 'Peter Piper Picked A Peck Of Pickled Peppers'\n",
    "\n",
    "stry='peter piper picked a peck of pickled peppers.'\n",
    "i=0\n",
    "k=''\n",
    "while (i<len(stry)):\n",
    "    if stry[i]=='p':\n",
    "#         k=stry[i].upper()\n",
    "        k=stry.title()\n",
    "#         stry[i]='P'\n",
    "        i=i+1\n",
    "        print (k)\n",
    "# print (stry)\n",
    "\n",
    "# inp2='peter piper picked a peck of pickled peppers.'\n",
    "# outword=''\n",
    "# outlist=[]\n",
    "# # print (len(inp2))\n",
    "# # print (inp2.index('.'))\n",
    "# for i in range (len(inp2)):\n",
    "#     if inp2[i]==' ':\n",
    "#         outlist+=[outword]\n",
    "#         outword=''        \n",
    "        \n",
    "#     elif i==(len(inp2)-1):\n",
    "#          outword+=inp2[i]\n",
    "#          outlist+=[outword]\n",
    "    \n",
    "\n",
    "        \n",
    "#     else:\n",
    "#         if inp2[i]=='p':\n",
    "#             inp2[i]=inp2[i].upper()\n",
    "#     outword+=inp2[i]\n",
    "# #         outlist+=outword\n",
    "\n",
    "# print (outlist)\n",
    "\n"
   ]
  },
  {
   "cell_type": "code",
   "execution_count": 1,
   "metadata": {
    "id": "OthUuacodrNl"
   },
   "outputs": [
    {
     "name": "stdout",
     "output_type": "stream",
     "text": [
      "peter piper picked a peck of pickled peppers.\n"
     ]
    },
    {
     "ename": "KeyboardInterrupt",
     "evalue": "",
     "output_type": "error",
     "traceback": [
      "\u001b[1;31m---------------------------------------------------------------------------\u001b[0m",
      "\u001b[1;31mKeyboardInterrupt\u001b[0m                         Traceback (most recent call last)",
      "\u001b[1;32m<ipython-input-1-bf464fc78d4e>\u001b[0m in \u001b[0;36m<module>\u001b[1;34m\u001b[0m\n\u001b[0;32m      7\u001b[0m \u001b[0mi\u001b[0m\u001b[1;33m=\u001b[0m\u001b[1;36m0\u001b[0m\u001b[1;33m\u001b[0m\u001b[1;33m\u001b[0m\u001b[0m\n\u001b[0;32m      8\u001b[0m \u001b[0mk\u001b[0m\u001b[1;33m=\u001b[0m\u001b[1;34m''\u001b[0m\u001b[1;33m\u001b[0m\u001b[1;33m\u001b[0m\u001b[0m\n\u001b[1;32m----> 9\u001b[1;33m \u001b[1;32mwhile\u001b[0m \u001b[1;33m(\u001b[0m\u001b[0mi\u001b[0m\u001b[1;33m<\u001b[0m\u001b[0mlen\u001b[0m\u001b[1;33m(\u001b[0m\u001b[0mstry\u001b[0m\u001b[1;33m)\u001b[0m\u001b[1;33m)\u001b[0m\u001b[1;33m:\u001b[0m\u001b[1;33m\u001b[0m\u001b[1;33m\u001b[0m\u001b[0m\n\u001b[0m\u001b[0;32m     10\u001b[0m     \u001b[1;32mif\u001b[0m \u001b[0mstry\u001b[0m\u001b[1;33m[\u001b[0m\u001b[0mi\u001b[0m\u001b[1;33m]\u001b[0m\u001b[1;33m==\u001b[0m\u001b[1;34m'P'\u001b[0m\u001b[1;33m:\u001b[0m\u001b[1;33m\u001b[0m\u001b[1;33m\u001b[0m\u001b[0m\n\u001b[0;32m     11\u001b[0m \u001b[1;33m\u001b[0m\u001b[0m\n",
      "\u001b[1;31mKeyboardInterrupt\u001b[0m: "
     ]
    }
   ],
   "source": [
    "#Write a python program to find below output using loop:-\n",
    "\n",
    "#Input:- 'Peter Piper Picked A Peck Of Pickled Peppers.'\n",
    "#Output:- 'Peter piper picked a peck of pickled peppers'\n",
    "\n",
    "stry='Peter Piper Picked a Peck of Pickled Peppers.'\n",
    "i=0\n",
    "k=''\n",
    "while (i<len(stry)):\n",
    "    if stry[i]=='P':\n",
    "        \n",
    "        k=stry.lower()\n",
    "#         stry[i]='P'\n",
    "        i=i+1\n",
    "        print (k)"
   ]
  },
  {
   "cell_type": "code",
   "execution_count": 21,
   "metadata": {
    "colab": {
     "base_uri": "https://localhost:8080/",
     "height": 34
    },
    "id": "scmDJE-ldsI9",
    "outputId": "4b1d1979-9f4a-4bc6-c505-b88b1bbd4d5d"
   },
   "outputs": [
    {
     "ename": "IndexError",
     "evalue": "string index out of range",
     "output_type": "error",
     "traceback": [
      "\u001b[1;31m---------------------------------------------------------------------------\u001b[0m",
      "\u001b[1;31mIndexError\u001b[0m                                Traceback (most recent call last)",
      "\u001b[1;32m<ipython-input-21-9cedd84ccd34>\u001b[0m in \u001b[0;36m<module>\u001b[1;34m\u001b[0m\n\u001b[0;32m     16\u001b[0m \u001b[1;32mfor\u001b[0m \u001b[0mi\u001b[0m \u001b[1;32min\u001b[0m \u001b[0mrange\u001b[0m\u001b[1;33m(\u001b[0m\u001b[0mlen\u001b[0m\u001b[1;33m(\u001b[0m\u001b[0mmy_str1\u001b[0m\u001b[1;33m)\u001b[0m\u001b[1;33m)\u001b[0m\u001b[1;33m:\u001b[0m\u001b[1;33m\u001b[0m\u001b[1;33m\u001b[0m\u001b[0m\n\u001b[0;32m     17\u001b[0m     \u001b[1;32mfor\u001b[0m \u001b[0mj\u001b[0m \u001b[1;32min\u001b[0m \u001b[0mrange\u001b[0m\u001b[1;33m(\u001b[0m\u001b[0mlen\u001b[0m\u001b[1;33m(\u001b[0m\u001b[0msub_str\u001b[0m\u001b[1;33m)\u001b[0m\u001b[1;33m)\u001b[0m\u001b[1;33m:\u001b[0m\u001b[1;33m\u001b[0m\u001b[1;33m\u001b[0m\u001b[0m\n\u001b[1;32m---> 18\u001b[1;33m         \u001b[1;32mif\u001b[0m \u001b[0mmy_str1\u001b[0m\u001b[1;33m[\u001b[0m\u001b[0mi\u001b[0m\u001b[1;33m+\u001b[0m\u001b[0mj\u001b[0m\u001b[1;33m]\u001b[0m\u001b[1;33m!=\u001b[0m\u001b[0msub_str\u001b[0m\u001b[1;33m[\u001b[0m\u001b[0mj\u001b[0m\u001b[1;33m]\u001b[0m\u001b[1;33m:\u001b[0m\u001b[1;33m\u001b[0m\u001b[1;33m\u001b[0m\u001b[0m\n\u001b[0m\u001b[0;32m     19\u001b[0m             \u001b[1;32mpass\u001b[0m\u001b[1;33m\u001b[0m\u001b[1;33m\u001b[0m\u001b[0m\n\u001b[0;32m     20\u001b[0m         \u001b[1;32mif\u001b[0m \u001b[0mj\u001b[0m\u001b[1;33m==\u001b[0m\u001b[0mb\u001b[0m\u001b[1;33m:\u001b[0m\u001b[1;33m\u001b[0m\u001b[1;33m\u001b[0m\u001b[0m\n",
      "\u001b[1;31mIndexError\u001b[0m: string index out of range"
     ]
    }
   ],
   "source": [
    "#Write a python program to implement index method using loop. If sub_str is found in my_str then it will print the index\n",
    "# of first occurrence of first character of matching string in my_str:-\n",
    "\n",
    "#Input:- my_str = 'Peter Piper Picked A Peck Of Pickled Peppers.', sub_str = 'Pickl'\n",
    "#Output:- 29\n",
    "\n",
    "my_str1 = 'Peter Piper Picked A Peck Of Pickled Peppers.'\n",
    "sub_str = 'Pickl'\n",
    "\n",
    "a=len(my_str1)\n",
    "# print (a)\n",
    "b=len(sub_str)\n",
    "# print (b)\n",
    "i=0\n",
    "j=0\n",
    "for i in range(len(my_str1)):\n",
    "    for j in range(len(sub_str)):\n",
    "        if my_str1[i+j]!=sub_str[j]:\n",
    "            pass\n",
    "        if j==b:\n",
    "            print (\"Index is \",i)\n",
    "        \n",
    "\n",
    "            \n",
    "    \n",
    "    \n",
    "        \n",
    " \n",
    "\n",
    "\n",
    "    "
   ]
  },
  {
   "cell_type": "code",
   "execution_count": 28,
   "metadata": {
    "id": "Kq_fwdb_dvYE"
   },
   "outputs": [],
   "source": [
    "#Write a python program to implement replace method using loop. If sub_str is found in my_str then it will replace the first \n",
    "#occurrence of sub_str with new_str else it will will print sub_str not found:-\n",
    "\n",
    "#Input:- my_str = 'Peter Piper Picked A Peck Of Pickled Peppers.', sub_str = 'Peck', new_str = 'Pack'\n",
    "#Output:- 'Peter Piper Picked A Pack Of Pickled Peppers.'\n",
    "\n",
    "my_str='Peter Piper Picked A Peck Of Pickled Peppers.'\n",
    "sub_str='Peck'\n",
    "new_str='Pack'\n",
    "\n",
    "\n",
    "\n"
   ]
  },
  {
   "cell_type": "code",
   "execution_count": 29,
   "metadata": {
    "id": "4Qes5D0cdyd1"
   },
   "outputs": [],
   "source": [
    "#Write a python program to find below output (implements rjust and ljust) using loop:-\n",
    "\n",
    "#Input:- 'Peter Piper Picked A Peck Of Pickled Peppers.', sub_str = 'Peck', \n",
    "#Output:- '*********************Peck********************'\n",
    "\n",
    "\n",
    "\n"
   ]
  },
  {
   "cell_type": "code",
   "execution_count": 30,
   "metadata": {
    "id": "DsOrb07Od0lR"
   },
   "outputs": [],
   "source": [
    "#Write a python program to find below output using loop:-\n",
    "\n",
    "#Input:- 'This is Python class', sep = ' is', \n",
    "#Output:- ['This', 'is', 'Python class']\n",
    "\n",
    "s='This is Python class'\n"
   ]
  },
  {
   "cell_type": "code",
   "execution_count": null,
   "metadata": {
    "id": "jRnBVufmd2Ay"
   },
   "outputs": [],
   "source": [
    "\n",
    "\n"
   ]
  }
 ],
 "metadata": {
  "colab": {
   "name": "Conditional_and_loop_assignment.ipynb",
   "provenance": []
  },
  "kernelspec": {
   "display_name": "Python 3",
   "language": "python",
   "name": "python3"
  },
  "language_info": {
   "codemirror_mode": {
    "name": "ipython",
    "version": 3
   },
   "file_extension": ".py",
   "mimetype": "text/x-python",
   "name": "python",
   "nbconvert_exporter": "python",
   "pygments_lexer": "ipython3",
   "version": "3.7.3"
  }
 },
 "nbformat": 4,
 "nbformat_minor": 1
}
