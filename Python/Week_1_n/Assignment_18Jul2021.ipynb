{
 "cells": [
  {
   "cell_type": "markdown",
   "metadata": {},
   "source": [
    "# Int Assignment "
   ]
  },
  {
   "cell_type": "code",
   "execution_count": null,
   "metadata": {},
   "outputs": [],
   "source": [
    "# 1) Declare an int value and store it in a variable.\n",
    "# Check the type and print the id of the same."
   ]
  },
  {
   "cell_type": "code",
   "execution_count": 1,
   "metadata": {},
   "outputs": [
    {
     "name": "stdout",
     "output_type": "stream",
     "text": [
      "<class 'int'>\n",
      "140717037687904\n"
     ]
    }
   ],
   "source": [
    "a=10\n",
    "print (type(a))\n",
    "print(id(a))"
   ]
  },
  {
   "cell_type": "code",
   "execution_count": null,
   "metadata": {},
   "outputs": [],
   "source": [
    "# 2) Take one int value between 0 - 256.\n",
    "# Assign it to two different variables.\n",
    "# Check the id of both the variables. It should come the same. Check why?"
   ]
  },
  {
   "cell_type": "code",
   "execution_count": 3,
   "metadata": {},
   "outputs": [
    {
     "name": "stdout",
     "output_type": "stream",
     "text": [
      "140717037687776 140717037687776\n"
     ]
    }
   ],
   "source": [
    "b=6\n",
    "c=6\n",
    "print(id(b),id(c))"
   ]
  },
  {
   "cell_type": "raw",
   "metadata": {},
   "source": [
    "Due to object reusability concept"
   ]
  },
  {
   "cell_type": "code",
   "execution_count": null,
   "metadata": {},
   "outputs": [],
   "source": [
    "# 3) Take one int value either less than -5 or greater than 256.\n",
    "# Assign it to two different variables.\n",
    "# Check the id of both the variables. It should come different.Check why?"
   ]
  },
  {
   "cell_type": "code",
   "execution_count": 4,
   "metadata": {},
   "outputs": [
    {
     "name": "stdout",
     "output_type": "stream",
     "text": [
      "2425067007824 2425067003952\n"
     ]
    }
   ],
   "source": [
    "e=-6\n",
    "f=-6\n",
    "print (id(e), id(f))"
   ]
  },
  {
   "cell_type": "raw",
   "metadata": {},
   "source": [
    "Object reusability is valid for integers between -5 to 256"
   ]
  },
  {
   "cell_type": "code",
   "execution_count": null,
   "metadata": {},
   "outputs": [],
   "source": [
    "# 4) Arithmetic Operations on integers\n",
    "# Take two different integer values.\n",
    "# Store them in two different variables.\n",
    "# Do below operations on them:-\n",
    "# Find sum of both numbers\n",
    "# Find difference between them\n",
    "# Find the product of both numbers.\n",
    "# Find value after dividing first num with second number\n",
    "# Find the remainder after dividing first number with second number\n",
    "# Find the quotient after dividing first number with second number\n",
    "# Find the result of the first num to the power of the second number."
   ]
  },
  {
   "cell_type": "code",
   "execution_count": 5,
   "metadata": {},
   "outputs": [
    {
     "name": "stdout",
     "output_type": "stream",
     "text": [
      "155\n",
      "-43\n",
      "5544\n",
      "0.5656565656565656\n",
      "56\n",
      "0\n",
      "117656160977043387098109857557099227299025734465841483704988966155941634000127080177045901229870310720823705555067862020396147534858717596439503973663849722824218135909892096\n"
     ]
    }
   ],
   "source": [
    "int1=56\n",
    "int2=99\n",
    "print (int1+int2)\n",
    "print (int1-int2)\n",
    "print (int1*int2)\n",
    "print (int1/int2)\n",
    "print (int1%int2)\n",
    "print (int1//int2)\n",
    "print (int1**int2)"
   ]
  },
  {
   "cell_type": "code",
   "execution_count": null,
   "metadata": {},
   "outputs": [],
   "source": [
    "# 5) Comparison Operators on integers\n",
    "# Take two different integer values.\n",
    "# Store them in two different variables.\n",
    "# Do below operations on them:-\n",
    "# Compare se two numbers with below operator:-\n",
    "# Greater than, '>'\n",
    "# Smaller than, '<'\n",
    "# Greater than or equal to, '>='\n",
    "# Less than or equal to, '<='\n",
    "# Observe their output(return type should be boolean)"
   ]
  },
  {
   "cell_type": "code",
   "execution_count": 8,
   "metadata": {},
   "outputs": [
    {
     "name": "stdout",
     "output_type": "stream",
     "text": [
      "False\n",
      "True\n",
      "False\n",
      "True\n"
     ]
    }
   ],
   "source": [
    "g=6\n",
    "h=8\n",
    "print(g>h)\n",
    "print (g<h)\n",
    "print (g>=h)\n",
    "print (g<=h)"
   ]
  },
  {
   "cell_type": "code",
   "execution_count": null,
   "metadata": {},
   "outputs": [],
   "source": [
    "# 6) Equality Operator\n",
    "# Take two different integer values.\n",
    "# Store them in two different variables.\n",
    "# Equate them using equality operators (==, !=)\n",
    "# Observe the output(return type should be boolean)"
   ]
  },
  {
   "cell_type": "code",
   "execution_count": 9,
   "metadata": {},
   "outputs": [
    {
     "name": "stdout",
     "output_type": "stream",
     "text": [
      "False\n",
      "True\n"
     ]
    }
   ],
   "source": [
    "n=4\n",
    "m=6\n",
    "print (n==m)\n",
    "print (n!=m)"
   ]
  },
  {
   "cell_type": "code",
   "execution_count": null,
   "metadata": {},
   "outputs": [],
   "source": [
    "# 7) Logical operators\n",
    "# Observe the output of below code\n",
    "# Cross check the output manually\n",
    "# print ( 10 and 20 )\n",
    "# #----------------------------------------->Output is 20\n",
    "# print ( 0 and 20 )\n",
    "# #----------------------------------------->Output is 0\n",
    "# print ( 20 and 0 )\n",
    "# #----------------------------------------->Output is 0\n",
    "# print ( 0 and 0 )\n",
    "# #----------------------------------------->Output is 0\n",
    "# print ( 10 or 20 )\n",
    "# #----------------------------------------->Output is 10\n",
    "# print ( 0 or 20 )\n",
    "# #----------------------------------------->Output is 20\n",
    "# print ( 20 or 0 )\n",
    "# #----------------------------------------->Output is 20\n",
    "# print ( 0 or 0 )\n",
    "# #----------------------------------------->Output is 0\n",
    "# print ( not 10 )\n",
    "# #----------------------------------------->Output is False\n",
    "# print ( not 0 )\n",
    "# #----------------------------------------->Output is True"
   ]
  },
  {
   "cell_type": "code",
   "execution_count": 24,
   "metadata": {},
   "outputs": [
    {
     "name": "stdout",
     "output_type": "stream",
     "text": [
      "20\n",
      "0\n",
      "0\n",
      "0\n",
      "10\n",
      "20\n",
      "20\n",
      "0\n",
      "False\n",
      "True\n"
     ]
    }
   ],
   "source": [
    "print (10 and 20)\n",
    "print (0 and 20)\n",
    "print (20 and 0)\n",
    "print (0 and 0)\n",
    "print (10 or 20)\n",
    "print (0 or 20)\n",
    "print (20 or 0)\n",
    "print (0 or 0)\n",
    "print (not 10)\n",
    "print (not 0)"
   ]
  },
  {
   "cell_type": "code",
   "execution_count": null,
   "metadata": {},
   "outputs": [],
   "source": [
    "# 8) Bitwise Operators\n",
    "# Do below operations on the values provided below:-\n",
    "# Bitwise and(&) -----------------------------------------> 10, 20\n",
    "# -------> Output is 0\n",
    "# Bitwise or(|) -----------------------------------------> 10, 20\n",
    "# -------> Output is 30\n",
    "# Bitwise(^) -----------------------------------------> 10, 20\n",
    "# -------> Output is 30\n",
    "# Bitwise negation(~) ------------------------------------> 10\n",
    "# -------> Output is -11\n",
    "# Bitwise left shift ------------------------------------> 10,2\n",
    "# -------> Output is 40\n",
    "# Bitwise right shift ------------------------------------> 10,2\n",
    "# -------> Output is 2\n",
    "# Cross check the output manually"
   ]
  },
  {
   "cell_type": "code",
   "execution_count": 39,
   "metadata": {},
   "outputs": [
    {
     "name": "stdout",
     "output_type": "stream",
     "text": [
      "0\n",
      "0b1010\n",
      "0b10100\n",
      "0b11110\n",
      "30\n",
      "30\n",
      "-11\n",
      "40\n",
      "0b101000\n",
      "2\n",
      "0b10\n"
     ]
    }
   ],
   "source": [
    "print (10 & 20)\n",
    "print (bin (10))\n",
    "print (bin (20))\n",
    "print (bin (30))\n",
    "print (10|20)\n",
    "print (10^20)\n",
    "print (~10)\n",
    "print (10<<2)\n",
    "print (bin(40))\n",
    "print (10>>2)\n",
    "print (bin(2))"
   ]
  },
  {
   "cell_type": "code",
   "execution_count": null,
   "metadata": {},
   "outputs": [],
   "source": [
    "# 9) What is the output of expression inside print statement. Cross check\n",
    "# before running the program.\n",
    "# a = 10\n",
    "# b = 10\n",
    "# print(a is b) #True or False?\n",
    "# print(a is not b) #True or False?\n",
    "# a = 1000\n",
    "# b = 1000\n",
    "# print(a is b) #True or False?\n",
    "# print(a is not b) #True or False?"
   ]
  },
  {
   "cell_type": "code",
   "execution_count": 40,
   "metadata": {},
   "outputs": [
    {
     "name": "stdout",
     "output_type": "stream",
     "text": [
      "True\n",
      "False\n"
     ]
    }
   ],
   "source": [
    "a=10\n",
    "b=10\n",
    "print (a is b)\n",
    "print (a is not b)"
   ]
  },
  {
   "cell_type": "code",
   "execution_count": 41,
   "metadata": {},
   "outputs": [
    {
     "name": "stdout",
     "output_type": "stream",
     "text": [
      "False\n",
      "True\n"
     ]
    }
   ],
   "source": [
    "a=1000\n",
    "b=1000\n",
    "print (a is b)\n",
    "print (a is not b)"
   ]
  },
  {
   "cell_type": "code",
   "execution_count": null,
   "metadata": {},
   "outputs": [],
   "source": [
    "##  10) What is the output of expression inside print statement. Cross check\n",
    "## before running the program.\n",
    "## print ( 10 +( 10 * 32 )// 2 ** 5 & 20 +(~( -10 ))<< 2 )"
   ]
  },
  {
   "cell_type": "code",
   "execution_count": 1,
   "metadata": {},
   "outputs": [
    {
     "name": "stdout",
     "output_type": "stream",
     "text": [
      "20\n"
     ]
    }
   ],
   "source": [
    "print ( 10 +( 10 * 32 )// 2 ** 5 & 20 +(~( -10 ))<< 2 )"
   ]
  },
  {
   "cell_type": "code",
   "execution_count": null,
   "metadata": {},
   "outputs": [],
   "source": [
    "# 11) Membership operation\n",
    "# in, not in are two membership operators and it returns boolean value\n",
    "# print ( '2' in 'Python2.7.8' )\n",
    "# print ( 10 in [ 10 , 10.20 , 10 + 20j , 'Python' ])\n",
    "# print ( 10 in ( 10 , 10.20 , 10 + 20j , 'Python' ))\n",
    "# print ( 2 in { 1 , 2 , 3 })\n",
    "# print ( 3 in { 1 : 100 , 2 : 200, 3:300})\n",
    "# print ( 10 in range ( 20 ))"
   ]
  },
  {
   "cell_type": "code",
   "execution_count": 57,
   "metadata": {},
   "outputs": [
    {
     "name": "stdout",
     "output_type": "stream",
     "text": [
      "True\n",
      "True\n",
      "True\n",
      "True\n",
      "True\n",
      "True\n"
     ]
    }
   ],
   "source": [
    "print ('2' in 'Python2.7.8')\n",
    "print (10 in [10, 10.20, 10+20j, 'Python'])\n",
    "print (10 in (10, 10.20, 10+20j, \"Python\"))\n",
    "print (2 in {1,2,3})\n",
    "print (3 in {1:100, 2:200, 3:300})\n",
    "print (10 in range (20))"
   ]
  },
  {
   "cell_type": "code",
   "execution_count": null,
   "metadata": {},
   "outputs": [],
   "source": [
    "# 12) An integer can be represented in binary, octal or hexadecimal form.\n",
    "# Declare one binary, one octal and one hexadecimal value and store them\n",
    "# in three different variables.\n",
    "# Convert 9876 to its binary, octal and hexadecimal equivalent and print\n",
    "# their corresponding value."
   ]
  },
  {
   "cell_type": "code",
   "execution_count": 59,
   "metadata": {},
   "outputs": [
    {
     "name": "stdout",
     "output_type": "stream",
     "text": [
      "10 28 175\n",
      "0b10011010010100 0o23224 0x2694\n"
     ]
    }
   ],
   "source": [
    "bi=0b1010\n",
    "oc=0o34\n",
    "hx=0xaf\n",
    "print (bi,oc,hx)\n",
    "print (bin(9876), oct(9876), hex(9876))"
   ]
  },
  {
   "cell_type": "code",
   "execution_count": null,
   "metadata": {},
   "outputs": [],
   "source": [
    "# Q. What will be the output of following:-\n",
    "# a = 0 b1010000\n",
    "# print (a)\n",
    "# b = 0 o7436\n",
    "# print (b)\n",
    "# c = 0x fade\n",
    "# print (c)\n",
    "# print ( bin ( 80 ))\n",
    "# print ( oct ( 3870 ))\n",
    "# print ( hex ( 64222 ))\n",
    "# print ( bin ( 0 b1010000))\n",
    "# print ( bin ( 0x fade ))\n",
    "# print ( oct ( 0x fade ))\n",
    "# print ( oct ( 0 o7436))\n",
    "# print ( hex ( 0 b1010000))\n",
    "# print ( hex ( 0x fade ))"
   ]
  },
  {
   "cell_type": "code",
   "execution_count": 60,
   "metadata": {},
   "outputs": [
    {
     "name": "stdout",
     "output_type": "stream",
     "text": [
      "80\n"
     ]
    }
   ],
   "source": [
    "a=0b1010000\n",
    "print (a)"
   ]
  },
  {
   "cell_type": "code",
   "execution_count": 61,
   "metadata": {},
   "outputs": [
    {
     "name": "stdout",
     "output_type": "stream",
     "text": [
      "3870\n"
     ]
    }
   ],
   "source": [
    "b=0o7436\n",
    "print (b)"
   ]
  },
  {
   "cell_type": "code",
   "execution_count": 62,
   "metadata": {},
   "outputs": [
    {
     "name": "stdout",
     "output_type": "stream",
     "text": [
      "64222\n"
     ]
    }
   ],
   "source": [
    "c=0xfade\n",
    "print (c)"
   ]
  },
  {
   "cell_type": "code",
   "execution_count": 63,
   "metadata": {},
   "outputs": [
    {
     "name": "stdout",
     "output_type": "stream",
     "text": [
      "0b1010000\n",
      "0o7436\n",
      "0xfade\n"
     ]
    }
   ],
   "source": [
    "print (bin(80))\n",
    "print (oct(3870))\n",
    "print (hex(64222))"
   ]
  },
  {
   "cell_type": "code",
   "execution_count": 64,
   "metadata": {},
   "outputs": [
    {
     "name": "stdout",
     "output_type": "stream",
     "text": [
      "0b1010000\n"
     ]
    }
   ],
   "source": [
    "print (bin(0b1010000))"
   ]
  },
  {
   "cell_type": "code",
   "execution_count": 75,
   "metadata": {},
   "outputs": [
    {
     "name": "stdout",
     "output_type": "stream",
     "text": [
      "0b1111101011011110\n",
      "0o175336\n",
      "0o7436\n",
      "0x50\n",
      "0xfade\n"
     ]
    }
   ],
   "source": [
    "print (bin(0xfade))\n",
    "print (oct(0xfade))\n",
    "print (oct(0o7436))\n",
    "print (hex(0b1010000))\n",
    "print (hex(0xfade))"
   ]
  },
  {
   "cell_type": "code",
   "execution_count": null,
   "metadata": {},
   "outputs": [],
   "source": []
  },
  {
   "cell_type": "markdown",
   "metadata": {},
   "source": [
    "# Float Assignment"
   ]
  },
  {
   "cell_type": "code",
   "execution_count": null,
   "metadata": {},
   "outputs": [],
   "source": [
    "# 1) Declare a float value and store it in a variable.\n",
    "# Check the type and print the id of the same."
   ]
  },
  {
   "cell_type": "code",
   "execution_count": 76,
   "metadata": {},
   "outputs": [
    {
     "name": "stdout",
     "output_type": "stream",
     "text": [
      "<class 'float'>\n",
      "2425067042088\n"
     ]
    }
   ],
   "source": [
    "fl=4.6\n",
    "print(type(fl))\n",
    "print (id(fl))"
   ]
  },
  {
   "cell_type": "code",
   "execution_count": null,
   "metadata": {},
   "outputs": [],
   "source": [
    "# 2) Arithmetic Operations on float\n",
    "# Take two different float values.\n",
    "# Store them in two different variables.\n",
    "# Do below operations on them:-\n",
    "# Find sum of both numbers\n",
    "# Find difference between them\n",
    "# Find the product of both numbers.\n",
    "# Find value after dividing first num with second number\n",
    "# Find the remainder after dividing first number with second number\n",
    "# Find the quotient after dividing first number with second number\n",
    "# Find the result of the first num to the power of the second number."
   ]
  },
  {
   "cell_type": "code",
   "execution_count": 85,
   "metadata": {},
   "outputs": [
    {
     "name": "stdout",
     "output_type": "stream",
     "text": [
      "9.92\n",
      "-8.12\n",
      "8.118\n",
      "0.09977827050997784\n",
      "0.9\n",
      "0.0\n",
      "0.3866049720846425\n"
     ]
    }
   ],
   "source": [
    "no1=0.9\n",
    "no2=9.02\n",
    "print(no1+no2)\n",
    "print(no1-no2)\n",
    "print (no1*no2)\n",
    "print (no1/no2)\n",
    "print (no1%no2)\n",
    "print (no1//no2)\n",
    "print (no1**no2)"
   ]
  },
  {
   "cell_type": "code",
   "execution_count": null,
   "metadata": {},
   "outputs": [],
   "source": [
    "# 3) Comparison Operators on float\n",
    "# Take two different float values.\n",
    "# Store them in two different variables.\n",
    "# Do below operations on them:-\n",
    "# Compare these two numbers with below operator:-\n",
    "# Greater than, '>'\n",
    "# Smaller than, '<'\n",
    "# Greater than or equal to, '>='\n",
    "# Less than or equal to, '<='\n",
    "# Observe their output(return type should be boolean)"
   ]
  },
  {
   "cell_type": "code",
   "execution_count": 86,
   "metadata": {},
   "outputs": [
    {
     "name": "stdout",
     "output_type": "stream",
     "text": [
      "False\n",
      "True\n",
      "False\n",
      "True\n"
     ]
    }
   ],
   "source": [
    "va1=7.9\n",
    "va2=9.7\n",
    "print (va1>va2)\n",
    "print (va1<va2)\n",
    "print (va1>=va2)\n",
    "print (va1<=va2)"
   ]
  },
  {
   "cell_type": "code",
   "execution_count": null,
   "metadata": {},
   "outputs": [],
   "source": [
    "# 4) Equality Operator\n",
    "# Take two different float values.\n",
    "# Store them in two different variables.\n",
    "# Equate them using equality operators (==, !=)\n",
    "# Observe the output(return type should be boolean)"
   ]
  },
  {
   "cell_type": "code",
   "execution_count": 87,
   "metadata": {},
   "outputs": [
    {
     "name": "stdout",
     "output_type": "stream",
     "text": [
      "False\n",
      "True\n"
     ]
    }
   ],
   "source": [
    "r=5.9\n",
    "s=9.1\n",
    "print (r==s)\n",
    "print (r!=s)"
   ]
  },
  {
   "cell_type": "code",
   "execution_count": null,
   "metadata": {},
   "outputs": [],
   "source": [
    "# 5) Logical operators\n",
    "# Observe the output of below code\n",
    "# Cross check the output manually\n",
    "# print ( 10.20 and 20.30 ) #both are true and second value taken\n",
    "# >Output is 20.3\n",
    "# print ( 0.0 and 20.30 ) #First is false so first value\n",
    "# taken->Output is 0.0\n",
    "# print ( 20.30 and 0.0 ) #Goes to till second and second value is\n",
    "# false so second is taken>Output is 0.0\n",
    "# print ( 0.0 and 0.0 ) #First is false so first value is\n",
    "# taken->Output is 0.0\n",
    "# print ( 10.20 or 20.30 ) #First is True so first value is\n",
    "# taken>Output is 10.2\n",
    "# print ( 0.0 or 20.30 ) #Goes to till second and second is true\n",
    "# second value is taken->Output is 20.3\n",
    "# print ( 20.30 or 0.0 ) #First is True so first value is\n",
    "# taken->Output is 20.3\n",
    "# print ( 0.0 or 0.0 ) #Goes to till second and second is also\n",
    "# false and second value is taken>Output is 0.0\n",
    "# print ( not 10.20 ) #-Not of true is false->Output is False\n",
    "# print ( not 0.0 ) #Not of false is True>Output is True"
   ]
  },
  {
   "cell_type": "code",
   "execution_count": 100,
   "metadata": {},
   "outputs": [
    {
     "name": "stdout",
     "output_type": "stream",
     "text": [
      "20.3\n",
      "0.0\n",
      "0.0\n",
      "0.0\n",
      "10.2\n",
      "20.3\n",
      "20.3\n",
      "0.0\n",
      "False\n",
      "True\n"
     ]
    }
   ],
   "source": [
    "print (10.20 and 20.30)\n",
    "print (0.0 and 20.30)\n",
    "print (20.30 and 0.0)\n",
    "print (0.0 and 0.0)\n",
    "print (10.20 or 20.30)\n",
    "print (0.0 or 20.30)\n",
    "print (20.30 or 0.0)\n",
    "print (0.0 or 0.0)\n",
    "print (not 10.20)\n",
    "print (not 0.0)"
   ]
  },
  {
   "cell_type": "code",
   "execution_count": null,
   "metadata": {},
   "outputs": [],
   "source": [
    "# 6) What is the output of expression inside print statement. Cross check\n",
    "# before running the program.\n",
    "# a = 10.20\n",
    "# b - 10.20\n",
    "# print (a is b) #True or False? True 10.20<256\n",
    "# print (a is not b) #True or False? False\n",
    "# Why the Id of float values are different when the same value is\n",
    "# assigned to two different variables\n",
    "# ex: a = 10.5 b=10.5. but id will be same if I assign the variable\n",
    "# having float i.e. a=c then both a and c's Id are same"
   ]
  },
  {
   "cell_type": "code",
   "execution_count": 104,
   "metadata": {},
   "outputs": [
    {
     "name": "stdout",
     "output_type": "stream",
     "text": [
      "False\n",
      "True\n"
     ]
    }
   ],
   "source": [
    "a=10.20\n",
    "b=10.20\n",
    "print (a is b)\n",
    "print (a is not b)"
   ]
  },
  {
   "cell_type": "raw",
   "metadata": {},
   "source": [
    "Object reusability is not applicable for float data types.\n",
    "When you assign a=c, you are assigning the value in a to c and hence they have the same memory id."
   ]
  },
  {
   "cell_type": "code",
   "execution_count": 106,
   "metadata": {},
   "outputs": [
    {
     "name": "stdout",
     "output_type": "stream",
     "text": [
      "True\n"
     ]
    }
   ],
   "source": [
    "a=10.5\n",
    "b=10.5\n",
    "a=c\n",
    "print (a is c)"
   ]
  },
  {
   "cell_type": "code",
   "execution_count": null,
   "metadata": {},
   "outputs": [],
   "source": [
    "# 7) Bitwise operation is not applicable between instances of float.\n",
    "# Why the Id of float values are different when the same value is\n",
    "# assigned to two different variables\n",
    "# ex: a = 10.5 b=10.5. but id will be same if I assign the variable\n",
    "# having float i.e. a=c then both a and c's Id are same\n",
    "# Object reusability concept is not applicable on float values."
   ]
  },
  {
   "cell_type": "code",
   "execution_count": 110,
   "metadata": {},
   "outputs": [
    {
     "name": "stdout",
     "output_type": "stream",
     "text": [
      "2425067044776\n",
      "2425068540024\n",
      "2425067044776\n"
     ]
    }
   ],
   "source": [
    "ax=10.5\n",
    "bx=10.5\n",
    "print (id(ax))\n",
    "print (id(bx))\n",
    "cx=ax\n",
    "print (id(cx))"
   ]
  },
  {
   "cell_type": "code",
   "execution_count": null,
   "metadata": {},
   "outputs": [],
   "source": [
    "# 8) Membership operation\n",
    "# in, not in are two membership operators and it returns boolean value\n",
    "# print ( '2.7' in 'Python2.7.8' ) #True\n",
    "# print ( 10.20 in [ 10 , 10.20 , 10 + 20j , 'Python' ]) #True\n",
    "# print ( 10.20 in ( 10 , 10.20 , 10 + 20j , 'Python' )) # True\n",
    "# print ( 20.30 in { 1 , 20.30 , 30 + 40j }) # True\n",
    "# print ( 2.3 in { 1 : 100 , 2.3 : 200 , 30 + 40j : 300 }) # True\n",
    "# print ( 10 in range ( 20 )) # True"
   ]
  },
  {
   "cell_type": "code",
   "execution_count": 116,
   "metadata": {},
   "outputs": [
    {
     "name": "stdout",
     "output_type": "stream",
     "text": [
      "True\n",
      "True\n",
      "True\n",
      "True\n",
      "True\n",
      "True\n"
     ]
    }
   ],
   "source": [
    "print ('2.7' in 'Python2.7.8')\n",
    "print (10.20 in [10, 10.20, 10+20j, 'Python'])\n",
    "print (10.20 in (10, 10.20, 10+20j, \"Python\"))\n",
    "print (20.30 in {1, 20.30, 30+40j})\n",
    "print (2.3 in {1:100, 2.3:200, 30+40j:300})\n",
    "print (10 in range(20))"
   ]
  },
  {
   "cell_type": "code",
   "execution_count": null,
   "metadata": {},
   "outputs": [],
   "source": []
  },
  {
   "cell_type": "markdown",
   "metadata": {},
   "source": [
    "# Complex Assignment"
   ]
  },
  {
   "cell_type": "code",
   "execution_count": null,
   "metadata": {},
   "outputs": [],
   "source": [
    "# 1) Declare a complex number and store it in a variable.\n",
    "# Check the type and print the id of the same."
   ]
  },
  {
   "cell_type": "code",
   "execution_count": 117,
   "metadata": {},
   "outputs": [
    {
     "name": "stdout",
     "output_type": "stream",
     "text": [
      "<class 'complex'> 2425067007120\n"
     ]
    }
   ],
   "source": [
    "com=15+4j\n",
    "print (type(com), id (com))"
   ]
  },
  {
   "cell_type": "code",
   "execution_count": null,
   "metadata": {},
   "outputs": [],
   "source": [
    "# 2) Arithmetic Operations on complex number\n",
    "# Take two different complex numbers.\n",
    "# Store them in two different variables.\n",
    "# Do below operations on them:-\n",
    "# Find sum of both numbers\n",
    "# Find difference between them\n",
    "# Find the product of both numbers.\n",
    "# Find value after dividing first num with second number\n",
    "# Find the result of the first num to the power of the second number."
   ]
  },
  {
   "cell_type": "code",
   "execution_count": 120,
   "metadata": {},
   "outputs": [
    {
     "name": "stdout",
     "output_type": "stream",
     "text": [
      "(20-2j)\n",
      "(10+10j)\n",
      "(99-70j)\n",
      "(0.8360655737704917+1.80327868852459j)\n",
      "(-3656388.7072991263-2275010.7763021523j)\n"
     ]
    }
   ],
   "source": [
    "q=15+4j\n",
    "z=5-6j\n",
    "print (q+z)\n",
    "print (q-z)\n",
    "print (q*z)\n",
    "print (q/z)\n",
    "print (q**z)"
   ]
  },
  {
   "cell_type": "code",
   "execution_count": null,
   "metadata": {},
   "outputs": [],
   "source": [
    "# 3) Comparison Operation not applicable between instance of complex\n",
    "# values.\n",
    "# Object reusability concept is not applicable on complex number"
   ]
  },
  {
   "cell_type": "code",
   "execution_count": null,
   "metadata": {},
   "outputs": [],
   "source": [
    "# 4) Equality Operator\n",
    "# Take two different complex numbers.\n",
    "# Store them in two different variables.\n",
    "# Equate them using equality operators (==, !=)\n",
    "# Observe the output(return type should be boolean)\n",
    "\n"
   ]
  },
  {
   "cell_type": "code",
   "execution_count": 122,
   "metadata": {},
   "outputs": [
    {
     "name": "stdout",
     "output_type": "stream",
     "text": [
      "False\n",
      "True\n"
     ]
    }
   ],
   "source": [
    "plex1= 3+4j\n",
    "plex2= 6+7j\n",
    "print (plex1==plex2)\n",
    "print (plex1!=plex2)"
   ]
  },
  {
   "cell_type": "code",
   "execution_count": null,
   "metadata": {},
   "outputs": [],
   "source": [
    "# 5) Logical operators\n",
    "# Observe the output of below code\n",
    "# Cross check the output manually\n",
    "# print ( 10 + 20j and 20 + 30j ) #20+30j\n",
    "# #----------------------------------------->Output is 20+30j\n",
    "# print ( 0 + 0j and 20 + 30j ) #0+0j\n",
    "# #----------------------------------------->Output is 0j\n",
    "# print ( 20 + 30j and 0 + 0j ) #0+0j\n",
    "# #----------------------------------------->Output is 0j\n",
    "# print ( 0 + 0j and 0 + 0j ) #0+0j\n",
    "# #----------------------------------------->Output is 0j\n",
    "# print ( 10 + 20j or 20 + 30j ) #10+20j\n",
    "# #----------------------------------------->Output is 10+20j\n",
    "# print ( 0 + 0j or 20 + 30j ) #20+30j\n",
    "# #----------------------------------------->Output is 20+30j\n",
    "# print ( 20 + 30j or 0 + 0j ) #20+30j\n",
    "# #----------------------------------------->Output is 20+30j\n",
    "# print ( 0 + 0j or 0 + 0j ) #0+0j\n",
    "# #----------------------------------------->Output is 0j\n",
    "# print ( not 10 + 20j ) #False\n",
    "# #----------------------------------------->Output is False\n",
    "# print ( not 0 + 0j ) #True\n",
    "# #----------------------------------------->Output is True"
   ]
  },
  {
   "cell_type": "code",
   "execution_count": 132,
   "metadata": {},
   "outputs": [
    {
     "name": "stdout",
     "output_type": "stream",
     "text": [
      "(20+30j)\n",
      "0j\n",
      "0j\n",
      "0j\n",
      "(10+20j)\n",
      "(20+30j)\n",
      "(20+30j)\n",
      "0j\n",
      "False\n",
      "True\n"
     ]
    }
   ],
   "source": [
    "print (10+20j and 20+30j)\n",
    "print(0+0j and 20+30j)\n",
    "print (20+30j and 0+0j)\n",
    "print (0+0j and 0+0j)\n",
    "print (10+20j or 20+30j)\n",
    "print (0+0j or 20+30j)\n",
    "print (20+30j or 0+0j)\n",
    "print (0+0j or 0+0j)\n",
    "print (not 10+20j)\n",
    "print (not 0+0j)"
   ]
  },
  {
   "cell_type": "code",
   "execution_count": null,
   "metadata": {},
   "outputs": [],
   "source": [
    "# 6) What is the output of the expression inside the print statement.\n",
    "# Cross check before running the program.\n",
    "# a = 10 + 20j\n",
    "# b = 10 + 20j\n",
    "# print (a is b) #False #True or False?\n",
    "# print (a is not b) #True #True or False?"
   ]
  },
  {
   "cell_type": "code",
   "execution_count": 133,
   "metadata": {},
   "outputs": [
    {
     "name": "stdout",
     "output_type": "stream",
     "text": [
      "False\n",
      "True\n"
     ]
    }
   ],
   "source": [
    "a=10+20j\n",
    "b=10+20j\n",
    "print (a is b)\n",
    "print ( a is not b)"
   ]
  },
  {
   "cell_type": "code",
   "execution_count": null,
   "metadata": {},
   "outputs": [],
   "source": [
    "# 7) Membership operation\n",
    "# in, not in are two membership operators and it returns boolean value\n",
    "# print ( '2.7' in 'Python2.7.8' ) #True\n",
    "# print ( 10 + 20j in [ 10 , 10.20 , 10 + 20j , 'Python' ]) #True\n",
    "# print ( 10 + 20j in ( 10 , 10.20 , 10 + 20j , 'Python' )) #True\n",
    "# print ( 30 + 40j in { 1 , 20.30 , 30 + 40j }) #True\n",
    "# print ( 30 + 40j in { 1 : 100 , 2.3 : 200 , 30 + 40j : 300 }) #True\n",
    "# print ( 10 in range ( 20 )) #True"
   ]
  },
  {
   "cell_type": "code",
   "execution_count": 137,
   "metadata": {},
   "outputs": [
    {
     "name": "stdout",
     "output_type": "stream",
     "text": [
      "True\n",
      "True\n",
      "True\n",
      "True\n",
      "True\n",
      "True\n"
     ]
    }
   ],
   "source": [
    "print ('2.7' in 'Python2.7.8')\n",
    "print (10+20j in [10, 10.20, 10+20j, 'Python'])\n",
    "print (10+20j in (10, 10.20, 10+20j, 'Python'))\n",
    "print(30+40j in {1, 20.30, 30+40j})\n",
    "print (30+40j in {1:100, 2.3:200, 30+40j:300})\n",
    "print (10 in range (20))"
   ]
  },
  {
   "cell_type": "code",
   "execution_count": null,
   "metadata": {},
   "outputs": [],
   "source": []
  },
  {
   "cell_type": "markdown",
   "metadata": {},
   "source": [
    "# Boolean Assignment"
   ]
  },
  {
   "cell_type": "code",
   "execution_count": null,
   "metadata": {},
   "outputs": [],
   "source": [
    "# 1) Declare a boolean value and store it in a variable.\n",
    "# Check the type and print the id of the same."
   ]
  },
  {
   "cell_type": "code",
   "execution_count": 138,
   "metadata": {},
   "outputs": [
    {
     "name": "stdout",
     "output_type": "stream",
     "text": [
      "<class 'bool'> 140717037164880\n"
     ]
    }
   ],
   "source": [
    "mimi=True\n",
    "print (type(mimi), id (mimi))"
   ]
  },
  {
   "cell_type": "code",
   "execution_count": null,
   "metadata": {},
   "outputs": [],
   "source": [
    "# 2) Take one boolean value between 0 - 256.\n",
    "# Assign it to two different variables.\n",
    "# Check the id of both the variables. It should come the same. Check why?"
   ]
  },
  {
   "cell_type": "code",
   "execution_count": 141,
   "metadata": {},
   "outputs": [
    {
     "name": "stdout",
     "output_type": "stream",
     "text": [
      "140717037687584 140717037687584\n",
      "140717037164880 140717037164880\n"
     ]
    }
   ],
   "source": [
    "i=0\n",
    "v=0\n",
    "print (id(i), id(v))\n",
    "ib=True\n",
    "vb=True\n",
    "print (id(ib), id (vb))"
   ]
  },
  {
   "cell_type": "code",
   "execution_count": null,
   "metadata": {},
   "outputs": [],
   "source": [
    "# 3) Arithmetic Operations on boolean data\n",
    "# Take two different boolean values.\n",
    "# Store them in two different variables.\n",
    "# Do below operations on them:-\n",
    "# Find sum of both values\n",
    "# Find difference between them\n",
    "# Find the product of both.\n",
    "# Find value after dividing first value with second value\n",
    "# Find the remainder after dividing first value with second value\n",
    "# Find the quotient after dividing first value with second value\n",
    "# Find the result of first value to the power of second value."
   ]
  },
  {
   "cell_type": "code",
   "execution_count": 155,
   "metadata": {},
   "outputs": [
    {
     "name": "stdout",
     "output_type": "stream",
     "text": [
      "1\n",
      "-1\n",
      "0\n",
      "0.0\n",
      "0\n",
      "0\n",
      "0\n"
     ]
    }
   ],
   "source": [
    "y=False\n",
    "t=True\n",
    "print (y+t)\n",
    "print (y-t)\n",
    "print (y*t)\n",
    "print (y/t)\n",
    "print (y%t)\n",
    "print(y//t)\n",
    "print (y**t)"
   ]
  },
  {
   "cell_type": "code",
   "execution_count": null,
   "metadata": {},
   "outputs": [],
   "source": [
    "# 4) Comparison Operators on boolean values\n",
    "# Take two different boolean values.\n",
    "# Store them in two different variables.\n",
    "# Do below operations on them:-\n",
    "# Compare these two values with below operator:-\n",
    "# Greater than, '>'\n",
    "# less than, '<'\n",
    "# Greater than or equal to, '>='\n",
    "# Less than or equal to, '<='\n",
    "# # Observe their output(return type should be boolean)"
   ]
  },
  {
   "cell_type": "code",
   "execution_count": 156,
   "metadata": {},
   "outputs": [
    {
     "name": "stdout",
     "output_type": "stream",
     "text": [
      "True\n",
      "False\n",
      "True\n",
      "False\n"
     ]
    }
   ],
   "source": [
    "p=True\n",
    "k=False\n",
    "print (p>k)\n",
    "print (p<k)\n",
    "print (p>=k)\n",
    "print (p<=k)"
   ]
  },
  {
   "cell_type": "code",
   "execution_count": null,
   "metadata": {},
   "outputs": [],
   "source": [
    "# 5) Equality Operator\n",
    "# Take two different boolean values.\n",
    "# Store them in two different variables.\n",
    "# Equate them using equality operators (==, !=)\n",
    "# Observe the output(return type should be boolean)"
   ]
  },
  {
   "cell_type": "code",
   "execution_count": 157,
   "metadata": {},
   "outputs": [
    {
     "name": "stdout",
     "output_type": "stream",
     "text": [
      "False\n",
      "True\n"
     ]
    }
   ],
   "source": [
    "u=True\n",
    "w=False\n",
    "print (u==w)\n",
    "print (u!=w)"
   ]
  },
  {
   "cell_type": "code",
   "execution_count": null,
   "metadata": {},
   "outputs": [],
   "source": [
    "# 6) Logical operators\n",
    "# Observe the output of below code\n",
    "# Cross check the output manually\n",
    "# print ( True and True )\n",
    "# #----------------------------------------->Output is True\n",
    "# print ( False and True )\n",
    "# #----------------------------------------->Output is False\n",
    "# print ( True and False )\n",
    "# #----------------------------------------->Output is False\n",
    "# print ( False and False )\n",
    "# #----------------------------------------->Output is False\n",
    "# print ( True or True )\n",
    "# #----------------------------------------->Output is True\n",
    "# print ( False or True )\n",
    "# #----------------------------------------->Output is True\n",
    "# print ( True or False )\n",
    "# #----------------------------------------->Output is True\n",
    "# print ( False or False )\n",
    "# #----------------------------------------->Output is False\n",
    "# print ( not True )\n",
    "# #----------------------------------------->Output is False\n",
    "# print ( not False )\n",
    "# #----------------------------------------->Output is True"
   ]
  },
  {
   "cell_type": "code",
   "execution_count": 168,
   "metadata": {},
   "outputs": [
    {
     "name": "stdout",
     "output_type": "stream",
     "text": [
      "True\n",
      "False\n",
      "False\n",
      "False\n",
      "True\n",
      "True\n",
      "True\n",
      "False\n",
      "False\n",
      "True\n"
     ]
    }
   ],
   "source": [
    "print (True and True)\n",
    "print (False and True)\n",
    "print (True and False)\n",
    "print (False and False)\n",
    "print (True or True)\n",
    "print (False or True)\n",
    "print (True or False)\n",
    "print (False or False)\n",
    "print (not True)\n",
    "print (not False)"
   ]
  },
  {
   "cell_type": "code",
   "execution_count": null,
   "metadata": {},
   "outputs": [],
   "source": [
    "# 7) Bitwise Operators\n",
    "# Do below operations on the values provided below:-\n",
    "# Bitwise and(&) --------------> True, True -------> Output is True\n",
    "# Bitwise or(|) --------------> True, False -------> Output is True\n",
    "# Bitwise(^) --------------> True, False -------> Output is True\n",
    "# Bitwise negation(~) ---------> True -------> Output is -2\n",
    "# Bitwise left shift ---------> True,2 -------> Output is 4\n",
    "# Bitwise right shift ---------> True,2 -------> Output is 0\n",
    "# Cross check the output manually"
   ]
  },
  {
   "cell_type": "code",
   "execution_count": 178,
   "metadata": {},
   "outputs": [
    {
     "name": "stdout",
     "output_type": "stream",
     "text": [
      "True\n",
      "True\n",
      "False\n",
      "-2\n",
      "4\n",
      "0\n"
     ]
    }
   ],
   "source": [
    "print (True & True)\n",
    "print (True|True)\n",
    "print (True ^ True)\n",
    "print (~True)\n",
    "print (True<<2)\n",
    "print (True>>2)"
   ]
  },
  {
   "cell_type": "code",
   "execution_count": null,
   "metadata": {},
   "outputs": [],
   "source": [
    "# 8) What is the output of expression inside the print statement. Cross\n",
    "# check before running the program.\n",
    "# a = True\n",
    "# b = True\n",
    "# print (a is b) #True or False? #\n",
    "# print (a is not b) #True or False?\n",
    "# a = False\n",
    "# b = False\n",
    "# print (a is b) #True or False?\n",
    "# print (a is not b) #True or False?"
   ]
  },
  {
   "cell_type": "code",
   "execution_count": 182,
   "metadata": {},
   "outputs": [
    {
     "name": "stdout",
     "output_type": "stream",
     "text": [
      "True\n",
      "False\n",
      "True\n",
      "False\n"
     ]
    }
   ],
   "source": [
    "a=True\n",
    "b=True\n",
    "print (a is b)\n",
    "print (a is not b)\n",
    "a=False\n",
    "b=False\n",
    "print (a is b)\n",
    "print (a is not b)"
   ]
  },
  {
   "cell_type": "code",
   "execution_count": null,
   "metadata": {},
   "outputs": [],
   "source": [
    "# 9) Membership operation\n",
    "# in, not in are two membership operators and it returns boolean value\n",
    "# print ( True in [ 10 , 10.20 , 10 + 20j , 'Python' , True ])\n",
    "# print ( False in ( 10 , 10.20 , 10 + 20j , 'Python' , False ))\n",
    "# print ( True in { 1 , 2 , 3 , True })\n",
    "# print ( True in { True : 100 , False : 200 , True : 300 })\n",
    "# print ( False in { True : 100 , False : 200 , True : 300 })"
   ]
  },
  {
   "cell_type": "code",
   "execution_count": 187,
   "metadata": {},
   "outputs": [
    {
     "name": "stdout",
     "output_type": "stream",
     "text": [
      "True\n",
      "True\n",
      "True\n",
      "True\n",
      "True\n"
     ]
    }
   ],
   "source": [
    "print ( True in [10, 10.20, 10+20j, \"Python\", True])\n",
    "print (False in (10, 10.20, 10+20j, ' Python', False))\n",
    "print (True in {1,2,3, True})\n",
    "print (True in {True:100, False:200, True:300})\n",
    "print (False in {True:100, False:200, True :300})"
   ]
  },
  {
   "cell_type": "code",
   "execution_count": null,
   "metadata": {},
   "outputs": [],
   "source": []
  },
  {
   "cell_type": "code",
   "execution_count": null,
   "metadata": {},
   "outputs": [],
   "source": []
  }
 ],
 "metadata": {
  "kernelspec": {
   "display_name": "Python [conda env:base] *",
   "language": "python",
   "name": "conda-base-py"
  },
  "language_info": {
   "codemirror_mode": {
    "name": "ipython",
    "version": 3
   },
   "file_extension": ".py",
   "mimetype": "text/x-python",
   "name": "python",
   "nbconvert_exporter": "python",
   "pygments_lexer": "ipython3",
   "version": "3.12.3"
  }
 },
 "nbformat": 4,
 "nbformat_minor": 4
}
