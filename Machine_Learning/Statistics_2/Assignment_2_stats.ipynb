{
 "cells": [
  {
   "cell_type": "code",
   "execution_count": null,
   "id": "ae6eda6f",
   "metadata": {},
   "outputs": [],
   "source": []
  },
  {
   "cell_type": "code",
   "execution_count": 26,
   "id": "e23f2ddc",
   "metadata": {},
   "outputs": [],
   "source": [
    "import pandas as pd\n",
    "import matplotlib.pyplot as plt\n",
    "import seaborn as sns\n",
    "import numpy as np\n",
    "from scipy.stats import norm\n",
    "from sklearn.preprocessing import StandardScaler\n",
    "from scipy import stats\n",
    "import warnings\n",
    "warnings.filterwarnings('ignore')\n",
    "%matplotlib inline"
   ]
  },
  {
   "cell_type": "code",
   "execution_count": 82,
   "id": "0d04fd3c",
   "metadata": {},
   "outputs": [],
   "source": [
    "def corr_calc(df):\n",
    "    df = pd.read_csv(df)\n",
    "    corrmat=df.corr()\n",
    "    print(corrmat)\n",
    "    print('\\n\\n\\n Triangular matrix \\n\\n\\n')\n",
    "    upper_tri=corrmat.where(np.triu(np.ones(corrmat.shape),k=1).astype(np.bool))\n",
    "    print(upper_tri)\n",
    "    to_drop=[column for column in upper_tri.columns if any (upper_tri[column]>0.75)]\n",
    "    print()\n",
    "    print (to_drop)\n",
    "    \n",
    "#     to_retain=[col for col in upper_tri.columns if any (upper_tri[col]<0.75)] ###Doubt###-Why this code is also showing the dropped columns?\n",
    "    print (f'{to_drop} are non - important variables') \n",
    "#     print (f'{to_retain} are important variables')   \n",
    "        \n",
    "    "
   ]
  },
  {
   "cell_type": "code",
   "execution_count": 83,
   "id": "8c472996",
   "metadata": {},
   "outputs": [
    {
     "name": "stdout",
     "output_type": "stream",
     "text": [
      "Enter file path: 'C:/Users/Smrithi/Documents/Data_science/Learnbay_May/Statistics/Assignment_stats/Assignment_2/assign_2.csv'\n",
      "          c1        c2  c3        c4        c5        c6\n",
      "c1  1.000000  0.738867 NaN  1.000000  0.567915  0.244487\n",
      "c2  0.738867  1.000000 NaN  0.738867  0.959860  0.438105\n",
      "c3       NaN       NaN NaN       NaN       NaN       NaN\n",
      "c4  1.000000  0.738867 NaN  1.000000  0.567915  0.244487\n",
      "c5  0.567915  0.959860 NaN  0.567915  1.000000  0.429671\n",
      "c6  0.244487  0.438105 NaN  0.244487  0.429671  1.000000\n",
      "\n",
      "\n",
      "\n",
      " Triangular matrix \n",
      "\n",
      "\n",
      "\n",
      "    c1        c2  c3        c4        c5        c6\n",
      "c1 NaN  0.738867 NaN  1.000000  0.567915  0.244487\n",
      "c2 NaN       NaN NaN  0.738867  0.959860  0.438105\n",
      "c3 NaN       NaN NaN       NaN       NaN       NaN\n",
      "c4 NaN       NaN NaN       NaN  0.567915  0.244487\n",
      "c5 NaN       NaN NaN       NaN       NaN  0.429671\n",
      "c6 NaN       NaN NaN       NaN       NaN       NaN\n",
      "\n",
      "['c4', 'c5']\n",
      "['c4', 'c5'] are non - important variables\n"
     ]
    }
   ],
   "source": [
    "\n",
    "\n",
    "filename=eval(input(\"Enter file path: \"))\n",
    "corr_calc(filename)"
   ]
  },
  {
   "cell_type": "code",
   "execution_count": null,
   "id": "7830370f",
   "metadata": {},
   "outputs": [],
   "source": [
    "# C:/Users/Smrithi/Documents/Data_science/Learnbay_May/Statistics/Assignment_stats/Assignment_2/assign_2.csv"
   ]
  },
  {
   "cell_type": "code",
   "execution_count": null,
   "id": "4a725294",
   "metadata": {},
   "outputs": [],
   "source": []
  },
  {
   "cell_type": "code",
   "execution_count": null,
   "id": "b30c9491",
   "metadata": {},
   "outputs": [],
   "source": []
  },
  {
   "cell_type": "code",
   "execution_count": null,
   "id": "261e3faf",
   "metadata": {},
   "outputs": [],
   "source": []
  },
  {
   "cell_type": "code",
   "execution_count": 42,
   "id": "86efbda2",
   "metadata": {},
   "outputs": [],
   "source": []
  },
  {
   "cell_type": "code",
   "execution_count": null,
   "id": "a938fcb5",
   "metadata": {},
   "outputs": [],
   "source": []
  },
  {
   "cell_type": "code",
   "execution_count": null,
   "id": "6f03cdca",
   "metadata": {},
   "outputs": [],
   "source": []
  }
 ],
 "metadata": {
  "kernelspec": {
   "display_name": "Python [conda env:base] *",
   "language": "python",
   "name": "conda-base-py"
  },
  "language_info": {
   "codemirror_mode": {
    "name": "ipython",
    "version": 3
   },
   "file_extension": ".py",
   "mimetype": "text/x-python",
   "name": "python",
   "nbconvert_exporter": "python",
   "pygments_lexer": "ipython3",
   "version": "3.12.3"
  }
 },
 "nbformat": 4,
 "nbformat_minor": 5
}
