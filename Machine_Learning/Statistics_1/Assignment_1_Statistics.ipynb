{
 "cells": [
  {
   "cell_type": "code",
   "execution_count": 1,
   "id": "e973d430",
   "metadata": {},
   "outputs": [],
   "source": [
    "import numpy as np\n",
    "import pandas as pd\n",
    "import os.path"
   ]
  },
  {
   "cell_type": "code",
   "execution_count": 2,
   "id": "ead3156e",
   "metadata": {},
   "outputs": [
    {
     "name": "stdout",
     "output_type": "stream",
     "text": [
      "{(15, 0.05): 1.753, (15, 0.025): 2.131, (16, 0.05): 1.337, (16, 0.025): 1.746, (17, 0.05): 1.333, (17, 0.025): 1.74, (18, 0.05): 1.33, (18, 0.025): 1.734, (19, 0.05): 1.328, (19, 0.025): 1.729}\n"
     ]
    }
   ],
   "source": [
    "tdict={}\n",
    "tdict[(15,0.050)]=1.753\n",
    "tdict[(15,0.025)]=2.131\n",
    "tdict[(16,0.050)]=1.337\n",
    "tdict[(16,0.025)]=1.746\n",
    "tdict[(17,0.050)]=1.333\n",
    "tdict[(17,0.025)]=1.740\n",
    "tdict[(18,0.050)]=1.330\n",
    "tdict[(18,0.025)]=1.734\n",
    "tdict[(19,0.050)]=1.328\n",
    "tdict[(19,0.025)]=1.729\n",
    "print (tdict)"
   ]
  },
  {
   "cell_type": "code",
   "execution_count": 3,
   "id": "f2eda22e",
   "metadata": {},
   "outputs": [
    {
     "name": "stdout",
     "output_type": "stream",
     "text": [
      "{0.05: 1.64, 0.025: 1.98}\n",
      "1.64\n"
     ]
    }
   ],
   "source": [
    "zdict={}\n",
    "zdict[(0.05)]=1.64\n",
    "zdict[(0.025)]=1.98\n",
    "print (zdict)\n",
    "\n",
    "print (zdict[(0.05)])"
   ]
  },
  {
   "cell_type": "code",
   "execution_count": 57,
   "id": "70378405",
   "metadata": {},
   "outputs": [
    {
     "name": "stdout",
     "output_type": "stream",
     "text": [
      "Enter name of csv file: 'assign1.csv'\n",
      "0    10\n",
      "1    11\n",
      "2    12\n",
      "3    13\n",
      "4    14\n",
      "5    15\n",
      "6    16\n",
      "7    17\n",
      "8    18\n",
      "9    19\n",
      "Name: Scores, dtype: int64\n",
      "14.5\n",
      "3.0276503540974917\n",
      "10\n"
     ]
    }
   ],
   "source": [
    "# import os.path\n",
    "# csv=eval(input('Enter name of csv file: '))\n",
    "# os.path.exists(csv)\n",
    "\n",
    "# if os.path.exists(csv)==True:\n",
    "#     fe=1\n",
    "#     my_df = pd.read_csv('C:/Users/Smrithi/Documents/Data_science/Learnbay_May/Statistics/Assignment_stats/assign1.csv')\n",
    "#      print (my_df)\n",
    "#     print (my_df['Scores'])\n",
    "#     df=my_df['Scores']\n",
    "#     avg= df.mean()\n",
    "#     print (avg)\n",
    "#     sd=my_df['Scores'].std()\n",
    "#     print (sd)\n",
    "#     cou=my_df['Scores'].count()\n",
    "#     print (cou)\n",
    "# else:\n",
    "#     fe=2"
   ]
  },
  {
   "cell_type": "code",
   "execution_count": null,
   "id": "948b96b2",
   "metadata": {},
   "outputs": [],
   "source": [
    "def estimate_calc2():\n",
    "    my_df = pd.read_csv(filename)\n",
    "#     print (my_df)\n",
    "#     print (my_df['Scores'])\n",
    "    df=my_df['Scores']\n",
    "    avg= df.mean()\n",
    "    print (f'Average is {avg}')\n",
    "    sd=my_df['Scores'].std()\n",
    "    print (f'Standard deviation is {sd}')\n",
    "    cou=my_df['Scores'].count()\n",
    "#     print (f'Count is {cou}')\n",
    "    "
   ]
  },
  {
   "cell_type": "code",
   "execution_count": 28,
   "id": "ec2582ee",
   "metadata": {},
   "outputs": [],
   "source": [
    "def estimate_calc(sample_size=0,std_dev=0,mean=0):\n",
    "    PE=mean\n",
    "    if sample_size>=30:\n",
    "        zalpha= eval(input('Enter alpha (0.05 or 0.025): '))\n",
    "#         print (zalpha)\n",
    "        b= (zdict[(zalpha)])\n",
    "        IEmax=PE+b*(std_dev/(sample_size**0.5))\n",
    "        IEmin=PE-b*(std_dev/(sample_size**0.5))\n",
    "#     else:\n",
    "#         pass\n",
    "        \n",
    "    elif (sample_size>0 and sample_size<30):\n",
    "        talpha= eval(input('Enter alpha with n-1 and df as tuple: '))\n",
    "        c= (tdict[talpha])\n",
    "        IEmax=PE+c*(std_dev/(sample_size**0.5))\n",
    "        IEmin=PE-c*(std_dev/(sample_size**0.5))\n",
    "        \n",
    "    print (f'PE is {PE}')\n",
    "    print (f'IE is between {IEmin} - {IEmax}')\n",
    "        \n",
    "#     return IE, PE \n",
    "    \n",
    "#     csv=eval(input('Enter name of csv file: '))\n",
    "#     os.path.exists(csv)\n",
    "    \n",
    "#     if os.path.exists(csv)==True:\n",
    "#         my_df = pd.read_csv('C:/Users/Smrithi/Documents/Data_science/Learnbay_May/Statistics/Assignment_stats/Book1.csv')\n",
    "#         my_df\n",
    "#         print(type(my_df))"
   ]
  },
  {
   "cell_type": "code",
   "execution_count": 31,
   "id": "0b7e9294",
   "metadata": {},
   "outputs": [
    {
     "name": "stdout",
     "output_type": "stream",
     "text": [
      "Enter sample size: 16\n",
      "Enter standard deviation: 55\n",
      "Enter mean: 750\n",
      "Enter alpha with n-1 and df as tuple: (15,0.025)\n",
      "PE is 750\n",
      "IE is between 720.69875 - 779.30125\n"
     ]
    }
   ],
   "source": [
    "csv=eval(input('Enter name of csv file: '))\n",
    "os.path.exists(csv)\n",
    "\n",
    "if os.path.exists(csv)==True:\n",
    "    filename=eval(input('Enter path'))\n",
    "    estimate_calc2()\n",
    "else:\n",
    "    sample_size=eval(input('Enter sample size: '))\n",
    "    std_dev=eval(input('Enter standard deviation: '))\n",
    "    mean=eval(input('Enter mean: '))\n",
    "    # alpha=eval(input('Enter alpha and d: '))\n",
    "\n",
    "    estimate_calc(sample_size,std_dev,mean)"
   ]
  },
  {
   "cell_type": "code",
   "execution_count": 59,
   "id": "d7f81952",
   "metadata": {},
   "outputs": [],
   "source": [
    "\n",
    "# filename='C:/Users/Smrithi/Documents/Data_science/Learnbay_May/Statistics/Assignment_stats/assign1.csv'\n",
    "# my_df = pd.read_csv(filename)\n",
    "# print (my_df)"
   ]
  }
 ],
 "metadata": {
  "kernelspec": {
   "display_name": "Python 3 (ipykernel)",
   "language": "python",
   "name": "python3"
  },
  "language_info": {
   "codemirror_mode": {
    "name": "ipython",
    "version": 3
   },
   "file_extension": ".py",
   "mimetype": "text/x-python",
   "name": "python",
   "nbconvert_exporter": "python",
   "pygments_lexer": "ipython3",
   "version": "3.9.12"
  }
 },
 "nbformat": 4,
 "nbformat_minor": 5
}
