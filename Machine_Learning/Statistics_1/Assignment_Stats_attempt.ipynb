{
 "cells": [
  {
   "cell_type": "code",
   "execution_count": 5,
   "id": "c364f541",
   "metadata": {},
   "outputs": [
    {
     "data": {
      "text/plain": [
       "count    10.00000\n",
       "mean      5.50000\n",
       "std       3.02765\n",
       "min       1.00000\n",
       "25%       3.25000\n",
       "50%       5.50000\n",
       "75%       7.75000\n",
       "max      10.00000\n",
       "dtype: float64"
      ]
     },
     "execution_count": 5,
     "metadata": {},
     "output_type": "execute_result"
    }
   ],
   "source": [
    "import pandas as pd\n",
    "import numpy as np\n",
    "\n",
    "a=pd.Series ([1,2,3,4,5,6,7,8,9,10])\n",
    "a.describe()"
   ]
  },
  {
   "cell_type": "code",
   "execution_count": 6,
   "id": "5da587da",
   "metadata": {},
   "outputs": [
    {
     "data": {
      "text/plain": [
       "count    5.0\n",
       "mean     5.0\n",
       "std      0.0\n",
       "min      5.0\n",
       "25%      5.0\n",
       "50%      5.0\n",
       "75%      5.0\n",
       "max      5.0\n",
       "dtype: float64"
      ]
     },
     "execution_count": 6,
     "metadata": {},
     "output_type": "execute_result"
    }
   ],
   "source": [
    "a=pd.Series ([5,5,5,5,5])\n",
    "a.describe()"
   ]
  },
  {
   "cell_type": "code",
   "execution_count": 7,
   "id": "a761b520",
   "metadata": {},
   "outputs": [
    {
     "data": {
      "text/plain": [
       "count    6.000000\n",
       "mean     3.500000\n",
       "std      1.870829\n",
       "min      1.000000\n",
       "25%      2.250000\n",
       "50%      3.500000\n",
       "75%      4.750000\n",
       "max      6.000000\n",
       "dtype: float64"
      ]
     },
     "execution_count": 7,
     "metadata": {},
     "output_type": "execute_result"
    }
   ],
   "source": [
    "a=pd.Series ([1,2,3,4,5,6])\n",
    "a.describe()"
   ]
  },
  {
   "cell_type": "code",
   "execution_count": null,
   "id": "036f008f",
   "metadata": {},
   "outputs": [],
   "source": [
    "# WAP to calculate IE and PE"
   ]
  },
  {
   "cell_type": "code",
   "execution_count": 63,
   "id": "40c75b04",
   "metadata": {},
   "outputs": [],
   "source": [
    "import numpy as np\n",
    "import pandas as pd\n",
    "import os.path"
   ]
  },
  {
   "cell_type": "code",
   "execution_count": 59,
   "id": "ace25a41",
   "metadata": {},
   "outputs": [
    {
     "name": "stdout",
     "output_type": "stream",
     "text": [
      "{(15, 0.05): 1.753, (15, 0.025): 2.131, (16, 0.05): 1.337, (16, 0.025): 1.746, (17, 0.05): 1.333, (17, 0.025): 1.74, (18, 0.05): 1.33, (18, 0.025): 1.734, (19, 0.05): 1.328, (19, 0.025): 1.729}\n"
     ]
    }
   ],
   "source": [
    "tdict={}\n",
    "tdict[(15,0.050)]=1.753\n",
    "tdict[(15,0.025)]=2.131\n",
    "tdict[(16,0.050)]=1.337\n",
    "tdict[(16,0.025)]=1.746\n",
    "tdict[(17,0.050)]=1.333\n",
    "tdict[(17,0.025)]=1.740\n",
    "tdict[(18,0.050)]=1.330\n",
    "tdict[(18,0.025)]=1.734\n",
    "tdict[(19,0.050)]=1.328\n",
    "tdict[(19,0.025)]=1.729\n",
    "print (tdict)"
   ]
  },
  {
   "cell_type": "code",
   "execution_count": 60,
   "id": "7a927f68",
   "metadata": {},
   "outputs": [
    {
     "name": "stdout",
     "output_type": "stream",
     "text": [
      "{0.05: 1.64, 0.025: 1.98}\n",
      "1.64\n"
     ]
    }
   ],
   "source": [
    "zdict={}\n",
    "zdict[(0.05)]=1.64\n",
    "zdict[(0.025)]=1.98\n",
    "print (zdict)\n",
    "\n",
    "print (zdict[(0.05)])"
   ]
  },
  {
   "cell_type": "code",
   "execution_count": null,
   "id": "4c60de1f",
   "metadata": {},
   "outputs": [],
   "source": [
    "import os.path\n",
    "csv=eval(input('Enter name of csv file: '))\n",
    "os.path.exists(csv)\n",
    "\n",
    "if os.path.exists(csv)==True:\n",
    "    print ('1')\n",
    "else:\n",
    "    print('2')"
   ]
  },
  {
   "cell_type": "code",
   "execution_count": 61,
   "id": "8da4aa00",
   "metadata": {},
   "outputs": [],
   "source": [
    "def estimate_calc(sample_size=0,std_dev=0,mean=0):\n",
    "    PE=mean\n",
    "    csv=eval(input('Enter name of csv file: '))\n",
    "    os.path.exists(csv)\n",
    "    \n",
    "    if os.path.exists(csv)==True:\n",
    "        my_df = pd.read_csv('C:/Users/Smrithi/Documents/Data_science/Learnbay_May/Statistics/Assignment_stats/Book1.csv')\n",
    "        my_df\n",
    "        print(type(my_df))\n",
    "        \n",
    "        \n",
    "        \n",
    "        \n",
    "        \n",
    "    \n",
    "    \n",
    "    \n",
    "    if sample_size>=30:\n",
    "        zalpha= eval(input('Enter alpha (0.05 or 0.025): '))\n",
    "#         print (zalpha)\n",
    "        b= (zdict[(zalpha)])\n",
    "        IE=PE+b*(std_dev/(sample_size**0.5))\n",
    "#     else:\n",
    "#         pass\n",
    "        \n",
    "    elif (sample_size>0 and sample_size<30):\n",
    "        talpha= eval(input('Enter alpha with n-1 and df as tuple: '))\n",
    "        c= (tdict[talpha])\n",
    "        IE=PE+c*(std_dev/(sample_size**0.5))\n",
    "\n",
    "    return IE, PE       \n",
    "# estimate_calc(sample_size=0,std_dev=0,mean=0)        \n",
    "# return PE,IE  \n"
   ]
  },
  {
   "cell_type": "code",
   "execution_count": 62,
   "id": "75e06870",
   "metadata": {},
   "outputs": [
    {
     "name": "stdout",
     "output_type": "stream",
     "text": [
      "Enter sample size: 3\n",
      "Enter standard deviation: 1\n",
      "Enter mean: 5\n",
      "Enter alpha with n-1 and df as tuple: (15,0.050)\n"
     ]
    },
    {
     "data": {
      "text/plain": [
       "(6.012095021889414, 5)"
      ]
     },
     "execution_count": 62,
     "metadata": {},
     "output_type": "execute_result"
    }
   ],
   "source": [
    "sample_size=eval(input('Enter sample size: '))\n",
    "std_dev=eval(input('Enter standard deviation: '))\n",
    "mean=eval(input('Enter mean: '))\n",
    "# alpha=eval(input('Enter alpha and d: '))\n",
    "\n",
    "estimate_calc(sample_size,std_dev,mean)\n"
   ]
  },
  {
   "cell_type": "code",
   "execution_count": null,
   "id": "ba27ddb0",
   "metadata": {},
   "outputs": [],
   "source": []
  },
  {
   "cell_type": "code",
   "execution_count": null,
   "id": "ecae25de",
   "metadata": {},
   "outputs": [],
   "source": []
  },
  {
   "cell_type": "code",
   "execution_count": null,
   "id": "d17128cf",
   "metadata": {},
   "outputs": [],
   "source": []
  },
  {
   "cell_type": "code",
   "execution_count": null,
   "id": "f7a7073e",
   "metadata": {},
   "outputs": [],
   "source": []
  },
  {
   "cell_type": "code",
   "execution_count": null,
   "id": "03d3934f",
   "metadata": {},
   "outputs": [],
   "source": []
  },
  {
   "cell_type": "code",
   "execution_count": null,
   "id": "7384c7e7",
   "metadata": {},
   "outputs": [],
   "source": []
  },
  {
   "cell_type": "code",
   "execution_count": null,
   "id": "3ac0952b",
   "metadata": {},
   "outputs": [],
   "source": []
  },
  {
   "cell_type": "code",
   "execution_count": null,
   "id": "2f285293",
   "metadata": {},
   "outputs": [],
   "source": []
  },
  {
   "cell_type": "code",
   "execution_count": null,
   "id": "bf30414d",
   "metadata": {},
   "outputs": [],
   "source": []
  },
  {
   "cell_type": "code",
   "execution_count": null,
   "id": "cc765cd0",
   "metadata": {},
   "outputs": [],
   "source": []
  },
  {
   "cell_type": "markdown",
   "id": "17288b54",
   "metadata": {},
   "source": [
    "# New try"
   ]
  },
  {
   "cell_type": "code",
   "execution_count": null,
   "id": "f80e0d93",
   "metadata": {},
   "outputs": [],
   "source": [
    "def estimate_calc(sample_size=0,std_dev=0,mean=0):\n",
    "    PE=mean\n",
    "    \n",
    "    if sample_size>=30:\n",
    "        zalpha= input('Enter alpha (0.05 or 0.025): ')\n",
    "#         print (zalpha)\n",
    "        b= (zdict[(zalpha)])\n",
    "        IE=PE+b*(std_dev/(sample_size**0.5))\n",
    "#     else:\n",
    "#         pass\n",
    "        \n",
    "    elif (sample_size>0 and sample_size<30):\n",
    "        talpha= eval(input('Enter alpha with n-1 and df as tuple: '))\n",
    "        c=tdict[talpha]\n",
    "        IE=PE+c*(std_dev/(sample_size**0.5))\n",
    "    return IE, PE       \n",
    "# estimate_calc(sample_size=0,std_dev=0,mean=0)        \n",
    "# return PE,IE  \n"
   ]
  },
  {
   "cell_type": "code",
   "execution_count": 51,
   "id": "600be02a",
   "metadata": {},
   "outputs": [
    {
     "name": "stdout",
     "output_type": "stream",
     "text": [
      "Enter alpha with n-1 and df as tuple: (15,0.050)\n",
      "(15, 0.05) <class 'tuple'>\n",
      "1.753\n"
     ]
    }
   ],
   "source": [
    "talpha= eval(input('Enter alpha with n-1 and df as tuple: '))\n",
    "\n",
    "print (talpha, type(talpha))\n",
    "\n",
    "print (tdict[talpha])"
   ]
  },
  {
   "cell_type": "code",
   "execution_count": 56,
   "id": "c2848b57",
   "metadata": {},
   "outputs": [
    {
     "name": "stdout",
     "output_type": "stream",
     "text": [
      "Enter alpha (0.05 or 0.025): 0.025\n",
      "0.025\n",
      "1.98\n"
     ]
    }
   ],
   "source": [
    "zalpha= eval(input('Enter alpha (0.05 or 0.025): '))\n",
    "print (zalpha)\n",
    "b= (zdict[zalpha])\n",
    "print (b)"
   ]
  },
  {
   "cell_type": "code",
   "execution_count": 80,
   "id": "869f2a81",
   "metadata": {},
   "outputs": [
    {
     "name": "stdout",
     "output_type": "stream",
     "text": [
      "Enter name of csv file: 'Book1.csv'\n",
      "0      1\n",
      "1      2\n",
      "2      3\n",
      "3      4\n",
      "4      5\n",
      "5      6\n",
      "6      7\n",
      "7      8\n",
      "8      9\n",
      "9     10\n",
      "10    11\n",
      "11    12\n",
      "12    13\n",
      "13    14\n",
      "14    15\n",
      "15    16\n",
      "16    17\n",
      "17    18\n",
      "18    19\n",
      "19    20\n",
      "20    21\n",
      "21    22\n",
      "22    23\n",
      "23    24\n",
      "24    25\n",
      "25    26\n",
      "Name: Values, dtype: int64\n"
     ]
    },
    {
     "ename": "ValueError",
     "evalue": "No axis named Values for object type DataFrame",
     "output_type": "error",
     "traceback": [
      "\u001b[1;31m---------------------------------------------------------------------------\u001b[0m",
      "\u001b[1;31mKeyError\u001b[0m                                  Traceback (most recent call last)",
      "File \u001b[1;32m~\\Documents\\Anaconda\\lib\\site-packages\\pandas\\core\\generic.py:550\u001b[0m, in \u001b[0;36mNDFrame._get_axis_number\u001b[1;34m(cls, axis)\u001b[0m\n\u001b[0;32m    549\u001b[0m \u001b[38;5;28;01mtry\u001b[39;00m:\n\u001b[1;32m--> 550\u001b[0m     \u001b[38;5;28;01mreturn\u001b[39;00m \u001b[38;5;28;43mcls\u001b[39;49m\u001b[38;5;241;43m.\u001b[39;49m\u001b[43m_AXIS_TO_AXIS_NUMBER\u001b[49m\u001b[43m[\u001b[49m\u001b[43maxis\u001b[49m\u001b[43m]\u001b[49m\n\u001b[0;32m    551\u001b[0m \u001b[38;5;28;01mexcept\u001b[39;00m \u001b[38;5;167;01mKeyError\u001b[39;00m:\n",
      "\u001b[1;31mKeyError\u001b[0m: 'Values'",
      "\nDuring handling of the above exception, another exception occurred:\n",
      "\u001b[1;31mValueError\u001b[0m                                Traceback (most recent call last)",
      "Input \u001b[1;32mIn [80]\u001b[0m, in \u001b[0;36m<cell line: 9>\u001b[1;34m()\u001b[0m\n\u001b[0;32m     11\u001b[0m \u001b[38;5;66;03m#         print (my_df)\u001b[39;00m\n\u001b[0;32m     12\u001b[0m \u001b[38;5;66;03m#         print(type(my_df))\u001b[39;00m\n\u001b[0;32m     13\u001b[0m         \u001b[38;5;28mprint\u001b[39m (my_df[\u001b[38;5;124m'\u001b[39m\u001b[38;5;124mValues\u001b[39m\u001b[38;5;124m'\u001b[39m])\n\u001b[1;32m---> 14\u001b[0m         f\u001b[38;5;241m=\u001b[39m\u001b[43mmy_df\u001b[49m\u001b[38;5;241;43m.\u001b[39;49m\u001b[43mmean\u001b[49m\u001b[43m(\u001b[49m\u001b[43maxis\u001b[49m\u001b[38;5;241;43m=\u001b[39;49m\u001b[38;5;124;43m'\u001b[39;49m\u001b[38;5;124;43mValues\u001b[39;49m\u001b[38;5;124;43m'\u001b[39;49m\u001b[43m)\u001b[49m\n\u001b[0;32m     15\u001b[0m         \u001b[38;5;28mprint\u001b[39m (\u001b[38;5;124m'\u001b[39m\u001b[38;5;124mMean is: \u001b[39m\u001b[38;5;124m'\u001b[39m,f)\n",
      "File \u001b[1;32m~\\Documents\\Anaconda\\lib\\site-packages\\pandas\\core\\generic.py:11117\u001b[0m, in \u001b[0;36mNDFrame._add_numeric_operations.<locals>.mean\u001b[1;34m(self, axis, skipna, level, numeric_only, **kwargs)\u001b[0m\n\u001b[0;32m  11099\u001b[0m \u001b[38;5;129m@doc\u001b[39m(\n\u001b[0;32m  11100\u001b[0m     _num_doc,\n\u001b[0;32m  11101\u001b[0m     desc\u001b[38;5;241m=\u001b[39m\u001b[38;5;124m\"\u001b[39m\u001b[38;5;124mReturn the mean of the values over the requested axis.\u001b[39m\u001b[38;5;124m\"\u001b[39m,\n\u001b[1;32m   (...)\u001b[0m\n\u001b[0;32m  11115\u001b[0m     \u001b[38;5;241m*\u001b[39m\u001b[38;5;241m*\u001b[39mkwargs,\n\u001b[0;32m  11116\u001b[0m ):\n\u001b[1;32m> 11117\u001b[0m     \u001b[38;5;28;01mreturn\u001b[39;00m NDFrame\u001b[38;5;241m.\u001b[39mmean(\u001b[38;5;28mself\u001b[39m, axis, skipna, level, numeric_only, \u001b[38;5;241m*\u001b[39m\u001b[38;5;241m*\u001b[39mkwargs)\n",
      "File \u001b[1;32m~\\Documents\\Anaconda\\lib\\site-packages\\pandas\\core\\generic.py:10687\u001b[0m, in \u001b[0;36mNDFrame.mean\u001b[1;34m(self, axis, skipna, level, numeric_only, **kwargs)\u001b[0m\n\u001b[0;32m  10679\u001b[0m \u001b[38;5;28;01mdef\u001b[39;00m \u001b[38;5;21mmean\u001b[39m(\n\u001b[0;32m  10680\u001b[0m     \u001b[38;5;28mself\u001b[39m,\n\u001b[0;32m  10681\u001b[0m     axis: Axis \u001b[38;5;241m|\u001b[39m \u001b[38;5;28;01mNone\u001b[39;00m \u001b[38;5;241m|\u001b[39m lib\u001b[38;5;241m.\u001b[39mNoDefault \u001b[38;5;241m=\u001b[39m lib\u001b[38;5;241m.\u001b[39mno_default,\n\u001b[1;32m   (...)\u001b[0m\n\u001b[0;32m  10685\u001b[0m     \u001b[38;5;241m*\u001b[39m\u001b[38;5;241m*\u001b[39mkwargs,\n\u001b[0;32m  10686\u001b[0m ) \u001b[38;5;241m-\u001b[39m\u001b[38;5;241m>\u001b[39m Series \u001b[38;5;241m|\u001b[39m \u001b[38;5;28mfloat\u001b[39m:\n\u001b[1;32m> 10687\u001b[0m     \u001b[38;5;28;01mreturn\u001b[39;00m \u001b[38;5;28mself\u001b[39m\u001b[38;5;241m.\u001b[39m_stat_function(\n\u001b[0;32m  10688\u001b[0m         \u001b[38;5;124m\"\u001b[39m\u001b[38;5;124mmean\u001b[39m\u001b[38;5;124m\"\u001b[39m, nanops\u001b[38;5;241m.\u001b[39mnanmean, axis, skipna, level, numeric_only, \u001b[38;5;241m*\u001b[39m\u001b[38;5;241m*\u001b[39mkwargs\n\u001b[0;32m  10689\u001b[0m     )\n",
      "File \u001b[1;32m~\\Documents\\Anaconda\\lib\\site-packages\\pandas\\core\\generic.py:10639\u001b[0m, in \u001b[0;36mNDFrame._stat_function\u001b[1;34m(self, name, func, axis, skipna, level, numeric_only, **kwargs)\u001b[0m\n\u001b[0;32m  10629\u001b[0m     warnings\u001b[38;5;241m.\u001b[39mwarn(\n\u001b[0;32m  10630\u001b[0m         \u001b[38;5;124m\"\u001b[39m\u001b[38;5;124mUsing the level keyword in DataFrame and Series aggregations is \u001b[39m\u001b[38;5;124m\"\u001b[39m\n\u001b[0;32m  10631\u001b[0m         \u001b[38;5;124m\"\u001b[39m\u001b[38;5;124mdeprecated and will be removed in a future version. Use groupby \u001b[39m\u001b[38;5;124m\"\u001b[39m\n\u001b[1;32m   (...)\u001b[0m\n\u001b[0;32m  10634\u001b[0m         stacklevel\u001b[38;5;241m=\u001b[39mfind_stack_level(),\n\u001b[0;32m  10635\u001b[0m     )\n\u001b[0;32m  10636\u001b[0m     \u001b[38;5;28;01mreturn\u001b[39;00m \u001b[38;5;28mself\u001b[39m\u001b[38;5;241m.\u001b[39m_agg_by_level(\n\u001b[0;32m  10637\u001b[0m         name, axis\u001b[38;5;241m=\u001b[39maxis, level\u001b[38;5;241m=\u001b[39mlevel, skipna\u001b[38;5;241m=\u001b[39mskipna, numeric_only\u001b[38;5;241m=\u001b[39mnumeric_only\n\u001b[0;32m  10638\u001b[0m     )\n\u001b[1;32m> 10639\u001b[0m \u001b[38;5;28;01mreturn\u001b[39;00m \u001b[38;5;28;43mself\u001b[39;49m\u001b[38;5;241;43m.\u001b[39;49m\u001b[43m_reduce\u001b[49m\u001b[43m(\u001b[49m\n\u001b[0;32m  10640\u001b[0m \u001b[43m    \u001b[49m\u001b[43mfunc\u001b[49m\u001b[43m,\u001b[49m\u001b[43m \u001b[49m\u001b[43mname\u001b[49m\u001b[38;5;241;43m=\u001b[39;49m\u001b[43mname\u001b[49m\u001b[43m,\u001b[49m\u001b[43m \u001b[49m\u001b[43maxis\u001b[49m\u001b[38;5;241;43m=\u001b[39;49m\u001b[43maxis\u001b[49m\u001b[43m,\u001b[49m\u001b[43m \u001b[49m\u001b[43mskipna\u001b[49m\u001b[38;5;241;43m=\u001b[39;49m\u001b[43mskipna\u001b[49m\u001b[43m,\u001b[49m\u001b[43m \u001b[49m\u001b[43mnumeric_only\u001b[49m\u001b[38;5;241;43m=\u001b[39;49m\u001b[43mnumeric_only\u001b[49m\n\u001b[0;32m  10641\u001b[0m \u001b[43m\u001b[49m\u001b[43m)\u001b[49m\n",
      "File \u001b[1;32m~\\Documents\\Anaconda\\lib\\site-packages\\pandas\\core\\frame.py:9970\u001b[0m, in \u001b[0;36mDataFrame._reduce\u001b[1;34m(self, op, name, axis, skipna, numeric_only, filter_type, **kwds)\u001b[0m\n\u001b[0;32m   9967\u001b[0m         \u001b[38;5;28mself\u001b[39m \u001b[38;5;241m=\u001b[39m \u001b[38;5;28mtype\u001b[39m(\u001b[38;5;28mself\u001b[39m)(mgr)\n\u001b[0;32m   9969\u001b[0m \u001b[38;5;66;03m# TODO: Make other agg func handle axis=None properly GH#21597\u001b[39;00m\n\u001b[1;32m-> 9970\u001b[0m axis \u001b[38;5;241m=\u001b[39m \u001b[38;5;28;43mself\u001b[39;49m\u001b[38;5;241;43m.\u001b[39;49m\u001b[43m_get_axis_number\u001b[49m\u001b[43m(\u001b[49m\u001b[43maxis\u001b[49m\u001b[43m)\u001b[49m\n\u001b[0;32m   9971\u001b[0m labels \u001b[38;5;241m=\u001b[39m \u001b[38;5;28mself\u001b[39m\u001b[38;5;241m.\u001b[39m_get_agg_axis(axis)\n\u001b[0;32m   9972\u001b[0m \u001b[38;5;28;01massert\u001b[39;00m axis \u001b[38;5;129;01min\u001b[39;00m [\u001b[38;5;241m0\u001b[39m, \u001b[38;5;241m1\u001b[39m]\n",
      "File \u001b[1;32m~\\Documents\\Anaconda\\lib\\site-packages\\pandas\\core\\generic.py:552\u001b[0m, in \u001b[0;36mNDFrame._get_axis_number\u001b[1;34m(cls, axis)\u001b[0m\n\u001b[0;32m    550\u001b[0m     \u001b[38;5;28;01mreturn\u001b[39;00m \u001b[38;5;28mcls\u001b[39m\u001b[38;5;241m.\u001b[39m_AXIS_TO_AXIS_NUMBER[axis]\n\u001b[0;32m    551\u001b[0m \u001b[38;5;28;01mexcept\u001b[39;00m \u001b[38;5;167;01mKeyError\u001b[39;00m:\n\u001b[1;32m--> 552\u001b[0m     \u001b[38;5;28;01mraise\u001b[39;00m \u001b[38;5;167;01mValueError\u001b[39;00m(\u001b[38;5;124mf\u001b[39m\u001b[38;5;124m\"\u001b[39m\u001b[38;5;124mNo axis named \u001b[39m\u001b[38;5;132;01m{\u001b[39;00maxis\u001b[38;5;132;01m}\u001b[39;00m\u001b[38;5;124m for object type \u001b[39m\u001b[38;5;132;01m{\u001b[39;00m\u001b[38;5;28mcls\u001b[39m\u001b[38;5;241m.\u001b[39m\u001b[38;5;18m__name__\u001b[39m\u001b[38;5;132;01m}\u001b[39;00m\u001b[38;5;124m\"\u001b[39m)\n",
      "\u001b[1;31mValueError\u001b[0m: No axis named Values for object type DataFrame"
     ]
    }
   ],
   "source": [
    "import os.path\n",
    "csv=eval(input('Enter name of csv file: '))\n",
    "os.path.exists(csv)\n",
    "\n",
    "# if os.path.exists(csv)==True:\n",
    "#     print ('1')\n",
    "# else:\n",
    "#     print('2')\n",
    "if os.path.exists(csv)==True:\n",
    "        my_df = pd.read_csv('C:/Users/Smrithi/Documents/Data_science/Learnbay_May/Statistics/Assignment_stats/Book1.csv')\n",
    "#         print (my_df)\n",
    "#         print(type(my_df))\n",
    "        print (my_df['Values'])\n",
    "        f=my_df.mean(axis='Values')\n",
    "        print ('Mean is: ',f)\n",
    "    \n",
    "    "
   ]
  },
  {
   "cell_type": "code",
   "execution_count": null,
   "id": "4c296f45",
   "metadata": {},
   "outputs": [],
   "source": [
    "# def emp_info(emp_name, emp_id, emp_sal):\n",
    "#     'The Emoployee name is ', emp_name\n",
    "#     'The Emoployee ID is ', emp_id\n",
    "#     'The Emoployee Salary is ', emp_sal\n",
    "#     return emp_name, emp_id"
   ]
  },
  {
   "cell_type": "code",
   "execution_count": 37,
   "id": "ab9ecee1",
   "metadata": {},
   "outputs": [
    {
     "data": {
      "text/plain": [
       "False"
      ]
     },
     "execution_count": 37,
     "metadata": {},
     "output_type": "execute_result"
    }
   ],
   "source": [
    "import os.path\n",
    "os.path.exists('ANOVA.ipynb')"
   ]
  },
  {
   "cell_type": "code",
   "execution_count": 38,
   "id": "d9a35e2a",
   "metadata": {},
   "outputs": [
    {
     "data": {
      "text/plain": [
       "True"
      ]
     },
     "execution_count": 38,
     "metadata": {},
     "output_type": "execute_result"
    }
   ],
   "source": [
    "os.path.exists('hey.txt')"
   ]
  },
  {
   "cell_type": "code",
   "execution_count": 53,
   "id": "cf124fd8",
   "metadata": {},
   "outputs": [
    {
     "name": "stdout",
     "output_type": "stream",
     "text": [
      "{(122, -0.928): 'San diego', (233, -578): 'San francisco', (9088, 8989): 'Greenwich'}\n"
     ]
    }
   ],
   "source": [
    "loc_to_name={}\n",
    "loc_to_name[(122,-0.928)]='San diego'\n",
    "loc_to_name[(233,-578)]='San francisco'\n",
    "loc_to_name[(9088, 8989)]='Greenwich'\n",
    "print (loc_to_name)"
   ]
  },
  {
   "cell_type": "code",
   "execution_count": 58,
   "id": "720fa6c5",
   "metadata": {},
   "outputs": [
    {
     "data": {
      "text/plain": [
       "'San diego'"
      ]
     },
     "execution_count": 58,
     "metadata": {},
     "output_type": "execute_result"
    }
   ],
   "source": [
    "loc_to_name[(122,-0.928)]"
   ]
  },
  {
   "cell_type": "code",
   "execution_count": 66,
   "id": "3ca91751",
   "metadata": {},
   "outputs": [],
   "source": [
    "def my_gen():\n",
    "    emp_name = input('Enter your Name: ')\n",
    "    emp_id = input('Enter your ID: ')\n",
    "    emp_sal = input('Enter your Salary: ')\n",
    "    emp_city = input('Enter your current city: ')\n",
    "    emp_state = input('Enter your current state: ')\n",
    "    yield emp_name\n",
    "    yield emp_id\n",
    "    yield emp_sal\n",
    "    yield emp_city\n",
    "    yield emp_state"
   ]
  },
  {
   "cell_type": "code",
   "execution_count": 68,
   "id": "f947cf31",
   "metadata": {},
   "outputs": [
    {
     "name": "stdout",
     "output_type": "stream",
     "text": [
      "Enter your Name: fi\n",
      "Enter your ID: 40\n",
      "Enter your Salary: 30\n",
      "Enter your current city: gi\n",
      "Enter your current state: io\n"
     ]
    },
    {
     "data": {
      "text/plain": [
       "['fi', '40', '30', 'gi', 'io']"
      ]
     },
     "execution_count": 68,
     "metadata": {},
     "output_type": "execute_result"
    }
   ],
   "source": [
    "list(my_gen())"
   ]
  },
  {
   "cell_type": "code",
   "execution_count": null,
   "id": "03b37c3d",
   "metadata": {},
   "outputs": [],
   "source": []
  }
 ],
 "metadata": {
  "kernelspec": {
   "display_name": "Python 3 (ipykernel)",
   "language": "python",
   "name": "python3"
  },
  "language_info": {
   "codemirror_mode": {
    "name": "ipython",
    "version": 3
   },
   "file_extension": ".py",
   "mimetype": "text/x-python",
   "name": "python",
   "nbconvert_exporter": "python",
   "pygments_lexer": "ipython3",
   "version": "3.9.12"
  }
 },
 "nbformat": 4,
 "nbformat_minor": 5
}
