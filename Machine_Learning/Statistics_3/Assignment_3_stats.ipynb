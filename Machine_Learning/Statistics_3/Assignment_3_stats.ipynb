{
 "cells": [
  {
   "cell_type": "code",
   "execution_count": 1,
   "id": "72f50305",
   "metadata": {},
   "outputs": [],
   "source": [
    "import numpy as np\n",
    "import pandas as pd\n",
    "import os.path"
   ]
  },
  {
   "cell_type": "code",
   "execution_count": 2,
   "id": "478bd185",
   "metadata": {},
   "outputs": [
    {
     "name": "stdout",
     "output_type": "stream",
     "text": [
      "{(15, 0.05): 1.753, (15, 0.025): 2.131, (16, 0.05): 1.337, (16, 0.025): 1.746, (17, 0.05): 1.333, (17, 0.025): 1.74, (18, 0.05): 1.33, (18, 0.025): 1.734, (19, 0.05): 1.328, (19, 0.025): 1.729}\n"
     ]
    }
   ],
   "source": [
    "tdict={}\n",
    "tdict[(15,0.050)]=1.753\n",
    "tdict[(15,0.025)]=2.131\n",
    "tdict[(16,0.050)]=1.337\n",
    "tdict[(16,0.025)]=1.746\n",
    "tdict[(17,0.050)]=1.333\n",
    "tdict[(17,0.025)]=1.740\n",
    "tdict[(18,0.050)]=1.330\n",
    "tdict[(18,0.025)]=1.734\n",
    "tdict[(19,0.050)]=1.328\n",
    "tdict[(19,0.025)]=1.729\n",
    "print (tdict)"
   ]
  },
  {
   "cell_type": "code",
   "execution_count": 3,
   "id": "d5feb902",
   "metadata": {},
   "outputs": [
    {
     "name": "stdout",
     "output_type": "stream",
     "text": [
      "{0.05: 1.64, 0.025: 1.98}\n",
      "1.64\n",
      "3.0\n"
     ]
    }
   ],
   "source": [
    "zdict={}\n",
    "zdict[(0.05)]=1.64\n",
    "zdict[(0.025)]=1.98\n",
    "print (zdict)\n",
    "\n",
    "print (zdict[(0.05)])\n",
    "print(9**0.5)"
   ]
  },
  {
   "cell_type": "code",
   "execution_count": 42,
   "id": "da697f0a",
   "metadata": {},
   "outputs": [],
   "source": [
    "def estimate_calc(sample_size=0,std_dev=0,mean=0):\n",
    "    PE=mean\n",
    "    if sample_size>=30:\n",
    "        zalpha= eval(input('Enter alpha/alpha by two (0.05 or 0.025): '))\n",
    "#         print (zalpha)\n",
    "        b= (zdict[(zalpha)])\n",
    "        IEmax=PE+b*(std_dev/(sample_size**0.5))\n",
    "        IEmin=PE-b*(std_dev/(sample_size**0.5))\n",
    "#         num=mean-mu\n",
    "#         den=std_dev/(sample_size**0.5)\n",
    "#         zs=num/den\n",
    "#         if zs>b:\n",
    "#             print ('Null hypothesis rejected')\n",
    "#         else:\n",
    "#             print ('Null hypothesis accepted')\n",
    "#     else:\n",
    "#         pass\n",
    "        \n",
    "    elif (sample_size>0 and sample_size<30):\n",
    "        talpha= eval(input('Enter alpha/alpha by two with n-1 and df as tuple: '))\n",
    "        c= (tdict[talpha])\n",
    "        IEmax=PE+c*(std_dev/(sample_size**0.5))\n",
    "        IEmin=PE-c*(std_dev/(sample_size**0.5))\n",
    "#         num=mean-mu\n",
    "#         den=std_dev/(sample_size**0.5)\n",
    "#         ts=num/den\n",
    "#         if ts>c:\n",
    "#             print ('Null hypothesis rejected')\n",
    "#         else:\n",
    "#             print ('Null hypothesis accepted')\n",
    "        \n",
    "#     a11= (f'PE is {PE}')\n",
    "#     b11= (f'IE is between {IEmin} - {IEmax}')\n",
    "    return {'PE': PE, 'IE':str(IEmin)+' - '+str(IEmax)}\n",
    "    "
   ]
  },
  {
   "cell_type": "code",
   "execution_count": 44,
   "id": "48b0de8e",
   "metadata": {},
   "outputs": [],
   "source": [
    "def hyp_testing(sample_size=0, std_dev=0, mean=0, mu=0,op=''):\n",
    "    if sample_size>=30:\n",
    "        zalpha= eval(input('Enter alpha/alpha by two (0.05 or 0.025): '))\n",
    "#         print (zalpha)\n",
    "        b= (zdict[(zalpha)])\n",
    "        num=mean-mu\n",
    "        den=std_dev/(sample_size**0.5)\n",
    "        zs=num/den\n",
    "        if zs>b:\n",
    "            op= 'Null hypothesis rejected'\n",
    "        else:\n",
    "            op= 'Null hypothesis accepted'\n",
    "       \n",
    "    elif (sample_size>0 and sample_size<30):\n",
    "        talpha= eval(input('Enter alpha/alpha by two with n-1 and df as tuple: '))\n",
    "        c= (tdict[talpha])\n",
    "        num=mean-mu\n",
    "        den=std_dev/(sample_size**0.5)\n",
    "        ts=num/den\n",
    "        if ts>c:\n",
    "            op='Null hypothesis rejected'\n",
    "        else:\n",
    "            op='Null hypothesis accepted'\n",
    "        \n",
    "    return {'hyp':op}"
   ]
  },
  {
   "cell_type": "code",
   "execution_count": 66,
   "id": "e38b58f3",
   "metadata": {},
   "outputs": [
    {
     "name": "stdout",
     "output_type": "stream",
     "text": [
      "Enter sample size: 0\n",
      "Enter standard deviation: 0\n",
      "Enter mean: 0\n",
      "Enter population mean \"mu\":0\n",
      "Enter which functionality you require:\n",
      " PE - Enter 1\n",
      " IE - Enter 2\n",
      " Hypothesis testing - Enter 3\n",
      " All - Enter 4 \n",
      "4\n"
     ]
    },
    {
     "ename": "UnboundLocalError",
     "evalue": "local variable 'IEmin' referenced before assignment",
     "output_type": "error",
     "traceback": [
      "\u001b[1;31m---------------------------------------------------------------------------\u001b[0m",
      "\u001b[1;31mUnboundLocalError\u001b[0m                         Traceback (most recent call last)",
      "Input \u001b[1;32mIn [66]\u001b[0m, in \u001b[0;36m<cell line: 9>\u001b[1;34m()\u001b[0m\n\u001b[0;32m     38\u001b[0m     \u001b[38;5;28mprint\u001b[39m ({items2\u001b[38;5;241m.\u001b[39mget(\u001b[38;5;124m\"\u001b[39m\u001b[38;5;124mhyp\u001b[39m\u001b[38;5;124m\"\u001b[39m)})\n\u001b[0;32m     39\u001b[0m \u001b[38;5;28;01melif\u001b[39;00m functionality\u001b[38;5;241m==\u001b[39m\u001b[38;5;241m4\u001b[39m:\n\u001b[1;32m---> 40\u001b[0m     items\u001b[38;5;241m=\u001b[39m\u001b[43mestimate_calc\u001b[49m\u001b[43m(\u001b[49m\u001b[43msample_size\u001b[49m\u001b[43m,\u001b[49m\u001b[43mstd_dev\u001b[49m\u001b[43m,\u001b[49m\u001b[43mmean\u001b[49m\u001b[43m)\u001b[49m\n\u001b[0;32m     41\u001b[0m     \u001b[38;5;28mprint\u001b[39m(\u001b[38;5;124mf\u001b[39m\u001b[38;5;124m'\u001b[39m\u001b[38;5;124mPE is \u001b[39m\u001b[38;5;132;01m{\u001b[39;00mitems\u001b[38;5;241m.\u001b[39mget(\u001b[38;5;124m\"\u001b[39m\u001b[38;5;124mPE\u001b[39m\u001b[38;5;124m\"\u001b[39m)\u001b[38;5;132;01m}\u001b[39;00m\u001b[38;5;124m'\u001b[39m)\n\u001b[0;32m     42\u001b[0m     \u001b[38;5;28mprint\u001b[39m (\u001b[38;5;124mf\u001b[39m\u001b[38;5;124m'\u001b[39m\u001b[38;5;124mIE is between \u001b[39m\u001b[38;5;132;01m{\u001b[39;00mitems\u001b[38;5;241m.\u001b[39mget(\u001b[38;5;124m\"\u001b[39m\u001b[38;5;124mIE\u001b[39m\u001b[38;5;124m\"\u001b[39m)\u001b[38;5;132;01m}\u001b[39;00m\u001b[38;5;124m'\u001b[39m)\n",
      "Input \u001b[1;32mIn [42]\u001b[0m, in \u001b[0;36mestimate_calc\u001b[1;34m(sample_size, std_dev, mean)\u001b[0m\n\u001b[0;32m     23\u001b[0m         IEmin\u001b[38;5;241m=\u001b[39mPE\u001b[38;5;241m-\u001b[39mc\u001b[38;5;241m*\u001b[39m(std_dev\u001b[38;5;241m/\u001b[39m(sample_size\u001b[38;5;241m*\u001b[39m\u001b[38;5;241m*\u001b[39m\u001b[38;5;241m0.5\u001b[39m))\n\u001b[0;32m     24\u001b[0m \u001b[38;5;66;03m#         num=mean-mu\u001b[39;00m\n\u001b[0;32m     25\u001b[0m \u001b[38;5;66;03m#         den=std_dev/(sample_size**0.5)\u001b[39;00m\n\u001b[0;32m     26\u001b[0m \u001b[38;5;66;03m#         ts=num/den\u001b[39;00m\n\u001b[1;32m   (...)\u001b[0m\n\u001b[0;32m     32\u001b[0m \u001b[38;5;66;03m#     a11= (f'PE is {PE}')\u001b[39;00m\n\u001b[0;32m     33\u001b[0m \u001b[38;5;66;03m#     b11= (f'IE is between {IEmin} - {IEmax}')\u001b[39;00m\n\u001b[1;32m---> 34\u001b[0m     \u001b[38;5;28;01mreturn\u001b[39;00m {\u001b[38;5;124m'\u001b[39m\u001b[38;5;124mPE\u001b[39m\u001b[38;5;124m'\u001b[39m: PE, \u001b[38;5;124m'\u001b[39m\u001b[38;5;124mIE\u001b[39m\u001b[38;5;124m'\u001b[39m:\u001b[38;5;28mstr\u001b[39m(\u001b[43mIEmin\u001b[49m)\u001b[38;5;241m+\u001b[39m\u001b[38;5;124m'\u001b[39m\u001b[38;5;124m - \u001b[39m\u001b[38;5;124m'\u001b[39m\u001b[38;5;241m+\u001b[39m\u001b[38;5;28mstr\u001b[39m(IEmax)}\n",
      "\u001b[1;31mUnboundLocalError\u001b[0m: local variable 'IEmin' referenced before assignment"
     ]
    }
   ],
   "source": [
    "# csv=eval(input('Enter name of csv file: '))\n",
    "# os.path.exists(csv)\n",
    "\n",
    "# if os.path.exists(csv)==True:\n",
    "#     filename=eval(input('Enter path'))\n",
    "#     estimate_calc2()\n",
    "# else:\n",
    "while True:\n",
    "    try:\n",
    "        sample_size=eval(input('Enter sample size: '))\n",
    "        std_dev=eval(input('Enter standard deviation: '))\n",
    "        mean=eval(input('Enter mean: '))\n",
    "        mu=eval(input('Enter population mean \"mu\":'))\n",
    "        functionality=eval(input(\"Enter which functionality you require:\\n PE - Enter 1\\n IE - Enter 2\\n Hypothesis testing - Enter 3\\n All - Enter 4 \\n\"))\n",
    "# alpha=eval(input('Enter alpha and d: '))\n",
    "  \n",
    "    except NameError:\n",
    "        print (\"Enter only numbers and not strings\")\n",
    "    except SyntaxError:\n",
    "        print (\"Please take care of extra spaces and syntax error\")\n",
    "    except UnboundLocalError: ##### Doubt ##### my UnboundLocalError and KeyError are not raising exceptions properly, can you please check why?\n",
    "        print (\"Please enter correct values\")\n",
    "    except KeyError:\n",
    "        print (\"Enter tuple in proper format\")\n",
    "    \n",
    "    else:\n",
    "        if functionality == 1:\n",
    "#     print (f'PE is {PE}')\n",
    "            items=estimate_calc(sample_size,std_dev,mean)\n",
    "            print(f'PE is {items.get(\"PE\")}')\n",
    "  \n",
    "        elif functionality == 2:\n",
    "            items=estimate_calc(sample_size,std_dev,mean)\n",
    "            print (f'IE is between {items.get(\"IE\")}')\n",
    "               \n",
    "#     print (f'IE is between {IEmin} - {IEmax}')\n",
    "        elif functionality==3:\n",
    "            items2=hyp_testing(sample_size, std_dev, mean, mu)\n",
    "            print ({items2.get(\"hyp\")})\n",
    "        elif functionality==4:\n",
    "            items=estimate_calc(sample_size,std_dev,mean)\n",
    "            print(f'PE is {items.get(\"PE\")}')\n",
    "            print (f'IE is between {items.get(\"IE\")}')\n",
    "            items2=hyp_testing(sample_size, std_dev, mean, mu)\n",
    "            print ({items2.get(\"hyp\")})\n",
    "        \n",
    "\n",
    "\n",
    "\n",
    "\n",
    "    \n",
    "#     print (hyp_testing())\n",
    "# elif functionality == 4:\n",
    "#     print (f'PE is {PE}')\n",
    "#     print (f'IE is between {IEmin} - {IEmax}')\n",
    "#     print (hyp_testing)\n",
    "\n",
    "    \n",
    "    "
   ]
  },
  {
   "cell_type": "code",
   "execution_count": 65,
   "id": "c4d61310",
   "metadata": {},
   "outputs": [
    {
     "data": {
      "text/plain": [
       "'C:/Users/Smrithi/Documents/Data_science/Learnbay_May/Statistics/Assignment_stats/Assignment_3/assign_3.csv'"
      ]
     },
     "execution_count": 65,
     "metadata": {},
     "output_type": "execute_result"
    }
   ],
   "source": [
    "'C:/Users/Smrithi/Documents/Data_science/Learnbay_May/Statistics/Assignment_stats/Assignment_3/assign_3.csv'"
   ]
  },
  {
   "cell_type": "code",
   "execution_count": 34,
   "id": "8efd0eff",
   "metadata": {},
   "outputs": [
    {
     "ename": "NameError",
     "evalue": "name 'a' is not defined",
     "output_type": "error",
     "traceback": [
      "\u001b[1;31m---------------------------------------------------------------------------\u001b[0m",
      "\u001b[1;31mNameError\u001b[0m                                 Traceback (most recent call last)",
      "Input \u001b[1;32mIn [34]\u001b[0m, in \u001b[0;36m<cell line: 1>\u001b[1;34m()\u001b[0m\n\u001b[1;32m----> 1\u001b[0m \u001b[38;5;28;01mif\u001b[39;00m \u001b[43ma\u001b[49m\u001b[38;5;241m==\u001b[39m\u001b[38;5;241m2\u001b[39m:\n\u001b[0;32m      2\u001b[0m     \u001b[38;5;28mprint\u001b[39m (\u001b[38;5;124m'\u001b[39m\u001b[38;5;124md\u001b[39m\u001b[38;5;124m'\u001b[39m)\n\u001b[0;32m      3\u001b[0m \u001b[38;5;28;01melif\u001b[39;00m b\u001b[38;5;241m==\u001b[39m\u001b[38;5;241m2\u001b[39m:\n",
      "\u001b[1;31mNameError\u001b[0m: name 'a' is not defined"
     ]
    }
   ],
   "source": [
    "# if a==2:\n",
    "#     print ('d')\n",
    "# elif b==2:\n",
    "#     print('g')\n",
    "# else:\n",
    "#     print (\"none\")\n",
    "\n",
    "NameError\n",
    "SyntaxError\n",
    "UnboundLocalError\n",
    "KeyError"
   ]
  },
  {
   "cell_type": "code",
   "execution_count": null,
   "id": "f8dc8526",
   "metadata": {},
   "outputs": [],
   "source": []
  },
  {
   "cell_type": "code",
   "execution_count": null,
   "id": "8900b89d",
   "metadata": {},
   "outputs": [],
   "source": []
  }
 ],
 "metadata": {
  "kernelspec": {
   "display_name": "Python [conda env:base] *",
   "language": "python",
   "name": "conda-base-py"
  },
  "language_info": {
   "codemirror_mode": {
    "name": "ipython",
    "version": 3
   },
   "file_extension": ".py",
   "mimetype": "text/x-python",
   "name": "python",
   "nbconvert_exporter": "python",
   "pygments_lexer": "ipython3",
   "version": "3.12.3"
  }
 },
 "nbformat": 4,
 "nbformat_minor": 5
}
