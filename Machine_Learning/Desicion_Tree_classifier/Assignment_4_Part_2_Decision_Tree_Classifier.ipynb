{
 "cells": [
  {
   "cell_type": "code",
   "execution_count": null,
   "metadata": {
    "collapsed": true,
    "jupyter": {
     "outputs_hidden": true
    }
   },
   "outputs": [],
   "source": [
    "# Author       : Utkarsh Kulshrestha\n",
    "# E-Mail       : kuls.utkarsh1205@gmail.com\n",
    "# Contact      : +91-8197094433\n",
    "# Designation  : Artificial Intelligence Engineer"
   ]
  },
  {
   "cell_type": "markdown",
   "metadata": {},
   "source": [
    "## Import the required libraries"
   ]
  },
  {
   "cell_type": "code",
   "execution_count": 21,
   "metadata": {},
   "outputs": [],
   "source": [
    "import pandas as pd\n",
    "import numpy as np\n",
    "from sklearn import preprocessing\n",
    "from sklearn.model_selection import train_test_split\n",
    "from sklearn.tree import DecisionTreeClassifier\n",
    "from sklearn.metrics import confusion_matrix\n",
    "from sklearn.metrics import accuracy_score\n",
    "from sklearn.metrics import roc_curve, auc\n",
    "import matplotlib.pyplot as plt\n",
    "# from Sklearn.externals.six import StringIO     #--------------Doubt- This shows error\n",
    "from IPython.display import Image  \n",
    "from sklearn.tree import export_graphviz\n",
    "# import pydotplus                               #--------------Doubt- This shows error\n",
    "\n",
    "\n",
    "import seaborn as sns\n",
    "from scipy.stats import norm\n",
    "from sklearn.preprocessing import StandardScaler\n",
    "from scipy import stats\n",
    "import warnings\n",
    "warnings.filterwarnings('ignore')\n",
    "%matplotlib inline"
   ]
  },
  {
   "cell_type": "markdown",
   "metadata": {},
   "source": [
    "## Read the Data from the CSV"
   ]
  },
  {
   "cell_type": "code",
   "execution_count": 7,
   "metadata": {},
   "outputs": [
    {
     "data": {
      "text/plain": [
       "array(['age', 'job', 'marital', 'education', 'default', 'balance',\n",
       "       'housing', 'loan', 'contact', 'day', 'month', 'duration',\n",
       "       'campaign', 'pdays', 'previous', 'poutcome', 'deposit'],\n",
       "      dtype=object)"
      ]
     },
     "execution_count": 7,
     "metadata": {},
     "output_type": "execute_result"
    }
   ],
   "source": [
    "dummy_df = pd.read_csv(\"C:/Users/Smrithi/Documents/Data_science/Learnbay_May/Statistics/Assignment_stats/Assignment_4/bank.csv\", na_values =['NA'])\n",
    "temp = dummy_df.columns.values\n",
    "temp"
   ]
  },
  {
   "cell_type": "code",
   "execution_count": 8,
   "metadata": {},
   "outputs": [
    {
     "data": {
      "text/html": [
       "<div>\n",
       "<style scoped>\n",
       "    .dataframe tbody tr th:only-of-type {\n",
       "        vertical-align: middle;\n",
       "    }\n",
       "\n",
       "    .dataframe tbody tr th {\n",
       "        vertical-align: top;\n",
       "    }\n",
       "\n",
       "    .dataframe thead th {\n",
       "        text-align: right;\n",
       "    }\n",
       "</style>\n",
       "<table border=\"1\" class=\"dataframe\">\n",
       "  <thead>\n",
       "    <tr style=\"text-align: right;\">\n",
       "      <th></th>\n",
       "      <th>age</th>\n",
       "      <th>job</th>\n",
       "      <th>marital</th>\n",
       "      <th>education</th>\n",
       "      <th>default</th>\n",
       "      <th>balance</th>\n",
       "      <th>housing</th>\n",
       "      <th>loan</th>\n",
       "      <th>contact</th>\n",
       "      <th>day</th>\n",
       "      <th>month</th>\n",
       "      <th>duration</th>\n",
       "      <th>campaign</th>\n",
       "      <th>pdays</th>\n",
       "      <th>previous</th>\n",
       "      <th>poutcome</th>\n",
       "      <th>deposit</th>\n",
       "    </tr>\n",
       "  </thead>\n",
       "  <tbody>\n",
       "    <tr>\n",
       "      <th>0</th>\n",
       "      <td>59</td>\n",
       "      <td>admin.</td>\n",
       "      <td>married</td>\n",
       "      <td>secondary</td>\n",
       "      <td>no</td>\n",
       "      <td>2343</td>\n",
       "      <td>yes</td>\n",
       "      <td>no</td>\n",
       "      <td>unknown</td>\n",
       "      <td>5</td>\n",
       "      <td>may</td>\n",
       "      <td>1042</td>\n",
       "      <td>1</td>\n",
       "      <td>-1</td>\n",
       "      <td>0</td>\n",
       "      <td>unknown</td>\n",
       "      <td>yes</td>\n",
       "    </tr>\n",
       "    <tr>\n",
       "      <th>1</th>\n",
       "      <td>56</td>\n",
       "      <td>admin.</td>\n",
       "      <td>married</td>\n",
       "      <td>secondary</td>\n",
       "      <td>no</td>\n",
       "      <td>45</td>\n",
       "      <td>no</td>\n",
       "      <td>no</td>\n",
       "      <td>unknown</td>\n",
       "      <td>5</td>\n",
       "      <td>may</td>\n",
       "      <td>1467</td>\n",
       "      <td>1</td>\n",
       "      <td>-1</td>\n",
       "      <td>0</td>\n",
       "      <td>unknown</td>\n",
       "      <td>yes</td>\n",
       "    </tr>\n",
       "    <tr>\n",
       "      <th>2</th>\n",
       "      <td>41</td>\n",
       "      <td>technician</td>\n",
       "      <td>married</td>\n",
       "      <td>secondary</td>\n",
       "      <td>no</td>\n",
       "      <td>1270</td>\n",
       "      <td>yes</td>\n",
       "      <td>no</td>\n",
       "      <td>unknown</td>\n",
       "      <td>5</td>\n",
       "      <td>may</td>\n",
       "      <td>1389</td>\n",
       "      <td>1</td>\n",
       "      <td>-1</td>\n",
       "      <td>0</td>\n",
       "      <td>unknown</td>\n",
       "      <td>yes</td>\n",
       "    </tr>\n",
       "    <tr>\n",
       "      <th>3</th>\n",
       "      <td>55</td>\n",
       "      <td>services</td>\n",
       "      <td>married</td>\n",
       "      <td>secondary</td>\n",
       "      <td>no</td>\n",
       "      <td>2476</td>\n",
       "      <td>yes</td>\n",
       "      <td>no</td>\n",
       "      <td>unknown</td>\n",
       "      <td>5</td>\n",
       "      <td>may</td>\n",
       "      <td>579</td>\n",
       "      <td>1</td>\n",
       "      <td>-1</td>\n",
       "      <td>0</td>\n",
       "      <td>unknown</td>\n",
       "      <td>yes</td>\n",
       "    </tr>\n",
       "    <tr>\n",
       "      <th>4</th>\n",
       "      <td>54</td>\n",
       "      <td>admin.</td>\n",
       "      <td>married</td>\n",
       "      <td>tertiary</td>\n",
       "      <td>no</td>\n",
       "      <td>184</td>\n",
       "      <td>no</td>\n",
       "      <td>no</td>\n",
       "      <td>unknown</td>\n",
       "      <td>5</td>\n",
       "      <td>may</td>\n",
       "      <td>673</td>\n",
       "      <td>2</td>\n",
       "      <td>-1</td>\n",
       "      <td>0</td>\n",
       "      <td>unknown</td>\n",
       "      <td>yes</td>\n",
       "    </tr>\n",
       "  </tbody>\n",
       "</table>\n",
       "</div>"
      ],
      "text/plain": [
       "   age         job  marital  education default  balance housing loan  contact  \\\n",
       "0   59      admin.  married  secondary      no     2343     yes   no  unknown   \n",
       "1   56      admin.  married  secondary      no       45      no   no  unknown   \n",
       "2   41  technician  married  secondary      no     1270     yes   no  unknown   \n",
       "3   55    services  married  secondary      no     2476     yes   no  unknown   \n",
       "4   54      admin.  married   tertiary      no      184      no   no  unknown   \n",
       "\n",
       "   day month  duration  campaign  pdays  previous poutcome deposit  \n",
       "0    5   may      1042         1     -1         0  unknown     yes  \n",
       "1    5   may      1467         1     -1         0  unknown     yes  \n",
       "2    5   may      1389         1     -1         0  unknown     yes  \n",
       "3    5   may       579         1     -1         0  unknown     yes  \n",
       "4    5   may       673         2     -1         0  unknown     yes  "
      ]
     },
     "execution_count": 8,
     "metadata": {},
     "output_type": "execute_result"
    }
   ],
   "source": [
    "dummy_df.head()"
   ]
  },
  {
   "cell_type": "markdown",
   "metadata": {},
   "source": [
    "## Data Pre-Processing"
   ]
  },
  {
   "cell_type": "code",
   "execution_count": 9,
   "metadata": {},
   "outputs": [],
   "source": [
    "contact_df = dummy_df"
   ]
  },
  {
   "cell_type": "markdown",
   "metadata": {},
   "source": [
    "# Assignment part 2 solution"
   ]
  },
  {
   "cell_type": "code",
   "execution_count": 10,
   "metadata": {},
   "outputs": [],
   "source": [
    "def preprocessor(df):\n",
    "    res_df = df.copy()\n",
    "    le = preprocessing.LabelEncoder()\n",
    "    \n",
    "    res_df['job'] = le.fit_transform(res_df['job'])\n",
    "    res_df['marital'] = le.fit_transform(res_df['marital'])\n",
    "#     res_df['education'] = le.fit_transform(res_df['education'])\n",
    "#     res_df['default'] = le.fit_transform(res_df['default'])\n",
    "    res_df['housing'] = le.fit_transform(res_df['housing'])\n",
    "    res_df['month'] = le.fit_transform(res_df['month'])\n",
    "    res_df['loan'] = le.fit_transform(res_df['loan'])\n",
    "#     res_df['contact'] = le.fit_transform(res_df['contact'])\n",
    "    res_df['day_of_week'] = le.fit_transform(res_df['day'])\n",
    "#     res_df['poutcome'] = le.fit_transform(res_df['poutcome'])\n",
    "    res_df['deposit'] = le.fit_transform(res_df['deposit'])\n",
    "    return res_df"
   ]
  },
  {
   "cell_type": "markdown",
   "metadata": {},
   "source": [
    "# Correlation"
   ]
  },
  {
   "cell_type": "code",
   "execution_count": 11,
   "metadata": {},
   "outputs": [],
   "source": [
    "def corr_calc(df):\n",
    "    df = pd.read_csv(df)\n",
    "    corrmat=df.corr()\n",
    "    print(corrmat)\n",
    "    print('\\n\\n\\n Triangular matrix \\n\\n\\n')\n",
    "    upper_tri=corrmat.where(np.triu(np.ones(corrmat.shape),k=1).astype(np.bool))\n",
    "    print(upper_tri)\n",
    "    to_drop=[column for column in upper_tri.columns if any (upper_tri[column]>0.75)]\n",
    "    print()\n",
    "    print (\"Below are to drop columns\")\n",
    "    print (to_drop)\n",
    "   \n",
    "#     to_retain=[col for col in upper_tri.columns if any (upper_tri[col]<0.75)] ###Doubt###-Why this code is also showing the dropped columns?\n",
    "#     print (f'{to_drop} are non - important variables') \n",
    "#     print (f'{to_retain} are important variables')   \n",
    "        \n",
    "    "
   ]
  },
  {
   "cell_type": "code",
   "execution_count": 33,
   "metadata": {},
   "outputs": [
    {
     "name": "stdout",
     "output_type": "stream",
     "text": [
      "Enter file path: 'C:/Users/Smrithi/Documents/Data_science/Learnbay_May/Statistics/Assignment_stats/Assignment_4/bank.csv'\n",
      "               age   balance       day  duration  campaign     pdays  previous\n",
      "age       1.000000  0.112300 -0.000762  0.000189 -0.005278  0.002774  0.020169\n",
      "balance   0.112300  1.000000  0.010467  0.022436 -0.013894  0.017411  0.030805\n",
      "day      -0.000762  0.010467  1.000000 -0.018511  0.137007 -0.077232 -0.058981\n",
      "duration  0.000189  0.022436 -0.018511  1.000000 -0.041557 -0.027392 -0.026716\n",
      "campaign -0.005278 -0.013894  0.137007 -0.041557  1.000000 -0.102726 -0.049699\n",
      "pdays     0.002774  0.017411 -0.077232 -0.027392 -0.102726  1.000000  0.507272\n",
      "previous  0.020169  0.030805 -0.058981 -0.026716 -0.049699  0.507272  1.000000\n",
      "\n",
      "\n",
      "\n",
      " Triangular matrix \n",
      "\n",
      "\n",
      "\n",
      "          age  balance       day  duration  campaign     pdays  previous\n",
      "age       NaN   0.1123 -0.000762  0.000189 -0.005278  0.002774  0.020169\n",
      "balance   NaN      NaN  0.010467  0.022436 -0.013894  0.017411  0.030805\n",
      "day       NaN      NaN       NaN -0.018511  0.137007 -0.077232 -0.058981\n",
      "duration  NaN      NaN       NaN       NaN -0.041557 -0.027392 -0.026716\n",
      "campaign  NaN      NaN       NaN       NaN       NaN -0.102726 -0.049699\n",
      "pdays     NaN      NaN       NaN       NaN       NaN       NaN  0.507272\n",
      "previous  NaN      NaN       NaN       NaN       NaN       NaN       NaN\n",
      "\n",
      "Below are to drop columns\n",
      "[]\n"
     ]
    },
    {
     "name": "stderr",
     "output_type": "stream",
     "text": [
      "C:\\Users\\Smrithi\\AppData\\Local\\Temp\\ipykernel_92408\\3532383480.py:6: DeprecationWarning: `np.bool` is a deprecated alias for the builtin `bool`. To silence this warning, use `bool` by itself. Doing this will not modify any behavior and is safe. If you specifically wanted the numpy scalar type, use `np.bool_` here.\n",
      "Deprecated in NumPy 1.20; for more details and guidance: https://numpy.org/devdocs/release/1.20.0-notes.html#deprecations\n",
      "  upper_tri=corrmat.where(np.triu(np.ones(corrmat.shape),k=1).astype(np.bool))\n"
     ]
    }
   ],
   "source": [
    "\n",
    "filename=eval(input(\"Enter file path: \"))\n",
    "corr_calc(filename)\n",
    "\n",
    "# 'C:/Users/Smrithi/Documents/Data_science/Learnbay_May/Statistics/Assignment_stats/Assignment_4/bank.csv'"
   ]
  },
  {
   "cell_type": "markdown",
   "metadata": {},
   "source": [
    "# Null values"
   ]
  },
  {
   "cell_type": "code",
   "execution_count": 12,
   "metadata": {},
   "outputs": [
    {
     "data": {
      "text/plain": [
       "age          0\n",
       "job          0\n",
       "marital      0\n",
       "education    0\n",
       "default      0\n",
       "balance      0\n",
       "housing      0\n",
       "loan         0\n",
       "contact      0\n",
       "day          0\n",
       "month        0\n",
       "duration     0\n",
       "campaign     0\n",
       "pdays        0\n",
       "previous     0\n",
       "poutcome     0\n",
       "deposit      0\n",
       "dtype: int64"
      ]
     },
     "execution_count": 12,
     "metadata": {},
     "output_type": "execute_result"
    }
   ],
   "source": [
    "contact_df.isnull().sum()"
   ]
  },
  {
   "cell_type": "code",
   "execution_count": null,
   "metadata": {},
   "outputs": [],
   "source": []
  },
  {
   "cell_type": "markdown",
   "metadata": {},
   "source": [
    "# Redundancy"
   ]
  },
  {
   "cell_type": "code",
   "execution_count": 13,
   "metadata": {},
   "outputs": [
    {
     "data": {
      "text/html": [
       "<div>\n",
       "<style scoped>\n",
       "    .dataframe tbody tr th:only-of-type {\n",
       "        vertical-align: middle;\n",
       "    }\n",
       "\n",
       "    .dataframe tbody tr th {\n",
       "        vertical-align: top;\n",
       "    }\n",
       "\n",
       "    .dataframe thead th {\n",
       "        text-align: right;\n",
       "    }\n",
       "</style>\n",
       "<table border=\"1\" class=\"dataframe\">\n",
       "  <thead>\n",
       "    <tr style=\"text-align: right;\">\n",
       "      <th></th>\n",
       "      <th>age</th>\n",
       "      <th>job</th>\n",
       "      <th>marital</th>\n",
       "      <th>balance</th>\n",
       "      <th>housing</th>\n",
       "      <th>loan</th>\n",
       "      <th>day</th>\n",
       "      <th>month</th>\n",
       "      <th>duration</th>\n",
       "      <th>previous</th>\n",
       "      <th>deposit</th>\n",
       "    </tr>\n",
       "  </thead>\n",
       "  <tbody>\n",
       "    <tr>\n",
       "      <th>0</th>\n",
       "      <td>59</td>\n",
       "      <td>admin.</td>\n",
       "      <td>married</td>\n",
       "      <td>2343</td>\n",
       "      <td>yes</td>\n",
       "      <td>no</td>\n",
       "      <td>5</td>\n",
       "      <td>may</td>\n",
       "      <td>1042</td>\n",
       "      <td>0</td>\n",
       "      <td>yes</td>\n",
       "    </tr>\n",
       "    <tr>\n",
       "      <th>1</th>\n",
       "      <td>56</td>\n",
       "      <td>admin.</td>\n",
       "      <td>married</td>\n",
       "      <td>45</td>\n",
       "      <td>no</td>\n",
       "      <td>no</td>\n",
       "      <td>5</td>\n",
       "      <td>may</td>\n",
       "      <td>1467</td>\n",
       "      <td>0</td>\n",
       "      <td>yes</td>\n",
       "    </tr>\n",
       "    <tr>\n",
       "      <th>2</th>\n",
       "      <td>41</td>\n",
       "      <td>technician</td>\n",
       "      <td>married</td>\n",
       "      <td>1270</td>\n",
       "      <td>yes</td>\n",
       "      <td>no</td>\n",
       "      <td>5</td>\n",
       "      <td>may</td>\n",
       "      <td>1389</td>\n",
       "      <td>0</td>\n",
       "      <td>yes</td>\n",
       "    </tr>\n",
       "    <tr>\n",
       "      <th>3</th>\n",
       "      <td>55</td>\n",
       "      <td>services</td>\n",
       "      <td>married</td>\n",
       "      <td>2476</td>\n",
       "      <td>yes</td>\n",
       "      <td>no</td>\n",
       "      <td>5</td>\n",
       "      <td>may</td>\n",
       "      <td>579</td>\n",
       "      <td>0</td>\n",
       "      <td>yes</td>\n",
       "    </tr>\n",
       "    <tr>\n",
       "      <th>4</th>\n",
       "      <td>54</td>\n",
       "      <td>admin.</td>\n",
       "      <td>married</td>\n",
       "      <td>184</td>\n",
       "      <td>no</td>\n",
       "      <td>no</td>\n",
       "      <td>5</td>\n",
       "      <td>may</td>\n",
       "      <td>673</td>\n",
       "      <td>0</td>\n",
       "      <td>yes</td>\n",
       "    </tr>\n",
       "    <tr>\n",
       "      <th>...</th>\n",
       "      <td>...</td>\n",
       "      <td>...</td>\n",
       "      <td>...</td>\n",
       "      <td>...</td>\n",
       "      <td>...</td>\n",
       "      <td>...</td>\n",
       "      <td>...</td>\n",
       "      <td>...</td>\n",
       "      <td>...</td>\n",
       "      <td>...</td>\n",
       "      <td>...</td>\n",
       "    </tr>\n",
       "    <tr>\n",
       "      <th>11157</th>\n",
       "      <td>33</td>\n",
       "      <td>blue-collar</td>\n",
       "      <td>single</td>\n",
       "      <td>1</td>\n",
       "      <td>yes</td>\n",
       "      <td>no</td>\n",
       "      <td>20</td>\n",
       "      <td>apr</td>\n",
       "      <td>257</td>\n",
       "      <td>0</td>\n",
       "      <td>no</td>\n",
       "    </tr>\n",
       "    <tr>\n",
       "      <th>11158</th>\n",
       "      <td>39</td>\n",
       "      <td>services</td>\n",
       "      <td>married</td>\n",
       "      <td>733</td>\n",
       "      <td>no</td>\n",
       "      <td>no</td>\n",
       "      <td>16</td>\n",
       "      <td>jun</td>\n",
       "      <td>83</td>\n",
       "      <td>0</td>\n",
       "      <td>no</td>\n",
       "    </tr>\n",
       "    <tr>\n",
       "      <th>11159</th>\n",
       "      <td>32</td>\n",
       "      <td>technician</td>\n",
       "      <td>single</td>\n",
       "      <td>29</td>\n",
       "      <td>no</td>\n",
       "      <td>no</td>\n",
       "      <td>19</td>\n",
       "      <td>aug</td>\n",
       "      <td>156</td>\n",
       "      <td>0</td>\n",
       "      <td>no</td>\n",
       "    </tr>\n",
       "    <tr>\n",
       "      <th>11160</th>\n",
       "      <td>43</td>\n",
       "      <td>technician</td>\n",
       "      <td>married</td>\n",
       "      <td>0</td>\n",
       "      <td>no</td>\n",
       "      <td>yes</td>\n",
       "      <td>8</td>\n",
       "      <td>may</td>\n",
       "      <td>9</td>\n",
       "      <td>5</td>\n",
       "      <td>no</td>\n",
       "    </tr>\n",
       "    <tr>\n",
       "      <th>11161</th>\n",
       "      <td>34</td>\n",
       "      <td>technician</td>\n",
       "      <td>married</td>\n",
       "      <td>0</td>\n",
       "      <td>no</td>\n",
       "      <td>no</td>\n",
       "      <td>9</td>\n",
       "      <td>jul</td>\n",
       "      <td>628</td>\n",
       "      <td>0</td>\n",
       "      <td>no</td>\n",
       "    </tr>\n",
       "  </tbody>\n",
       "</table>\n",
       "<p>11162 rows × 11 columns</p>\n",
       "</div>"
      ],
      "text/plain": [
       "       age          job  marital  balance housing loan  day month  duration  \\\n",
       "0       59       admin.  married     2343     yes   no    5   may      1042   \n",
       "1       56       admin.  married       45      no   no    5   may      1467   \n",
       "2       41   technician  married     1270     yes   no    5   may      1389   \n",
       "3       55     services  married     2476     yes   no    5   may       579   \n",
       "4       54       admin.  married      184      no   no    5   may       673   \n",
       "...    ...          ...      ...      ...     ...  ...  ...   ...       ...   \n",
       "11157   33  blue-collar   single        1     yes   no   20   apr       257   \n",
       "11158   39     services  married      733      no   no   16   jun        83   \n",
       "11159   32   technician   single       29      no   no   19   aug       156   \n",
       "11160   43   technician  married        0      no  yes    8   may         9   \n",
       "11161   34   technician  married        0      no   no    9   jul       628   \n",
       "\n",
       "       previous deposit  \n",
       "0             0     yes  \n",
       "1             0     yes  \n",
       "2             0     yes  \n",
       "3             0     yes  \n",
       "4             0     yes  \n",
       "...         ...     ...  \n",
       "11157         0      no  \n",
       "11158         0      no  \n",
       "11159         0      no  \n",
       "11160         5      no  \n",
       "11161         0      no  \n",
       "\n",
       "[11162 rows x 11 columns]"
      ]
     },
     "execution_count": 13,
     "metadata": {},
     "output_type": "execute_result"
    }
   ],
   "source": [
    "contact_df=contact_df.drop(['contact','poutcome','pdays', 'education','default','campaign'],axis=1)\n",
    "contact_df"
   ]
  },
  {
   "cell_type": "code",
   "execution_count": null,
   "metadata": {},
   "outputs": [],
   "source": []
  },
  {
   "cell_type": "markdown",
   "metadata": {},
   "source": [
    "# Outlier removal   #----Doubt how to use loop"
   ]
  },
  {
   "cell_type": "code",
   "execution_count": 14,
   "metadata": {},
   "outputs": [
    {
     "data": {
      "text/html": [
       "<div>\n",
       "<style scoped>\n",
       "    .dataframe tbody tr th:only-of-type {\n",
       "        vertical-align: middle;\n",
       "    }\n",
       "\n",
       "    .dataframe tbody tr th {\n",
       "        vertical-align: top;\n",
       "    }\n",
       "\n",
       "    .dataframe thead th {\n",
       "        text-align: right;\n",
       "    }\n",
       "</style>\n",
       "<table border=\"1\" class=\"dataframe\">\n",
       "  <thead>\n",
       "    <tr style=\"text-align: right;\">\n",
       "      <th></th>\n",
       "      <th>age</th>\n",
       "      <th>job</th>\n",
       "      <th>marital</th>\n",
       "      <th>balance</th>\n",
       "      <th>housing</th>\n",
       "      <th>loan</th>\n",
       "      <th>day</th>\n",
       "      <th>month</th>\n",
       "      <th>duration</th>\n",
       "      <th>previous</th>\n",
       "      <th>deposit</th>\n",
       "    </tr>\n",
       "  </thead>\n",
       "  <tbody>\n",
       "    <tr>\n",
       "      <th>0</th>\n",
       "      <td>59</td>\n",
       "      <td>admin.</td>\n",
       "      <td>married</td>\n",
       "      <td>2343</td>\n",
       "      <td>yes</td>\n",
       "      <td>no</td>\n",
       "      <td>5</td>\n",
       "      <td>may</td>\n",
       "      <td>1042</td>\n",
       "      <td>0</td>\n",
       "      <td>yes</td>\n",
       "    </tr>\n",
       "    <tr>\n",
       "      <th>1</th>\n",
       "      <td>56</td>\n",
       "      <td>admin.</td>\n",
       "      <td>married</td>\n",
       "      <td>45</td>\n",
       "      <td>no</td>\n",
       "      <td>no</td>\n",
       "      <td>5</td>\n",
       "      <td>may</td>\n",
       "      <td>1467</td>\n",
       "      <td>0</td>\n",
       "      <td>yes</td>\n",
       "    </tr>\n",
       "    <tr>\n",
       "      <th>2</th>\n",
       "      <td>41</td>\n",
       "      <td>technician</td>\n",
       "      <td>married</td>\n",
       "      <td>1270</td>\n",
       "      <td>yes</td>\n",
       "      <td>no</td>\n",
       "      <td>5</td>\n",
       "      <td>may</td>\n",
       "      <td>1389</td>\n",
       "      <td>0</td>\n",
       "      <td>yes</td>\n",
       "    </tr>\n",
       "    <tr>\n",
       "      <th>3</th>\n",
       "      <td>55</td>\n",
       "      <td>services</td>\n",
       "      <td>married</td>\n",
       "      <td>2476</td>\n",
       "      <td>yes</td>\n",
       "      <td>no</td>\n",
       "      <td>5</td>\n",
       "      <td>may</td>\n",
       "      <td>579</td>\n",
       "      <td>0</td>\n",
       "      <td>yes</td>\n",
       "    </tr>\n",
       "    <tr>\n",
       "      <th>4</th>\n",
       "      <td>54</td>\n",
       "      <td>admin.</td>\n",
       "      <td>married</td>\n",
       "      <td>184</td>\n",
       "      <td>no</td>\n",
       "      <td>no</td>\n",
       "      <td>5</td>\n",
       "      <td>may</td>\n",
       "      <td>673</td>\n",
       "      <td>0</td>\n",
       "      <td>yes</td>\n",
       "    </tr>\n",
       "    <tr>\n",
       "      <th>...</th>\n",
       "      <td>...</td>\n",
       "      <td>...</td>\n",
       "      <td>...</td>\n",
       "      <td>...</td>\n",
       "      <td>...</td>\n",
       "      <td>...</td>\n",
       "      <td>...</td>\n",
       "      <td>...</td>\n",
       "      <td>...</td>\n",
       "      <td>...</td>\n",
       "      <td>...</td>\n",
       "    </tr>\n",
       "    <tr>\n",
       "      <th>11157</th>\n",
       "      <td>33</td>\n",
       "      <td>blue-collar</td>\n",
       "      <td>single</td>\n",
       "      <td>1</td>\n",
       "      <td>yes</td>\n",
       "      <td>no</td>\n",
       "      <td>20</td>\n",
       "      <td>apr</td>\n",
       "      <td>257</td>\n",
       "      <td>0</td>\n",
       "      <td>no</td>\n",
       "    </tr>\n",
       "    <tr>\n",
       "      <th>11158</th>\n",
       "      <td>39</td>\n",
       "      <td>services</td>\n",
       "      <td>married</td>\n",
       "      <td>733</td>\n",
       "      <td>no</td>\n",
       "      <td>no</td>\n",
       "      <td>16</td>\n",
       "      <td>jun</td>\n",
       "      <td>83</td>\n",
       "      <td>0</td>\n",
       "      <td>no</td>\n",
       "    </tr>\n",
       "    <tr>\n",
       "      <th>11159</th>\n",
       "      <td>32</td>\n",
       "      <td>technician</td>\n",
       "      <td>single</td>\n",
       "      <td>29</td>\n",
       "      <td>no</td>\n",
       "      <td>no</td>\n",
       "      <td>19</td>\n",
       "      <td>aug</td>\n",
       "      <td>156</td>\n",
       "      <td>0</td>\n",
       "      <td>no</td>\n",
       "    </tr>\n",
       "    <tr>\n",
       "      <th>11160</th>\n",
       "      <td>43</td>\n",
       "      <td>technician</td>\n",
       "      <td>married</td>\n",
       "      <td>0</td>\n",
       "      <td>no</td>\n",
       "      <td>yes</td>\n",
       "      <td>8</td>\n",
       "      <td>may</td>\n",
       "      <td>9</td>\n",
       "      <td>5</td>\n",
       "      <td>no</td>\n",
       "    </tr>\n",
       "    <tr>\n",
       "      <th>11161</th>\n",
       "      <td>34</td>\n",
       "      <td>technician</td>\n",
       "      <td>married</td>\n",
       "      <td>0</td>\n",
       "      <td>no</td>\n",
       "      <td>no</td>\n",
       "      <td>9</td>\n",
       "      <td>jul</td>\n",
       "      <td>628</td>\n",
       "      <td>0</td>\n",
       "      <td>no</td>\n",
       "    </tr>\n",
       "  </tbody>\n",
       "</table>\n",
       "<p>11162 rows × 11 columns</p>\n",
       "</div>"
      ],
      "text/plain": [
       "       age          job  marital  balance housing loan  day month  duration  \\\n",
       "0       59       admin.  married     2343     yes   no    5   may      1042   \n",
       "1       56       admin.  married       45      no   no    5   may      1467   \n",
       "2       41   technician  married     1270     yes   no    5   may      1389   \n",
       "3       55     services  married     2476     yes   no    5   may       579   \n",
       "4       54       admin.  married      184      no   no    5   may       673   \n",
       "...    ...          ...      ...      ...     ...  ...  ...   ...       ...   \n",
       "11157   33  blue-collar   single        1     yes   no   20   apr       257   \n",
       "11158   39     services  married      733      no   no   16   jun        83   \n",
       "11159   32   technician   single       29      no   no   19   aug       156   \n",
       "11160   43   technician  married        0      no  yes    8   may         9   \n",
       "11161   34   technician  married        0      no   no    9   jul       628   \n",
       "\n",
       "       previous deposit  \n",
       "0             0     yes  \n",
       "1             0     yes  \n",
       "2             0     yes  \n",
       "3             0     yes  \n",
       "4             0     yes  \n",
       "...         ...     ...  \n",
       "11157         0      no  \n",
       "11158         0      no  \n",
       "11159         0      no  \n",
       "11160         5      no  \n",
       "11161         0      no  \n",
       "\n",
       "[11162 rows x 11 columns]"
      ]
     },
     "execution_count": 14,
     "metadata": {},
     "output_type": "execute_result"
    }
   ],
   "source": [
    "contact_df"
   ]
  },
  {
   "cell_type": "code",
   "execution_count": 15,
   "metadata": {},
   "outputs": [
    {
     "data": {
      "text/html": [
       "<div>\n",
       "<style scoped>\n",
       "    .dataframe tbody tr th:only-of-type {\n",
       "        vertical-align: middle;\n",
       "    }\n",
       "\n",
       "    .dataframe tbody tr th {\n",
       "        vertical-align: top;\n",
       "    }\n",
       "\n",
       "    .dataframe thead th {\n",
       "        text-align: right;\n",
       "    }\n",
       "</style>\n",
       "<table border=\"1\" class=\"dataframe\">\n",
       "  <thead>\n",
       "    <tr style=\"text-align: right;\">\n",
       "      <th></th>\n",
       "      <th>age</th>\n",
       "      <th>balance</th>\n",
       "      <th>day</th>\n",
       "      <th>duration</th>\n",
       "      <th>previous</th>\n",
       "    </tr>\n",
       "  </thead>\n",
       "  <tbody>\n",
       "    <tr>\n",
       "      <th>count</th>\n",
       "      <td>11162.000000</td>\n",
       "      <td>11162.000000</td>\n",
       "      <td>11162.000000</td>\n",
       "      <td>11162.000000</td>\n",
       "      <td>11162.000000</td>\n",
       "    </tr>\n",
       "    <tr>\n",
       "      <th>mean</th>\n",
       "      <td>41.231948</td>\n",
       "      <td>1528.538524</td>\n",
       "      <td>15.658036</td>\n",
       "      <td>371.993818</td>\n",
       "      <td>0.832557</td>\n",
       "    </tr>\n",
       "    <tr>\n",
       "      <th>std</th>\n",
       "      <td>11.913369</td>\n",
       "      <td>3225.413326</td>\n",
       "      <td>8.420740</td>\n",
       "      <td>347.128386</td>\n",
       "      <td>2.292007</td>\n",
       "    </tr>\n",
       "    <tr>\n",
       "      <th>min</th>\n",
       "      <td>18.000000</td>\n",
       "      <td>-6847.000000</td>\n",
       "      <td>1.000000</td>\n",
       "      <td>2.000000</td>\n",
       "      <td>0.000000</td>\n",
       "    </tr>\n",
       "    <tr>\n",
       "      <th>25%</th>\n",
       "      <td>32.000000</td>\n",
       "      <td>122.000000</td>\n",
       "      <td>8.000000</td>\n",
       "      <td>138.000000</td>\n",
       "      <td>0.000000</td>\n",
       "    </tr>\n",
       "    <tr>\n",
       "      <th>50%</th>\n",
       "      <td>39.000000</td>\n",
       "      <td>550.000000</td>\n",
       "      <td>15.000000</td>\n",
       "      <td>255.000000</td>\n",
       "      <td>0.000000</td>\n",
       "    </tr>\n",
       "    <tr>\n",
       "      <th>75%</th>\n",
       "      <td>49.000000</td>\n",
       "      <td>1708.000000</td>\n",
       "      <td>22.000000</td>\n",
       "      <td>496.000000</td>\n",
       "      <td>1.000000</td>\n",
       "    </tr>\n",
       "    <tr>\n",
       "      <th>max</th>\n",
       "      <td>95.000000</td>\n",
       "      <td>81204.000000</td>\n",
       "      <td>31.000000</td>\n",
       "      <td>3881.000000</td>\n",
       "      <td>58.000000</td>\n",
       "    </tr>\n",
       "  </tbody>\n",
       "</table>\n",
       "</div>"
      ],
      "text/plain": [
       "                age       balance           day      duration      previous\n",
       "count  11162.000000  11162.000000  11162.000000  11162.000000  11162.000000\n",
       "mean      41.231948   1528.538524     15.658036    371.993818      0.832557\n",
       "std       11.913369   3225.413326      8.420740    347.128386      2.292007\n",
       "min       18.000000  -6847.000000      1.000000      2.000000      0.000000\n",
       "25%       32.000000    122.000000      8.000000    138.000000      0.000000\n",
       "50%       39.000000    550.000000     15.000000    255.000000      0.000000\n",
       "75%       49.000000   1708.000000     22.000000    496.000000      1.000000\n",
       "max       95.000000  81204.000000     31.000000   3881.000000     58.000000"
      ]
     },
     "execution_count": 15,
     "metadata": {},
     "output_type": "execute_result"
    }
   ],
   "source": [
    "contact_df.describe() #Doubt- Is there a way to find which all are the columns without categorical data apart from describe?"
   ]
  },
  {
   "cell_type": "code",
   "execution_count": 22,
   "metadata": {},
   "outputs": [
    {
     "data": {
      "text/plain": [
       "<AxesSubplot:xlabel='age', ylabel='Density'>"
      ]
     },
     "execution_count": 22,
     "metadata": {},
     "output_type": "execute_result"
    },
    {
     "data": {
      "image/png": "[encoded data removed]",
      "text/plain": [
       "<Figure size 432x288 with 1 Axes>"
      ]
     },
     "metadata": {
      "needs_background": "light"
     },
     "output_type": "display_data"
    }
   ],
   "source": [
    "sns.distplot(contact_df['age'])"
   ]
  },
  {
   "cell_type": "code",
   "execution_count": 24,
   "metadata": {},
   "outputs": [
    {
     "data": {
      "text/plain": [
       "<AxesSubplot:xlabel='age'>"
      ]
     },
     "execution_count": 24,
     "metadata": {},
     "output_type": "execute_result"
    },
    {
     "data": {
      "image/png": "[encoded data removed]",
      "text/plain": [
       "<Figure size 432x288 with 1 Axes>"
      ]
     },
     "metadata": {
      "needs_background": "light"
     },
     "output_type": "display_data"
    }
   ],
   "source": [
    "sns.boxplot(contact_df['age'])"
   ]
  },
  {
   "cell_type": "code",
   "execution_count": 25,
   "metadata": {},
   "outputs": [
    {
     "name": "stdout",
     "output_type": "stream",
     "text": [
      "Upper limit 76.97205525627365\n",
      "Lower limit 5.491840102980966\n"
     ]
    }
   ],
   "source": [
    "# Limits\n",
    "upper_limit=contact_df['age'].mean()+3*contact_df['age'].std()\n",
    "lower_limit=contact_df['age'].mean()-3*contact_df['age'].std()\n",
    "print('Upper limit', upper_limit)\n",
    "print('Lower limit', lower_limit)"
   ]
  },
  {
   "cell_type": "code",
   "execution_count": 29,
   "metadata": {},
   "outputs": [
    {
     "data": {
      "text/html": [
       "<div>\n",
       "<style scoped>\n",
       "    .dataframe tbody tr th:only-of-type {\n",
       "        vertical-align: middle;\n",
       "    }\n",
       "\n",
       "    .dataframe tbody tr th {\n",
       "        vertical-align: top;\n",
       "    }\n",
       "\n",
       "    .dataframe thead th {\n",
       "        text-align: right;\n",
       "    }\n",
       "</style>\n",
       "<table border=\"1\" class=\"dataframe\">\n",
       "  <thead>\n",
       "    <tr style=\"text-align: right;\">\n",
       "      <th></th>\n",
       "      <th>age</th>\n",
       "      <th>job</th>\n",
       "      <th>marital</th>\n",
       "      <th>balance</th>\n",
       "      <th>housing</th>\n",
       "      <th>loan</th>\n",
       "      <th>day</th>\n",
       "      <th>month</th>\n",
       "      <th>duration</th>\n",
       "      <th>previous</th>\n",
       "      <th>deposit</th>\n",
       "    </tr>\n",
       "  </thead>\n",
       "  <tbody>\n",
       "    <tr>\n",
       "      <th>1236</th>\n",
       "      <td>85</td>\n",
       "      <td>retired</td>\n",
       "      <td>married</td>\n",
       "      <td>12114</td>\n",
       "      <td>no</td>\n",
       "      <td>no</td>\n",
       "      <td>12</td>\n",
       "      <td>feb</td>\n",
       "      <td>165</td>\n",
       "      <td>0</td>\n",
       "      <td>yes</td>\n",
       "    </tr>\n",
       "    <tr>\n",
       "      <th>1243</th>\n",
       "      <td>90</td>\n",
       "      <td>retired</td>\n",
       "      <td>divorced</td>\n",
       "      <td>1</td>\n",
       "      <td>no</td>\n",
       "      <td>no</td>\n",
       "      <td>13</td>\n",
       "      <td>feb</td>\n",
       "      <td>152</td>\n",
       "      <td>0</td>\n",
       "      <td>yes</td>\n",
       "    </tr>\n",
       "    <tr>\n",
       "      <th>1274</th>\n",
       "      <td>85</td>\n",
       "      <td>retired</td>\n",
       "      <td>divorced</td>\n",
       "      <td>7613</td>\n",
       "      <td>no</td>\n",
       "      <td>no</td>\n",
       "      <td>18</td>\n",
       "      <td>feb</td>\n",
       "      <td>355</td>\n",
       "      <td>0</td>\n",
       "      <td>yes</td>\n",
       "    </tr>\n",
       "    <tr>\n",
       "      <th>1320</th>\n",
       "      <td>83</td>\n",
       "      <td>retired</td>\n",
       "      <td>divorced</td>\n",
       "      <td>1097</td>\n",
       "      <td>no</td>\n",
       "      <td>no</td>\n",
       "      <td>5</td>\n",
       "      <td>mar</td>\n",
       "      <td>181</td>\n",
       "      <td>0</td>\n",
       "      <td>yes</td>\n",
       "    </tr>\n",
       "    <tr>\n",
       "      <th>1373</th>\n",
       "      <td>83</td>\n",
       "      <td>retired</td>\n",
       "      <td>divorced</td>\n",
       "      <td>46</td>\n",
       "      <td>no</td>\n",
       "      <td>no</td>\n",
       "      <td>25</td>\n",
       "      <td>mar</td>\n",
       "      <td>115</td>\n",
       "      <td>0</td>\n",
       "      <td>yes</td>\n",
       "    </tr>\n",
       "    <tr>\n",
       "      <th>...</th>\n",
       "      <td>...</td>\n",
       "      <td>...</td>\n",
       "      <td>...</td>\n",
       "      <td>...</td>\n",
       "      <td>...</td>\n",
       "      <td>...</td>\n",
       "      <td>...</td>\n",
       "      <td>...</td>\n",
       "      <td>...</td>\n",
       "      <td>...</td>\n",
       "      <td>...</td>\n",
       "    </tr>\n",
       "    <tr>\n",
       "      <th>10438</th>\n",
       "      <td>77</td>\n",
       "      <td>retired</td>\n",
       "      <td>married</td>\n",
       "      <td>1492</td>\n",
       "      <td>no</td>\n",
       "      <td>no</td>\n",
       "      <td>1</td>\n",
       "      <td>sep</td>\n",
       "      <td>663</td>\n",
       "      <td>2</td>\n",
       "      <td>no</td>\n",
       "    </tr>\n",
       "    <tr>\n",
       "      <th>10562</th>\n",
       "      <td>88</td>\n",
       "      <td>retired</td>\n",
       "      <td>married</td>\n",
       "      <td>648</td>\n",
       "      <td>no</td>\n",
       "      <td>no</td>\n",
       "      <td>3</td>\n",
       "      <td>sep</td>\n",
       "      <td>318</td>\n",
       "      <td>0</td>\n",
       "      <td>no</td>\n",
       "    </tr>\n",
       "    <tr>\n",
       "      <th>10570</th>\n",
       "      <td>77</td>\n",
       "      <td>unknown</td>\n",
       "      <td>married</td>\n",
       "      <td>397</td>\n",
       "      <td>no</td>\n",
       "      <td>no</td>\n",
       "      <td>8</td>\n",
       "      <td>nov</td>\n",
       "      <td>207</td>\n",
       "      <td>3</td>\n",
       "      <td>no</td>\n",
       "    </tr>\n",
       "    <tr>\n",
       "      <th>10618</th>\n",
       "      <td>78</td>\n",
       "      <td>retired</td>\n",
       "      <td>married</td>\n",
       "      <td>680</td>\n",
       "      <td>no</td>\n",
       "      <td>no</td>\n",
       "      <td>24</td>\n",
       "      <td>may</td>\n",
       "      <td>838</td>\n",
       "      <td>9</td>\n",
       "      <td>no</td>\n",
       "    </tr>\n",
       "    <tr>\n",
       "      <th>10843</th>\n",
       "      <td>86</td>\n",
       "      <td>retired</td>\n",
       "      <td>divorced</td>\n",
       "      <td>157</td>\n",
       "      <td>no</td>\n",
       "      <td>no</td>\n",
       "      <td>7</td>\n",
       "      <td>sep</td>\n",
       "      <td>147</td>\n",
       "      <td>0</td>\n",
       "      <td>no</td>\n",
       "    </tr>\n",
       "  </tbody>\n",
       "</table>\n",
       "<p>132 rows × 11 columns</p>\n",
       "</div>"
      ],
      "text/plain": [
       "       age      job   marital  balance housing loan  day month  duration  \\\n",
       "1236    85  retired   married    12114      no   no   12   feb       165   \n",
       "1243    90  retired  divorced        1      no   no   13   feb       152   \n",
       "1274    85  retired  divorced     7613      no   no   18   feb       355   \n",
       "1320    83  retired  divorced     1097      no   no    5   mar       181   \n",
       "1373    83  retired  divorced       46      no   no   25   mar       115   \n",
       "...    ...      ...       ...      ...     ...  ...  ...   ...       ...   \n",
       "10438   77  retired   married     1492      no   no    1   sep       663   \n",
       "10562   88  retired   married      648      no   no    3   sep       318   \n",
       "10570   77  unknown   married      397      no   no    8   nov       207   \n",
       "10618   78  retired   married      680      no   no   24   may       838   \n",
       "10843   86  retired  divorced      157      no   no    7   sep       147   \n",
       "\n",
       "       previous deposit  \n",
       "1236          0     yes  \n",
       "1243          0     yes  \n",
       "1274          0     yes  \n",
       "1320          0     yes  \n",
       "1373          0     yes  \n",
       "...         ...     ...  \n",
       "10438         2      no  \n",
       "10562         0      no  \n",
       "10570         3      no  \n",
       "10618         9      no  \n",
       "10843         0      no  \n",
       "\n",
       "[132 rows x 11 columns]"
      ]
     },
     "execution_count": 29,
     "metadata": {},
     "output_type": "execute_result"
    }
   ],
   "source": [
    "# Finding outliers\n",
    "\n",
    "contact_df.loc[(contact_df['age']>upper_limit)|(contact_df['age']<lower_limit)]"
   ]
  },
  {
   "cell_type": "code",
   "execution_count": null,
   "metadata": {},
   "outputs": [],
   "source": [
    "# Trimming"
   ]
  },
  {
   "cell_type": "code",
   "execution_count": 40,
   "metadata": {},
   "outputs": [],
   "source": [
    "# new_df=contact_df.loc[(contact_df['age']<upper_limit)&(contact_df['age']>lower_limit)]\n",
    "# print('new:',len(new_df))\n",
    "# print('old:',len(contact_df))\n"
   ]
  },
  {
   "cell_type": "code",
   "execution_count": 41,
   "metadata": {},
   "outputs": [],
   "source": [
    "# print ('outliers:',len(contact_df)-len(new_df))"
   ]
  },
  {
   "cell_type": "code",
   "execution_count": 42,
   "metadata": {},
   "outputs": [],
   "source": [
    "# sns.boxplot(new_df['age'])"
   ]
  },
  {
   "cell_type": "code",
   "execution_count": null,
   "metadata": {},
   "outputs": [],
   "source": [
    "# Capping"
   ]
  },
  {
   "cell_type": "code",
   "execution_count": 43,
   "metadata": {},
   "outputs": [],
   "source": [
    "# new_df=contact_df.copy()"
   ]
  },
  {
   "cell_type": "code",
   "execution_count": 82,
   "metadata": {},
   "outputs": [],
   "source": [
    "contact_df.loc[contact_df['age']>upper_limit, 'age']=upper_limit\n",
    "contact_df.loc[contact_df['age']<lower_limit, 'age']=lower_limit"
   ]
  },
  {
   "cell_type": "code",
   "execution_count": 83,
   "metadata": {},
   "outputs": [
    {
     "data": {
      "text/plain": [
       "<AxesSubplot:xlabel='age'>"
      ]
     },
     "execution_count": 83,
     "metadata": {},
     "output_type": "execute_result"
    },
    {
     "data": {
      "image/png": "[encoded data removed]",
      "text/plain": [
       "<Figure size 432x288 with 1 Axes>"
      ]
     },
     "metadata": {
      "needs_background": "light"
     },
     "output_type": "display_data"
    }
   ],
   "source": [
    "sns.boxplot(contact_df['age'])"
   ]
  },
  {
   "cell_type": "code",
   "execution_count": null,
   "metadata": {},
   "outputs": [],
   "source": [
    "# Balance"
   ]
  },
  {
   "cell_type": "code",
   "execution_count": 49,
   "metadata": {},
   "outputs": [
    {
     "data": {
      "text/plain": [
       "<AxesSubplot:xlabel='balance', ylabel='Density'>"
      ]
     },
     "execution_count": 49,
     "metadata": {},
     "output_type": "execute_result"
    },
    {
     "data": {
      "image/png": "[encoded data removed]",
      "text/plain": [
       "<Figure size 432x288 with 1 Axes>"
      ]
     },
     "metadata": {
      "needs_background": "light"
     },
     "output_type": "display_data"
    }
   ],
   "source": [
    "sns.distplot(contact_df['balance'])"
   ]
  },
  {
   "cell_type": "code",
   "execution_count": 50,
   "metadata": {},
   "outputs": [
    {
     "data": {
      "text/plain": [
       "<AxesSubplot:xlabel='balance'>"
      ]
     },
     "execution_count": 50,
     "metadata": {},
     "output_type": "execute_result"
    },
    {
     "data": {
      "image/png": "[encoded data removed]",
      "text/plain": [
       "<Figure size 432x288 with 1 Axes>"
      ]
     },
     "metadata": {
      "needs_background": "light"
     },
     "output_type": "display_data"
    }
   ],
   "source": [
    "sns.boxplot(contact_df['balance'])"
   ]
  },
  {
   "cell_type": "code",
   "execution_count": 51,
   "metadata": {},
   "outputs": [
    {
     "name": "stdout",
     "output_type": "stream",
     "text": [
      "Upper limit 11204.778501400662\n",
      "Lower limit -8147.701454276492\n"
     ]
    }
   ],
   "source": [
    "# Limits\n",
    "upper_limit_b=contact_df['balance'].mean()+3*contact_df['balance'].std()\n",
    "lower_limit_b=contact_df['balance'].mean()-3*contact_df['balance'].std()\n",
    "print('Upper limit', upper_limit_b)\n",
    "print('Lower limit', lower_limit_b)"
   ]
  },
  {
   "cell_type": "code",
   "execution_count": 53,
   "metadata": {},
   "outputs": [
    {
     "data": {
      "text/html": [
       "<div>\n",
       "<style scoped>\n",
       "    .dataframe tbody tr th:only-of-type {\n",
       "        vertical-align: middle;\n",
       "    }\n",
       "\n",
       "    .dataframe tbody tr th {\n",
       "        vertical-align: top;\n",
       "    }\n",
       "\n",
       "    .dataframe thead th {\n",
       "        text-align: right;\n",
       "    }\n",
       "</style>\n",
       "<table border=\"1\" class=\"dataframe\">\n",
       "  <thead>\n",
       "    <tr style=\"text-align: right;\">\n",
       "      <th></th>\n",
       "      <th>age</th>\n",
       "      <th>job</th>\n",
       "      <th>marital</th>\n",
       "      <th>balance</th>\n",
       "      <th>housing</th>\n",
       "      <th>loan</th>\n",
       "      <th>day</th>\n",
       "      <th>month</th>\n",
       "      <th>duration</th>\n",
       "      <th>previous</th>\n",
       "      <th>deposit</th>\n",
       "    </tr>\n",
       "  </thead>\n",
       "  <tbody>\n",
       "    <tr>\n",
       "      <th>170</th>\n",
       "      <td>27</td>\n",
       "      <td>management</td>\n",
       "      <td>single</td>\n",
       "      <td>12956</td>\n",
       "      <td>yes</td>\n",
       "      <td>no</td>\n",
       "      <td>29</td>\n",
       "      <td>may</td>\n",
       "      <td>789</td>\n",
       "      <td>0</td>\n",
       "      <td>yes</td>\n",
       "    </tr>\n",
       "    <tr>\n",
       "      <th>185</th>\n",
       "      <td>46</td>\n",
       "      <td>management</td>\n",
       "      <td>divorced</td>\n",
       "      <td>14481</td>\n",
       "      <td>yes</td>\n",
       "      <td>no</td>\n",
       "      <td>30</td>\n",
       "      <td>may</td>\n",
       "      <td>1269</td>\n",
       "      <td>0</td>\n",
       "      <td>yes</td>\n",
       "    </tr>\n",
       "    <tr>\n",
       "      <th>692</th>\n",
       "      <td>42</td>\n",
       "      <td>technician</td>\n",
       "      <td>married</td>\n",
       "      <td>14282</td>\n",
       "      <td>yes</td>\n",
       "      <td>no</td>\n",
       "      <td>6</td>\n",
       "      <td>aug</td>\n",
       "      <td>649</td>\n",
       "      <td>0</td>\n",
       "      <td>yes</td>\n",
       "    </tr>\n",
       "    <tr>\n",
       "      <th>771</th>\n",
       "      <td>32</td>\n",
       "      <td>technician</td>\n",
       "      <td>single</td>\n",
       "      <td>34646</td>\n",
       "      <td>no</td>\n",
       "      <td>no</td>\n",
       "      <td>13</td>\n",
       "      <td>aug</td>\n",
       "      <td>618</td>\n",
       "      <td>0</td>\n",
       "      <td>yes</td>\n",
       "    </tr>\n",
       "    <tr>\n",
       "      <th>861</th>\n",
       "      <td>60</td>\n",
       "      <td>unknown</td>\n",
       "      <td>married</td>\n",
       "      <td>17297</td>\n",
       "      <td>no</td>\n",
       "      <td>no</td>\n",
       "      <td>26</td>\n",
       "      <td>aug</td>\n",
       "      <td>664</td>\n",
       "      <td>0</td>\n",
       "      <td>yes</td>\n",
       "    </tr>\n",
       "    <tr>\n",
       "      <th>...</th>\n",
       "      <td>...</td>\n",
       "      <td>...</td>\n",
       "      <td>...</td>\n",
       "      <td>...</td>\n",
       "      <td>...</td>\n",
       "      <td>...</td>\n",
       "      <td>...</td>\n",
       "      <td>...</td>\n",
       "      <td>...</td>\n",
       "      <td>...</td>\n",
       "      <td>...</td>\n",
       "    </tr>\n",
       "    <tr>\n",
       "      <th>10827</th>\n",
       "      <td>55</td>\n",
       "      <td>management</td>\n",
       "      <td>married</td>\n",
       "      <td>13578</td>\n",
       "      <td>no</td>\n",
       "      <td>no</td>\n",
       "      <td>29</td>\n",
       "      <td>oct</td>\n",
       "      <td>247</td>\n",
       "      <td>0</td>\n",
       "      <td>no</td>\n",
       "    </tr>\n",
       "    <tr>\n",
       "      <th>10845</th>\n",
       "      <td>31</td>\n",
       "      <td>management</td>\n",
       "      <td>married</td>\n",
       "      <td>22867</td>\n",
       "      <td>yes</td>\n",
       "      <td>no</td>\n",
       "      <td>27</td>\n",
       "      <td>may</td>\n",
       "      <td>241</td>\n",
       "      <td>0</td>\n",
       "      <td>no</td>\n",
       "    </tr>\n",
       "    <tr>\n",
       "      <th>10927</th>\n",
       "      <td>31</td>\n",
       "      <td>technician</td>\n",
       "      <td>single</td>\n",
       "      <td>31868</td>\n",
       "      <td>no</td>\n",
       "      <td>no</td>\n",
       "      <td>14</td>\n",
       "      <td>aug</td>\n",
       "      <td>34</td>\n",
       "      <td>0</td>\n",
       "      <td>no</td>\n",
       "    </tr>\n",
       "    <tr>\n",
       "      <th>10983</th>\n",
       "      <td>53</td>\n",
       "      <td>management</td>\n",
       "      <td>married</td>\n",
       "      <td>20772</td>\n",
       "      <td>no</td>\n",
       "      <td>no</td>\n",
       "      <td>4</td>\n",
       "      <td>feb</td>\n",
       "      <td>715</td>\n",
       "      <td>0</td>\n",
       "      <td>no</td>\n",
       "    </tr>\n",
       "    <tr>\n",
       "      <th>11030</th>\n",
       "      <td>34</td>\n",
       "      <td>technician</td>\n",
       "      <td>single</td>\n",
       "      <td>18777</td>\n",
       "      <td>yes</td>\n",
       "      <td>no</td>\n",
       "      <td>18</td>\n",
       "      <td>nov</td>\n",
       "      <td>535</td>\n",
       "      <td>0</td>\n",
       "      <td>no</td>\n",
       "    </tr>\n",
       "  </tbody>\n",
       "</table>\n",
       "<p>173 rows × 11 columns</p>\n",
       "</div>"
      ],
      "text/plain": [
       "       age         job   marital  balance housing loan  day month  duration  \\\n",
       "170     27  management    single    12956     yes   no   29   may       789   \n",
       "185     46  management  divorced    14481     yes   no   30   may      1269   \n",
       "692     42  technician   married    14282     yes   no    6   aug       649   \n",
       "771     32  technician    single    34646      no   no   13   aug       618   \n",
       "861     60     unknown   married    17297      no   no   26   aug       664   \n",
       "...    ...         ...       ...      ...     ...  ...  ...   ...       ...   \n",
       "10827   55  management   married    13578      no   no   29   oct       247   \n",
       "10845   31  management   married    22867     yes   no   27   may       241   \n",
       "10927   31  technician    single    31868      no   no   14   aug        34   \n",
       "10983   53  management   married    20772      no   no    4   feb       715   \n",
       "11030   34  technician    single    18777     yes   no   18   nov       535   \n",
       "\n",
       "       previous deposit  \n",
       "170           0     yes  \n",
       "185           0     yes  \n",
       "692           0     yes  \n",
       "771           0     yes  \n",
       "861           0     yes  \n",
       "...         ...     ...  \n",
       "10827         0      no  \n",
       "10845         0      no  \n",
       "10927         0      no  \n",
       "10983         0      no  \n",
       "11030         0      no  \n",
       "\n",
       "[173 rows x 11 columns]"
      ]
     },
     "execution_count": 53,
     "metadata": {},
     "output_type": "execute_result"
    }
   ],
   "source": [
    "# Outliers\n",
    "contact_df.loc[(contact_df['balance']>upper_limit_b)|(contact_df['balance']<lower_limit_b)]"
   ]
  },
  {
   "cell_type": "code",
   "execution_count": 80,
   "metadata": {},
   "outputs": [
    {
     "data": {
      "text/plain": [
       "<AxesSubplot:xlabel='balance'>"
      ]
     },
     "execution_count": 80,
     "metadata": {},
     "output_type": "execute_result"
    },
    {
     "data": {
      "image/png": "[encoded data removed]",
      "text/plain": [
       "<Figure size 432x288 with 1 Axes>"
      ]
     },
     "metadata": {
      "needs_background": "light"
     },
     "output_type": "display_data"
    }
   ],
   "source": [
    "# capping\n",
    "# new_df_b=contact_df.copy()\n",
    "contact_df.loc[contact_df['balance']>upper_limit_b, 'balance']=upper_limit_b\n",
    "contact_df.loc[contact_df['balance']<lower_limit_b, 'balance']=lower_limit_b\n",
    "sns.boxplot(contact_df['balance'])"
   ]
  },
  {
   "cell_type": "code",
   "execution_count": null,
   "metadata": {},
   "outputs": [],
   "source": [
    "# Doubt --- Will capping not create biasness in interpreting the data? will trimming lead to data loss?"
   ]
  },
  {
   "cell_type": "code",
   "execution_count": null,
   "metadata": {},
   "outputs": [],
   "source": [
    "# Day"
   ]
  },
  {
   "cell_type": "code",
   "execution_count": 58,
   "metadata": {},
   "outputs": [
    {
     "data": {
      "text/plain": [
       "<AxesSubplot:xlabel='day'>"
      ]
     },
     "execution_count": 58,
     "metadata": {},
     "output_type": "execute_result"
    },
    {
     "data": {
      "image/png": "[encoded data removed]",
      "text/plain": [
       "<Figure size 432x288 with 1 Axes>"
      ]
     },
     "metadata": {
      "needs_background": "light"
     },
     "output_type": "display_data"
    }
   ],
   "source": [
    "sns.boxplot(contact_df['day'])"
   ]
  },
  {
   "cell_type": "code",
   "execution_count": null,
   "metadata": {},
   "outputs": [],
   "source": [
    "# Duration"
   ]
  },
  {
   "cell_type": "code",
   "execution_count": 60,
   "metadata": {},
   "outputs": [
    {
     "data": {
      "text/plain": [
       "<AxesSubplot:xlabel='duration'>"
      ]
     },
     "execution_count": 60,
     "metadata": {},
     "output_type": "execute_result"
    },
    {
     "data": {
      "image/png": "[encoded data removed]",
      "text/plain": [
       "<Figure size 432x288 with 1 Axes>"
      ]
     },
     "metadata": {
      "needs_background": "light"
     },
     "output_type": "display_data"
    }
   ],
   "source": [
    "sns.boxplot(contact_df['duration'])"
   ]
  },
  {
   "cell_type": "code",
   "execution_count": null,
   "metadata": {},
   "outputs": [],
   "source": []
  },
  {
   "cell_type": "code",
   "execution_count": 61,
   "metadata": {},
   "outputs": [
    {
     "name": "stdout",
     "output_type": "stream",
     "text": [
      "Upper limit 1413.3789754610511\n",
      "Lower limit -669.3913388367904\n"
     ]
    }
   ],
   "source": [
    "# Limits\n",
    "upper_limit_d=contact_df['duration'].mean()+3*contact_df['duration'].std()\n",
    "lower_limit_d=contact_df['duration'].mean()-3*contact_df['duration'].std()\n",
    "print('Upper limit', upper_limit_d)\n",
    "print('Lower limit', lower_limit_d)"
   ]
  },
  {
   "cell_type": "code",
   "execution_count": 62,
   "metadata": {},
   "outputs": [
    {
     "data": {
      "text/html": [
       "<div>\n",
       "<style scoped>\n",
       "    .dataframe tbody tr th:only-of-type {\n",
       "        vertical-align: middle;\n",
       "    }\n",
       "\n",
       "    .dataframe tbody tr th {\n",
       "        vertical-align: top;\n",
       "    }\n",
       "\n",
       "    .dataframe thead th {\n",
       "        text-align: right;\n",
       "    }\n",
       "</style>\n",
       "<table border=\"1\" class=\"dataframe\">\n",
       "  <thead>\n",
       "    <tr style=\"text-align: right;\">\n",
       "      <th></th>\n",
       "      <th>age</th>\n",
       "      <th>job</th>\n",
       "      <th>marital</th>\n",
       "      <th>balance</th>\n",
       "      <th>housing</th>\n",
       "      <th>loan</th>\n",
       "      <th>day</th>\n",
       "      <th>month</th>\n",
       "      <th>duration</th>\n",
       "      <th>previous</th>\n",
       "      <th>deposit</th>\n",
       "    </tr>\n",
       "  </thead>\n",
       "  <tbody>\n",
       "    <tr>\n",
       "      <th>1</th>\n",
       "      <td>56</td>\n",
       "      <td>admin.</td>\n",
       "      <td>married</td>\n",
       "      <td>45</td>\n",
       "      <td>no</td>\n",
       "      <td>no</td>\n",
       "      <td>5</td>\n",
       "      <td>may</td>\n",
       "      <td>1467</td>\n",
       "      <td>0</td>\n",
       "      <td>yes</td>\n",
       "    </tr>\n",
       "    <tr>\n",
       "      <th>11</th>\n",
       "      <td>30</td>\n",
       "      <td>blue-collar</td>\n",
       "      <td>married</td>\n",
       "      <td>309</td>\n",
       "      <td>yes</td>\n",
       "      <td>no</td>\n",
       "      <td>7</td>\n",
       "      <td>may</td>\n",
       "      <td>1574</td>\n",
       "      <td>0</td>\n",
       "      <td>yes</td>\n",
       "    </tr>\n",
       "    <tr>\n",
       "      <th>12</th>\n",
       "      <td>29</td>\n",
       "      <td>management</td>\n",
       "      <td>married</td>\n",
       "      <td>199</td>\n",
       "      <td>yes</td>\n",
       "      <td>yes</td>\n",
       "      <td>7</td>\n",
       "      <td>may</td>\n",
       "      <td>1689</td>\n",
       "      <td>0</td>\n",
       "      <td>yes</td>\n",
       "    </tr>\n",
       "    <tr>\n",
       "      <th>22</th>\n",
       "      <td>43</td>\n",
       "      <td>management</td>\n",
       "      <td>divorced</td>\n",
       "      <td>388</td>\n",
       "      <td>yes</td>\n",
       "      <td>no</td>\n",
       "      <td>8</td>\n",
       "      <td>may</td>\n",
       "      <td>2087</td>\n",
       "      <td>0</td>\n",
       "      <td>yes</td>\n",
       "    </tr>\n",
       "    <tr>\n",
       "      <th>33</th>\n",
       "      <td>40</td>\n",
       "      <td>blue-collar</td>\n",
       "      <td>married</td>\n",
       "      <td>10</td>\n",
       "      <td>yes</td>\n",
       "      <td>no</td>\n",
       "      <td>9</td>\n",
       "      <td>may</td>\n",
       "      <td>1692</td>\n",
       "      <td>0</td>\n",
       "      <td>yes</td>\n",
       "    </tr>\n",
       "    <tr>\n",
       "      <th>...</th>\n",
       "      <td>...</td>\n",
       "      <td>...</td>\n",
       "      <td>...</td>\n",
       "      <td>...</td>\n",
       "      <td>...</td>\n",
       "      <td>...</td>\n",
       "      <td>...</td>\n",
       "      <td>...</td>\n",
       "      <td>...</td>\n",
       "      <td>...</td>\n",
       "      <td>...</td>\n",
       "    </tr>\n",
       "    <tr>\n",
       "      <th>9364</th>\n",
       "      <td>47</td>\n",
       "      <td>management</td>\n",
       "      <td>married</td>\n",
       "      <td>2475</td>\n",
       "      <td>yes</td>\n",
       "      <td>no</td>\n",
       "      <td>20</td>\n",
       "      <td>nov</td>\n",
       "      <td>1476</td>\n",
       "      <td>0</td>\n",
       "      <td>no</td>\n",
       "    </tr>\n",
       "    <tr>\n",
       "      <th>9430</th>\n",
       "      <td>89</td>\n",
       "      <td>retired</td>\n",
       "      <td>married</td>\n",
       "      <td>553</td>\n",
       "      <td>no</td>\n",
       "      <td>no</td>\n",
       "      <td>19</td>\n",
       "      <td>aug</td>\n",
       "      <td>2027</td>\n",
       "      <td>0</td>\n",
       "      <td>no</td>\n",
       "    </tr>\n",
       "    <tr>\n",
       "      <th>10401</th>\n",
       "      <td>38</td>\n",
       "      <td>blue-collar</td>\n",
       "      <td>married</td>\n",
       "      <td>376</td>\n",
       "      <td>yes</td>\n",
       "      <td>no</td>\n",
       "      <td>7</td>\n",
       "      <td>may</td>\n",
       "      <td>1521</td>\n",
       "      <td>0</td>\n",
       "      <td>no</td>\n",
       "    </tr>\n",
       "    <tr>\n",
       "      <th>10647</th>\n",
       "      <td>31</td>\n",
       "      <td>technician</td>\n",
       "      <td>single</td>\n",
       "      <td>433</td>\n",
       "      <td>no</td>\n",
       "      <td>no</td>\n",
       "      <td>11</td>\n",
       "      <td>aug</td>\n",
       "      <td>1504</td>\n",
       "      <td>0</td>\n",
       "      <td>no</td>\n",
       "    </tr>\n",
       "    <tr>\n",
       "      <th>11008</th>\n",
       "      <td>56</td>\n",
       "      <td>services</td>\n",
       "      <td>married</td>\n",
       "      <td>616</td>\n",
       "      <td>no</td>\n",
       "      <td>no</td>\n",
       "      <td>18</td>\n",
       "      <td>jun</td>\n",
       "      <td>1812</td>\n",
       "      <td>0</td>\n",
       "      <td>no</td>\n",
       "    </tr>\n",
       "  </tbody>\n",
       "</table>\n",
       "<p>201 rows × 11 columns</p>\n",
       "</div>"
      ],
      "text/plain": [
       "       age          job   marital  balance housing loan  day month  duration  \\\n",
       "1       56       admin.   married       45      no   no    5   may      1467   \n",
       "11      30  blue-collar   married      309     yes   no    7   may      1574   \n",
       "12      29   management   married      199     yes  yes    7   may      1689   \n",
       "22      43   management  divorced      388     yes   no    8   may      2087   \n",
       "33      40  blue-collar   married       10     yes   no    9   may      1692   \n",
       "...    ...          ...       ...      ...     ...  ...  ...   ...       ...   \n",
       "9364    47   management   married     2475     yes   no   20   nov      1476   \n",
       "9430    89      retired   married      553      no   no   19   aug      2027   \n",
       "10401   38  blue-collar   married      376     yes   no    7   may      1521   \n",
       "10647   31   technician    single      433      no   no   11   aug      1504   \n",
       "11008   56     services   married      616      no   no   18   jun      1812   \n",
       "\n",
       "       previous deposit  \n",
       "1             0     yes  \n",
       "11            0     yes  \n",
       "12            0     yes  \n",
       "22            0     yes  \n",
       "33            0     yes  \n",
       "...         ...     ...  \n",
       "9364          0      no  \n",
       "9430          0      no  \n",
       "10401         0      no  \n",
       "10647         0      no  \n",
       "11008         0      no  \n",
       "\n",
       "[201 rows x 11 columns]"
      ]
     },
     "execution_count": 62,
     "metadata": {},
     "output_type": "execute_result"
    }
   ],
   "source": [
    "# Outliers\n",
    "contact_df.loc[(contact_df['duration']>upper_limit_d)|(contact_df['duration']<lower_limit_d)]"
   ]
  },
  {
   "cell_type": "code",
   "execution_count": 79,
   "metadata": {},
   "outputs": [
    {
     "data": {
      "text/plain": [
       "<AxesSubplot:xlabel='duration'>"
      ]
     },
     "execution_count": 79,
     "metadata": {},
     "output_type": "execute_result"
    },
    {
     "data": {
      "image/png": "[encoded data removed]",
      "text/plain": [
       "<Figure size 432x288 with 1 Axes>"
      ]
     },
     "metadata": {
      "needs_background": "light"
     },
     "output_type": "display_data"
    }
   ],
   "source": [
    "# capping\n",
    "# new_df_d=contact_df.copy()\n",
    "contact_df.loc[contact_df['duration']>upper_limit_d, 'duration']=upper_limit_d\n",
    "contact_df.loc[contact_df['duration']<lower_limit_d, 'duration']=lower_limit_d\n",
    "sns.boxplot(contact_df['duration'])"
   ]
  },
  {
   "cell_type": "code",
   "execution_count": null,
   "metadata": {},
   "outputs": [],
   "source": [
    "# previous"
   ]
  },
  {
   "cell_type": "code",
   "execution_count": 64,
   "metadata": {},
   "outputs": [
    {
     "data": {
      "text/plain": [
       "<AxesSubplot:xlabel='previous', ylabel='Density'>"
      ]
     },
     "execution_count": 64,
     "metadata": {},
     "output_type": "execute_result"
    },
    {
     "data": {
      "image/png": "[encoded data removed]",
      "text/plain": [
       "<Figure size 432x288 with 1 Axes>"
      ]
     },
     "metadata": {
      "needs_background": "light"
     },
     "output_type": "display_data"
    }
   ],
   "source": [
    "sns.distplot(contact_df['previous'])"
   ]
  },
  {
   "cell_type": "code",
   "execution_count": 65,
   "metadata": {},
   "outputs": [
    {
     "data": {
      "text/plain": [
       "<AxesSubplot:xlabel='previous'>"
      ]
     },
     "execution_count": 65,
     "metadata": {},
     "output_type": "execute_result"
    },
    {
     "data": {
      "image/png": "[encoded data removed]",
      "text/plain": [
       "<Figure size 432x288 with 1 Axes>"
      ]
     },
     "metadata": {
      "needs_background": "light"
     },
     "output_type": "display_data"
    }
   ],
   "source": [
    "sns.boxplot(contact_df['previous'])"
   ]
  },
  {
   "cell_type": "code",
   "execution_count": 71,
   "metadata": {},
   "outputs": [
    {
     "name": "stdout",
     "output_type": "stream",
     "text": [
      "Upper limit 7.7085785454572555\n",
      "Lower limit -6.043464766564584\n"
     ]
    }
   ],
   "source": [
    "# Limits\n",
    "upper_limit_p=contact_df['previous'].mean()+3*contact_df['previous'].std()\n",
    "lower_limit_p=contact_df['previous'].mean()-3*contact_df['previous'].std()\n",
    "print('Upper limit', upper_limit_p)\n",
    "print('Lower limit', lower_limit_p)"
   ]
  },
  {
   "cell_type": "code",
   "execution_count": 74,
   "metadata": {},
   "outputs": [
    {
     "data": {
      "text/html": [
       "<div>\n",
       "<style scoped>\n",
       "    .dataframe tbody tr th:only-of-type {\n",
       "        vertical-align: middle;\n",
       "    }\n",
       "\n",
       "    .dataframe tbody tr th {\n",
       "        vertical-align: top;\n",
       "    }\n",
       "\n",
       "    .dataframe thead th {\n",
       "        text-align: right;\n",
       "    }\n",
       "</style>\n",
       "<table border=\"1\" class=\"dataframe\">\n",
       "  <thead>\n",
       "    <tr style=\"text-align: right;\">\n",
       "      <th></th>\n",
       "      <th>age</th>\n",
       "      <th>job</th>\n",
       "      <th>marital</th>\n",
       "      <th>balance</th>\n",
       "      <th>housing</th>\n",
       "      <th>loan</th>\n",
       "      <th>day</th>\n",
       "      <th>month</th>\n",
       "      <th>duration</th>\n",
       "      <th>previous</th>\n",
       "      <th>deposit</th>\n",
       "    </tr>\n",
       "  </thead>\n",
       "  <tbody>\n",
       "    <tr>\n",
       "      <th>1007</th>\n",
       "      <td>33</td>\n",
       "      <td>technician</td>\n",
       "      <td>married</td>\n",
       "      <td>6843</td>\n",
       "      <td>no</td>\n",
       "      <td>no</td>\n",
       "      <td>20</td>\n",
       "      <td>nov</td>\n",
       "      <td>755</td>\n",
       "      <td>10.0</td>\n",
       "      <td>yes</td>\n",
       "    </tr>\n",
       "    <tr>\n",
       "      <th>1062</th>\n",
       "      <td>31</td>\n",
       "      <td>management</td>\n",
       "      <td>married</td>\n",
       "      <td>4148</td>\n",
       "      <td>yes</td>\n",
       "      <td>no</td>\n",
       "      <td>21</td>\n",
       "      <td>nov</td>\n",
       "      <td>316</td>\n",
       "      <td>9.0</td>\n",
       "      <td>yes</td>\n",
       "    </tr>\n",
       "    <tr>\n",
       "      <th>1185</th>\n",
       "      <td>26</td>\n",
       "      <td>entrepreneur</td>\n",
       "      <td>single</td>\n",
       "      <td>725</td>\n",
       "      <td>no</td>\n",
       "      <td>no</td>\n",
       "      <td>5</td>\n",
       "      <td>feb</td>\n",
       "      <td>1916</td>\n",
       "      <td>29.0</td>\n",
       "      <td>yes</td>\n",
       "    </tr>\n",
       "    <tr>\n",
       "      <th>1383</th>\n",
       "      <td>46</td>\n",
       "      <td>admin.</td>\n",
       "      <td>married</td>\n",
       "      <td>-522</td>\n",
       "      <td>yes</td>\n",
       "      <td>no</td>\n",
       "      <td>27</td>\n",
       "      <td>mar</td>\n",
       "      <td>243</td>\n",
       "      <td>13.0</td>\n",
       "      <td>yes</td>\n",
       "    </tr>\n",
       "    <tr>\n",
       "      <th>1408</th>\n",
       "      <td>33</td>\n",
       "      <td>technician</td>\n",
       "      <td>single</td>\n",
       "      <td>127</td>\n",
       "      <td>yes</td>\n",
       "      <td>no</td>\n",
       "      <td>6</td>\n",
       "      <td>apr</td>\n",
       "      <td>583</td>\n",
       "      <td>17.0</td>\n",
       "      <td>yes</td>\n",
       "    </tr>\n",
       "    <tr>\n",
       "      <th>...</th>\n",
       "      <td>...</td>\n",
       "      <td>...</td>\n",
       "      <td>...</td>\n",
       "      <td>...</td>\n",
       "      <td>...</td>\n",
       "      <td>...</td>\n",
       "      <td>...</td>\n",
       "      <td>...</td>\n",
       "      <td>...</td>\n",
       "      <td>...</td>\n",
       "      <td>...</td>\n",
       "    </tr>\n",
       "    <tr>\n",
       "      <th>10817</th>\n",
       "      <td>30</td>\n",
       "      <td>self-employed</td>\n",
       "      <td>married</td>\n",
       "      <td>163</td>\n",
       "      <td>yes</td>\n",
       "      <td>no</td>\n",
       "      <td>18</td>\n",
       "      <td>may</td>\n",
       "      <td>149</td>\n",
       "      <td>8.0</td>\n",
       "      <td>no</td>\n",
       "    </tr>\n",
       "    <tr>\n",
       "      <th>10822</th>\n",
       "      <td>59</td>\n",
       "      <td>management</td>\n",
       "      <td>married</td>\n",
       "      <td>287</td>\n",
       "      <td>yes</td>\n",
       "      <td>no</td>\n",
       "      <td>20</td>\n",
       "      <td>apr</td>\n",
       "      <td>818</td>\n",
       "      <td>8.0</td>\n",
       "      <td>no</td>\n",
       "    </tr>\n",
       "    <tr>\n",
       "      <th>10967</th>\n",
       "      <td>46</td>\n",
       "      <td>blue-collar</td>\n",
       "      <td>married</td>\n",
       "      <td>1291</td>\n",
       "      <td>yes</td>\n",
       "      <td>no</td>\n",
       "      <td>14</td>\n",
       "      <td>may</td>\n",
       "      <td>142</td>\n",
       "      <td>17.0</td>\n",
       "      <td>no</td>\n",
       "    </tr>\n",
       "    <tr>\n",
       "      <th>11007</th>\n",
       "      <td>31</td>\n",
       "      <td>admin.</td>\n",
       "      <td>single</td>\n",
       "      <td>690</td>\n",
       "      <td>no</td>\n",
       "      <td>no</td>\n",
       "      <td>4</td>\n",
       "      <td>may</td>\n",
       "      <td>10</td>\n",
       "      <td>12.0</td>\n",
       "      <td>no</td>\n",
       "    </tr>\n",
       "    <tr>\n",
       "      <th>11054</th>\n",
       "      <td>26</td>\n",
       "      <td>services</td>\n",
       "      <td>single</td>\n",
       "      <td>162</td>\n",
       "      <td>yes</td>\n",
       "      <td>no</td>\n",
       "      <td>2</td>\n",
       "      <td>mar</td>\n",
       "      <td>185</td>\n",
       "      <td>8.0</td>\n",
       "      <td>no</td>\n",
       "    </tr>\n",
       "  </tbody>\n",
       "</table>\n",
       "<p>220 rows × 11 columns</p>\n",
       "</div>"
      ],
      "text/plain": [
       "       age            job  marital  balance housing loan  day month  duration  \\\n",
       "1007    33     technician  married     6843      no   no   20   nov       755   \n",
       "1062    31     management  married     4148     yes   no   21   nov       316   \n",
       "1185    26   entrepreneur   single      725      no   no    5   feb      1916   \n",
       "1383    46         admin.  married     -522     yes   no   27   mar       243   \n",
       "1408    33     technician   single      127     yes   no    6   apr       583   \n",
       "...    ...            ...      ...      ...     ...  ...  ...   ...       ...   \n",
       "10817   30  self-employed  married      163     yes   no   18   may       149   \n",
       "10822   59     management  married      287     yes   no   20   apr       818   \n",
       "10967   46    blue-collar  married     1291     yes   no   14   may       142   \n",
       "11007   31         admin.   single      690      no   no    4   may        10   \n",
       "11054   26       services   single      162     yes   no    2   mar       185   \n",
       "\n",
       "       previous deposit  \n",
       "1007       10.0     yes  \n",
       "1062        9.0     yes  \n",
       "1185       29.0     yes  \n",
       "1383       13.0     yes  \n",
       "1408       17.0     yes  \n",
       "...         ...     ...  \n",
       "10817       8.0      no  \n",
       "10822       8.0      no  \n",
       "10967      17.0      no  \n",
       "11007      12.0      no  \n",
       "11054       8.0      no  \n",
       "\n",
       "[220 rows x 11 columns]"
      ]
     },
     "execution_count": 74,
     "metadata": {},
     "output_type": "execute_result"
    }
   ],
   "source": [
    "# Outliers\n",
    "contact_df.loc[(contact_df['previous']>upper_limit_p)|(contact_df['previous']<lower_limit_p)]"
   ]
  },
  {
   "cell_type": "code",
   "execution_count": 77,
   "metadata": {},
   "outputs": [
    {
     "data": {
      "text/plain": [
       "<AxesSubplot:xlabel='previous'>"
      ]
     },
     "execution_count": 77,
     "metadata": {},
     "output_type": "execute_result"
    },
    {
     "data": {
      "image/png": "[encoded data removed]",
      "text/plain": [
       "<Figure size 432x288 with 1 Axes>"
      ]
     },
     "metadata": {
      "needs_background": "light"
     },
     "output_type": "display_data"
    }
   ],
   "source": [
    "# capping\n",
    "# new_df_p=contact_df.copy()\n",
    "contact_df.loc[contact_df['previous']>upper_limit_p, 'previous']=upper_limit_p\n",
    "contact_df.loc[contact_df['previous']<lower_limit_p, 'previous']=lower_limit_p\n",
    "sns.boxplot(contact_df['previous'])"
   ]
  },
  {
   "cell_type": "code",
   "execution_count": null,
   "metadata": {},
   "outputs": [],
   "source": []
  },
  {
   "cell_type": "code",
   "execution_count": 84,
   "metadata": {},
   "outputs": [
    {
     "data": {
      "text/html": [
       "<div>\n",
       "<style scoped>\n",
       "    .dataframe tbody tr th:only-of-type {\n",
       "        vertical-align: middle;\n",
       "    }\n",
       "\n",
       "    .dataframe tbody tr th {\n",
       "        vertical-align: top;\n",
       "    }\n",
       "\n",
       "    .dataframe thead th {\n",
       "        text-align: right;\n",
       "    }\n",
       "</style>\n",
       "<table border=\"1\" class=\"dataframe\">\n",
       "  <thead>\n",
       "    <tr style=\"text-align: right;\">\n",
       "      <th></th>\n",
       "      <th>age</th>\n",
       "      <th>balance</th>\n",
       "      <th>day</th>\n",
       "      <th>duration</th>\n",
       "      <th>previous</th>\n",
       "    </tr>\n",
       "  </thead>\n",
       "  <tbody>\n",
       "    <tr>\n",
       "      <th>count</th>\n",
       "      <td>11162.000000</td>\n",
       "      <td>11162.000000</td>\n",
       "      <td>11162.000000</td>\n",
       "      <td>11162.000000</td>\n",
       "      <td>11162.000000</td>\n",
       "    </tr>\n",
       "    <tr>\n",
       "      <th>mean</th>\n",
       "      <td>41.185210</td>\n",
       "      <td>1401.077287</td>\n",
       "      <td>15.658036</td>\n",
       "      <td>365.762693</td>\n",
       "      <td>0.745018</td>\n",
       "    </tr>\n",
       "    <tr>\n",
       "      <th>std</th>\n",
       "      <td>11.755966</td>\n",
       "      <td>2208.109129</td>\n",
       "      <td>8.420740</td>\n",
       "      <td>319.805008</td>\n",
       "      <td>1.652159</td>\n",
       "    </tr>\n",
       "    <tr>\n",
       "      <th>min</th>\n",
       "      <td>18.000000</td>\n",
       "      <td>-6847.000000</td>\n",
       "      <td>1.000000</td>\n",
       "      <td>2.000000</td>\n",
       "      <td>0.000000</td>\n",
       "    </tr>\n",
       "    <tr>\n",
       "      <th>25%</th>\n",
       "      <td>32.000000</td>\n",
       "      <td>122.000000</td>\n",
       "      <td>8.000000</td>\n",
       "      <td>138.000000</td>\n",
       "      <td>0.000000</td>\n",
       "    </tr>\n",
       "    <tr>\n",
       "      <th>50%</th>\n",
       "      <td>39.000000</td>\n",
       "      <td>550.000000</td>\n",
       "      <td>15.000000</td>\n",
       "      <td>255.000000</td>\n",
       "      <td>0.000000</td>\n",
       "    </tr>\n",
       "    <tr>\n",
       "      <th>75%</th>\n",
       "      <td>49.000000</td>\n",
       "      <td>1708.000000</td>\n",
       "      <td>22.000000</td>\n",
       "      <td>496.000000</td>\n",
       "      <td>1.000000</td>\n",
       "    </tr>\n",
       "    <tr>\n",
       "      <th>max</th>\n",
       "      <td>76.972055</td>\n",
       "      <td>11204.778501</td>\n",
       "      <td>31.000000</td>\n",
       "      <td>1413.378975</td>\n",
       "      <td>7.708579</td>\n",
       "    </tr>\n",
       "  </tbody>\n",
       "</table>\n",
       "</div>"
      ],
      "text/plain": [
       "                age       balance           day      duration      previous\n",
       "count  11162.000000  11162.000000  11162.000000  11162.000000  11162.000000\n",
       "mean      41.185210   1401.077287     15.658036    365.762693      0.745018\n",
       "std       11.755966   2208.109129      8.420740    319.805008      1.652159\n",
       "min       18.000000  -6847.000000      1.000000      2.000000      0.000000\n",
       "25%       32.000000    122.000000      8.000000    138.000000      0.000000\n",
       "50%       39.000000    550.000000     15.000000    255.000000      0.000000\n",
       "75%       49.000000   1708.000000     22.000000    496.000000      1.000000\n",
       "max       76.972055  11204.778501     31.000000   1413.378975      7.708579"
      ]
     },
     "execution_count": 84,
     "metadata": {},
     "output_type": "execute_result"
    }
   ],
   "source": [
    "contact_df.describe()"
   ]
  },
  {
   "cell_type": "code",
   "execution_count": null,
   "metadata": {},
   "outputs": [],
   "source": []
  },
  {
   "cell_type": "code",
   "execution_count": null,
   "metadata": {},
   "outputs": [],
   "source": []
  },
  {
   "cell_type": "code",
   "execution_count": 125,
   "metadata": {},
   "outputs": [
    {
     "name": "stderr",
     "output_type": "stream",
     "text": [
      "C:\\Users\\Smrithi\\Documents\\Anaconda\\lib\\site-packages\\seaborn\\_decorators.py:36: FutureWarning: Pass the following variable as a keyword arg: x. From version 0.12, the only valid positional argument will be `data`, and passing other arguments without an explicit keyword will result in an error or misinterpretation.\n",
      "  warnings.warn(\n"
     ]
    },
    {
     "data": {
      "text/plain": [
       "<AxesSubplot:xlabel='balance'>"
      ]
     },
     "execution_count": 125,
     "metadata": {},
     "output_type": "execute_result"
    },
    {
     "data": {
      "image/png": "[encoded data removed]",
      "text/plain": [
       "<Figure size 432x288 with 1 Axes>"
      ]
     },
     "metadata": {
      "needs_background": "light"
     },
     "output_type": "display_data"
    }
   ],
   "source": [
    "sns.boxplot(contact_df['balance'])"
   ]
  },
  {
   "cell_type": "code",
   "execution_count": 126,
   "metadata": {},
   "outputs": [
    {
     "name": "stderr",
     "output_type": "stream",
     "text": [
      "C:\\Users\\Smrithi\\Documents\\Anaconda\\lib\\site-packages\\seaborn\\_decorators.py:36: FutureWarning: Pass the following variable as a keyword arg: x. From version 0.12, the only valid positional argument will be `data`, and passing other arguments without an explicit keyword will result in an error or misinterpretation.\n",
      "  warnings.warn(\n"
     ]
    },
    {
     "data": {
      "text/plain": [
       "<AxesSubplot:xlabel='day'>"
      ]
     },
     "execution_count": 126,
     "metadata": {},
     "output_type": "execute_result"
    },
    {
     "data": {
      "image/png": "[encoded data removed]",
      "text/plain": [
       "<Figure size 432x288 with 1 Axes>"
      ]
     },
     "metadata": {
      "needs_background": "light"
     },
     "output_type": "display_data"
    }
   ],
   "source": [
    "sns.boxplot(contact_df['day']) "
   ]
  },
  {
   "cell_type": "code",
   "execution_count": 127,
   "metadata": {},
   "outputs": [
    {
     "name": "stderr",
     "output_type": "stream",
     "text": [
      "C:\\Users\\Smrithi\\Documents\\Anaconda\\lib\\site-packages\\seaborn\\_decorators.py:36: FutureWarning: Pass the following variable as a keyword arg: x. From version 0.12, the only valid positional argument will be `data`, and passing other arguments without an explicit keyword will result in an error or misinterpretation.\n",
      "  warnings.warn(\n"
     ]
    },
    {
     "data": {
      "text/plain": [
       "<AxesSubplot:xlabel='duration'>"
      ]
     },
     "execution_count": 127,
     "metadata": {},
     "output_type": "execute_result"
    },
    {
     "data": {
      "image/png": "[encoded data removed]",
      "text/plain": [
       "<Figure size 432x288 with 1 Axes>"
      ]
     },
     "metadata": {
      "needs_background": "light"
     },
     "output_type": "display_data"
    }
   ],
   "source": [
    "sns.boxplot(contact_df['duration']) "
   ]
  },
  {
   "cell_type": "code",
   "execution_count": 128,
   "metadata": {},
   "outputs": [
    {
     "name": "stderr",
     "output_type": "stream",
     "text": [
      "C:\\Users\\Smrithi\\Documents\\Anaconda\\lib\\site-packages\\seaborn\\_decorators.py:36: FutureWarning: Pass the following variable as a keyword arg: x. From version 0.12, the only valid positional argument will be `data`, and passing other arguments without an explicit keyword will result in an error or misinterpretation.\n",
      "  warnings.warn(\n"
     ]
    },
    {
     "data": {
      "text/plain": [
       "<AxesSubplot:xlabel='previous'>"
      ]
     },
     "execution_count": 128,
     "metadata": {},
     "output_type": "execute_result"
    },
    {
     "data": {
      "image/png": "[encoded data removed]",
      "text/plain": [
       "<Figure size 432x288 with 1 Axes>"
      ]
     },
     "metadata": {
      "needs_background": "light"
     },
     "output_type": "display_data"
    }
   ],
   "source": [
    "sns.boxplot(contact_df['previous']) "
   ]
  },
  {
   "cell_type": "code",
   "execution_count": 132,
   "metadata": {},
   "outputs": [
    {
     "name": "stdout",
     "output_type": "stream",
     "text": [
      "Highest allowed 76.97205525627365\n",
      "Lowest allowed 5.491840102980966\n"
     ]
    }
   ],
   "source": [
    "print(\"Highest allowed\",contact_df['age'].mean() + 3*contact_df['age'].std())\n",
    "print(\"Lowest allowed\",contact_df['age'].mean() - 3*contact_df['age'].std())"
   ]
  },
  {
   "cell_type": "code",
   "execution_count": 134,
   "metadata": {},
   "outputs": [
    {
     "name": "stdout",
     "output_type": "stream",
     "text": [
      "Highest allowed 11204.778501400662\n",
      "Lowest allowed -8147.701454276492\n"
     ]
    }
   ],
   "source": [
    "print(\"Highest allowed\",contact_df['balance'].mean() + 3*contact_df['balance'].std())\n",
    "print(\"Lowest allowed\",contact_df['balance'].mean() - 3*contact_df['balance'].std())"
   ]
  },
  {
   "cell_type": "code",
   "execution_count": 135,
   "metadata": {},
   "outputs": [
    {
     "name": "stdout",
     "output_type": "stream",
     "text": [
      "Highest allowed 1413.3789754610511\n",
      "Lowest allowed -669.3913388367904\n"
     ]
    }
   ],
   "source": [
    "print(\"Highest allowed\",contact_df['duration'].mean() + 3*contact_df['duration'].std())\n",
    "print(\"Lowest allowed\",contact_df['duration'].mean() - 3*contact_df['duration'].std())"
   ]
  },
  {
   "cell_type": "code",
   "execution_count": 136,
   "metadata": {},
   "outputs": [
    {
     "name": "stdout",
     "output_type": "stream",
     "text": [
      "Highest allowed 7.7085785454572555\n",
      "Lowest allowed -6.043464766564584\n"
     ]
    }
   ],
   "source": [
    "print(\"Highest allowed\",contact_df['previous'].mean() + 3*contact_df['previous'].std())\n",
    "print(\"Lowest allowed\",contact_df['previous'].mean() - 3*contact_df['previous'].std())"
   ]
  },
  {
   "cell_type": "code",
   "execution_count": 138,
   "metadata": {},
   "outputs": [
    {
     "data": {
      "text/html": [
       "<div>\n",
       "<style scoped>\n",
       "    .dataframe tbody tr th:only-of-type {\n",
       "        vertical-align: middle;\n",
       "    }\n",
       "\n",
       "    .dataframe tbody tr th {\n",
       "        vertical-align: top;\n",
       "    }\n",
       "\n",
       "    .dataframe thead th {\n",
       "        text-align: right;\n",
       "    }\n",
       "</style>\n",
       "<table border=\"1\" class=\"dataframe\">\n",
       "  <thead>\n",
       "    <tr style=\"text-align: right;\">\n",
       "      <th></th>\n",
       "      <th>age</th>\n",
       "      <th>job</th>\n",
       "      <th>marital</th>\n",
       "      <th>balance</th>\n",
       "      <th>housing</th>\n",
       "      <th>loan</th>\n",
       "      <th>day</th>\n",
       "      <th>month</th>\n",
       "      <th>duration</th>\n",
       "      <th>previous</th>\n",
       "      <th>deposit</th>\n",
       "    </tr>\n",
       "  </thead>\n",
       "  <tbody>\n",
       "    <tr>\n",
       "      <th>1236</th>\n",
       "      <td>85</td>\n",
       "      <td>retired</td>\n",
       "      <td>married</td>\n",
       "      <td>12114</td>\n",
       "      <td>no</td>\n",
       "      <td>no</td>\n",
       "      <td>12</td>\n",
       "      <td>feb</td>\n",
       "      <td>165</td>\n",
       "      <td>0</td>\n",
       "      <td>yes</td>\n",
       "    </tr>\n",
       "    <tr>\n",
       "      <th>1243</th>\n",
       "      <td>90</td>\n",
       "      <td>retired</td>\n",
       "      <td>divorced</td>\n",
       "      <td>1</td>\n",
       "      <td>no</td>\n",
       "      <td>no</td>\n",
       "      <td>13</td>\n",
       "      <td>feb</td>\n",
       "      <td>152</td>\n",
       "      <td>0</td>\n",
       "      <td>yes</td>\n",
       "    </tr>\n",
       "    <tr>\n",
       "      <th>1274</th>\n",
       "      <td>85</td>\n",
       "      <td>retired</td>\n",
       "      <td>divorced</td>\n",
       "      <td>7613</td>\n",
       "      <td>no</td>\n",
       "      <td>no</td>\n",
       "      <td>18</td>\n",
       "      <td>feb</td>\n",
       "      <td>355</td>\n",
       "      <td>0</td>\n",
       "      <td>yes</td>\n",
       "    </tr>\n",
       "    <tr>\n",
       "      <th>1320</th>\n",
       "      <td>83</td>\n",
       "      <td>retired</td>\n",
       "      <td>divorced</td>\n",
       "      <td>1097</td>\n",
       "      <td>no</td>\n",
       "      <td>no</td>\n",
       "      <td>5</td>\n",
       "      <td>mar</td>\n",
       "      <td>181</td>\n",
       "      <td>0</td>\n",
       "      <td>yes</td>\n",
       "    </tr>\n",
       "    <tr>\n",
       "      <th>1373</th>\n",
       "      <td>83</td>\n",
       "      <td>retired</td>\n",
       "      <td>divorced</td>\n",
       "      <td>46</td>\n",
       "      <td>no</td>\n",
       "      <td>no</td>\n",
       "      <td>25</td>\n",
       "      <td>mar</td>\n",
       "      <td>115</td>\n",
       "      <td>0</td>\n",
       "      <td>yes</td>\n",
       "    </tr>\n",
       "    <tr>\n",
       "      <th>...</th>\n",
       "      <td>...</td>\n",
       "      <td>...</td>\n",
       "      <td>...</td>\n",
       "      <td>...</td>\n",
       "      <td>...</td>\n",
       "      <td>...</td>\n",
       "      <td>...</td>\n",
       "      <td>...</td>\n",
       "      <td>...</td>\n",
       "      <td>...</td>\n",
       "      <td>...</td>\n",
       "    </tr>\n",
       "    <tr>\n",
       "      <th>10438</th>\n",
       "      <td>77</td>\n",
       "      <td>retired</td>\n",
       "      <td>married</td>\n",
       "      <td>1492</td>\n",
       "      <td>no</td>\n",
       "      <td>no</td>\n",
       "      <td>1</td>\n",
       "      <td>sep</td>\n",
       "      <td>663</td>\n",
       "      <td>2</td>\n",
       "      <td>no</td>\n",
       "    </tr>\n",
       "    <tr>\n",
       "      <th>10562</th>\n",
       "      <td>88</td>\n",
       "      <td>retired</td>\n",
       "      <td>married</td>\n",
       "      <td>648</td>\n",
       "      <td>no</td>\n",
       "      <td>no</td>\n",
       "      <td>3</td>\n",
       "      <td>sep</td>\n",
       "      <td>318</td>\n",
       "      <td>0</td>\n",
       "      <td>no</td>\n",
       "    </tr>\n",
       "    <tr>\n",
       "      <th>10570</th>\n",
       "      <td>77</td>\n",
       "      <td>unknown</td>\n",
       "      <td>married</td>\n",
       "      <td>397</td>\n",
       "      <td>no</td>\n",
       "      <td>no</td>\n",
       "      <td>8</td>\n",
       "      <td>nov</td>\n",
       "      <td>207</td>\n",
       "      <td>3</td>\n",
       "      <td>no</td>\n",
       "    </tr>\n",
       "    <tr>\n",
       "      <th>10618</th>\n",
       "      <td>78</td>\n",
       "      <td>retired</td>\n",
       "      <td>married</td>\n",
       "      <td>680</td>\n",
       "      <td>no</td>\n",
       "      <td>no</td>\n",
       "      <td>24</td>\n",
       "      <td>may</td>\n",
       "      <td>838</td>\n",
       "      <td>9</td>\n",
       "      <td>no</td>\n",
       "    </tr>\n",
       "    <tr>\n",
       "      <th>10843</th>\n",
       "      <td>86</td>\n",
       "      <td>retired</td>\n",
       "      <td>divorced</td>\n",
       "      <td>157</td>\n",
       "      <td>no</td>\n",
       "      <td>no</td>\n",
       "      <td>7</td>\n",
       "      <td>sep</td>\n",
       "      <td>147</td>\n",
       "      <td>0</td>\n",
       "      <td>no</td>\n",
       "    </tr>\n",
       "  </tbody>\n",
       "</table>\n",
       "<p>132 rows × 11 columns</p>\n",
       "</div>"
      ],
      "text/plain": [
       "       age      job   marital  balance housing loan  day month  duration  \\\n",
       "1236    85  retired   married    12114      no   no   12   feb       165   \n",
       "1243    90  retired  divorced        1      no   no   13   feb       152   \n",
       "1274    85  retired  divorced     7613      no   no   18   feb       355   \n",
       "1320    83  retired  divorced     1097      no   no    5   mar       181   \n",
       "1373    83  retired  divorced       46      no   no   25   mar       115   \n",
       "...    ...      ...       ...      ...     ...  ...  ...   ...       ...   \n",
       "10438   77  retired   married     1492      no   no    1   sep       663   \n",
       "10562   88  retired   married      648      no   no    3   sep       318   \n",
       "10570   77  unknown   married      397      no   no    8   nov       207   \n",
       "10618   78  retired   married      680      no   no   24   may       838   \n",
       "10843   86  retired  divorced      157      no   no    7   sep       147   \n",
       "\n",
       "       previous deposit  \n",
       "1236          0     yes  \n",
       "1243          0     yes  \n",
       "1274          0     yes  \n",
       "1320          0     yes  \n",
       "1373          0     yes  \n",
       "...         ...     ...  \n",
       "10438         2      no  \n",
       "10562         0      no  \n",
       "10570         3      no  \n",
       "10618         9      no  \n",
       "10843         0      no  \n",
       "\n",
       "[132 rows x 11 columns]"
      ]
     },
     "execution_count": 138,
     "metadata": {},
     "output_type": "execute_result"
    }
   ],
   "source": [
    "contact_df[(contact_df['age'] > 76.97) | (contact_df['age'] < 5.49)]\n"
   ]
  },
  {
   "cell_type": "code",
   "execution_count": 143,
   "metadata": {},
   "outputs": [
    {
     "data": {
      "text/html": [
       "<div>\n",
       "<style scoped>\n",
       "    .dataframe tbody tr th:only-of-type {\n",
       "        vertical-align: middle;\n",
       "    }\n",
       "\n",
       "    .dataframe tbody tr th {\n",
       "        vertical-align: top;\n",
       "    }\n",
       "\n",
       "    .dataframe thead th {\n",
       "        text-align: right;\n",
       "    }\n",
       "</style>\n",
       "<table border=\"1\" class=\"dataframe\">\n",
       "  <thead>\n",
       "    <tr style=\"text-align: right;\">\n",
       "      <th></th>\n",
       "      <th>age</th>\n",
       "      <th>job</th>\n",
       "      <th>marital</th>\n",
       "      <th>balance</th>\n",
       "      <th>housing</th>\n",
       "      <th>loan</th>\n",
       "      <th>day</th>\n",
       "      <th>month</th>\n",
       "      <th>duration</th>\n",
       "      <th>previous</th>\n",
       "      <th>deposit</th>\n",
       "    </tr>\n",
       "  </thead>\n",
       "  <tbody>\n",
       "    <tr>\n",
       "      <th>1236</th>\n",
       "      <td>85</td>\n",
       "      <td>retired</td>\n",
       "      <td>married</td>\n",
       "      <td>12114</td>\n",
       "      <td>no</td>\n",
       "      <td>no</td>\n",
       "      <td>12</td>\n",
       "      <td>feb</td>\n",
       "      <td>165</td>\n",
       "      <td>0</td>\n",
       "      <td>yes</td>\n",
       "    </tr>\n",
       "    <tr>\n",
       "      <th>1243</th>\n",
       "      <td>90</td>\n",
       "      <td>retired</td>\n",
       "      <td>divorced</td>\n",
       "      <td>1</td>\n",
       "      <td>no</td>\n",
       "      <td>no</td>\n",
       "      <td>13</td>\n",
       "      <td>feb</td>\n",
       "      <td>152</td>\n",
       "      <td>0</td>\n",
       "      <td>yes</td>\n",
       "    </tr>\n",
       "    <tr>\n",
       "      <th>1274</th>\n",
       "      <td>85</td>\n",
       "      <td>retired</td>\n",
       "      <td>divorced</td>\n",
       "      <td>7613</td>\n",
       "      <td>no</td>\n",
       "      <td>no</td>\n",
       "      <td>18</td>\n",
       "      <td>feb</td>\n",
       "      <td>355</td>\n",
       "      <td>0</td>\n",
       "      <td>yes</td>\n",
       "    </tr>\n",
       "    <tr>\n",
       "      <th>1320</th>\n",
       "      <td>83</td>\n",
       "      <td>retired</td>\n",
       "      <td>divorced</td>\n",
       "      <td>1097</td>\n",
       "      <td>no</td>\n",
       "      <td>no</td>\n",
       "      <td>5</td>\n",
       "      <td>mar</td>\n",
       "      <td>181</td>\n",
       "      <td>0</td>\n",
       "      <td>yes</td>\n",
       "    </tr>\n",
       "    <tr>\n",
       "      <th>1373</th>\n",
       "      <td>83</td>\n",
       "      <td>retired</td>\n",
       "      <td>divorced</td>\n",
       "      <td>46</td>\n",
       "      <td>no</td>\n",
       "      <td>no</td>\n",
       "      <td>25</td>\n",
       "      <td>mar</td>\n",
       "      <td>115</td>\n",
       "      <td>0</td>\n",
       "      <td>yes</td>\n",
       "    </tr>\n",
       "    <tr>\n",
       "      <th>...</th>\n",
       "      <td>...</td>\n",
       "      <td>...</td>\n",
       "      <td>...</td>\n",
       "      <td>...</td>\n",
       "      <td>...</td>\n",
       "      <td>...</td>\n",
       "      <td>...</td>\n",
       "      <td>...</td>\n",
       "      <td>...</td>\n",
       "      <td>...</td>\n",
       "      <td>...</td>\n",
       "    </tr>\n",
       "    <tr>\n",
       "      <th>10438</th>\n",
       "      <td>77</td>\n",
       "      <td>retired</td>\n",
       "      <td>married</td>\n",
       "      <td>1492</td>\n",
       "      <td>no</td>\n",
       "      <td>no</td>\n",
       "      <td>1</td>\n",
       "      <td>sep</td>\n",
       "      <td>663</td>\n",
       "      <td>2</td>\n",
       "      <td>no</td>\n",
       "    </tr>\n",
       "    <tr>\n",
       "      <th>10562</th>\n",
       "      <td>88</td>\n",
       "      <td>retired</td>\n",
       "      <td>married</td>\n",
       "      <td>648</td>\n",
       "      <td>no</td>\n",
       "      <td>no</td>\n",
       "      <td>3</td>\n",
       "      <td>sep</td>\n",
       "      <td>318</td>\n",
       "      <td>0</td>\n",
       "      <td>no</td>\n",
       "    </tr>\n",
       "    <tr>\n",
       "      <th>10570</th>\n",
       "      <td>77</td>\n",
       "      <td>unknown</td>\n",
       "      <td>married</td>\n",
       "      <td>397</td>\n",
       "      <td>no</td>\n",
       "      <td>no</td>\n",
       "      <td>8</td>\n",
       "      <td>nov</td>\n",
       "      <td>207</td>\n",
       "      <td>3</td>\n",
       "      <td>no</td>\n",
       "    </tr>\n",
       "    <tr>\n",
       "      <th>10618</th>\n",
       "      <td>78</td>\n",
       "      <td>retired</td>\n",
       "      <td>married</td>\n",
       "      <td>680</td>\n",
       "      <td>no</td>\n",
       "      <td>no</td>\n",
       "      <td>24</td>\n",
       "      <td>may</td>\n",
       "      <td>838</td>\n",
       "      <td>9</td>\n",
       "      <td>no</td>\n",
       "    </tr>\n",
       "    <tr>\n",
       "      <th>10843</th>\n",
       "      <td>86</td>\n",
       "      <td>retired</td>\n",
       "      <td>divorced</td>\n",
       "      <td>157</td>\n",
       "      <td>no</td>\n",
       "      <td>no</td>\n",
       "      <td>7</td>\n",
       "      <td>sep</td>\n",
       "      <td>147</td>\n",
       "      <td>0</td>\n",
       "      <td>no</td>\n",
       "    </tr>\n",
       "  </tbody>\n",
       "</table>\n",
       "<p>132 rows × 11 columns</p>\n",
       "</div>"
      ],
      "text/plain": [
       "       age      job   marital  balance housing loan  day month  duration  \\\n",
       "1236    85  retired   married    12114      no   no   12   feb       165   \n",
       "1243    90  retired  divorced        1      no   no   13   feb       152   \n",
       "1274    85  retired  divorced     7613      no   no   18   feb       355   \n",
       "1320    83  retired  divorced     1097      no   no    5   mar       181   \n",
       "1373    83  retired  divorced       46      no   no   25   mar       115   \n",
       "...    ...      ...       ...      ...     ...  ...  ...   ...       ...   \n",
       "10438   77  retired   married     1492      no   no    1   sep       663   \n",
       "10562   88  retired   married      648      no   no    3   sep       318   \n",
       "10570   77  unknown   married      397      no   no    8   nov       207   \n",
       "10618   78  retired   married      680      no   no   24   may       838   \n",
       "10843   86  retired  divorced      157      no   no    7   sep       147   \n",
       "\n",
       "       previous deposit  \n",
       "1236          0     yes  \n",
       "1243          0     yes  \n",
       "1274          0     yes  \n",
       "1320          0     yes  \n",
       "1373          0     yes  \n",
       "...         ...     ...  \n",
       "10438         2      no  \n",
       "10562         0      no  \n",
       "10570         3      no  \n",
       "10618         9      no  \n",
       "10843         0      no  \n",
       "\n",
       "[132 rows x 11 columns]"
      ]
     },
     "execution_count": 143,
     "metadata": {},
     "output_type": "execute_result"
    }
   ],
   "source": [
    "new_df = contact_df[(contact_df['age'] > 76.97) | (contact_df['age'] < 5.49)]\n",
    "new_df"
   ]
  },
  {
   "cell_type": "code",
   "execution_count": 148,
   "metadata": {},
   "outputs": [],
   "source": [
    "upper_limit = contact_df['age'].mean() + 3*contact_df['age'].std()\n",
    "lower_limit = contact_df['age'].mean() - 3*contact_df['age'].std()"
   ]
  },
  {
   "cell_type": "code",
   "execution_count": 149,
   "metadata": {},
   "outputs": [],
   "source": [
    "contact_df['age'] = np.where(\n",
    "    contact_df['age']>upper_limit,\n",
    "    upper_limit,\n",
    "    np.where(\n",
    "        contact_df['age']<lower_limit,\n",
    "        lower_limit,\n",
    "        contact_df['age']\n",
    "    )\n",
    ")"
   ]
  },
  {
   "cell_type": "code",
   "execution_count": 150,
   "metadata": {},
   "outputs": [
    {
     "data": {
      "text/plain": [
       "count    11162.000000\n",
       "mean        41.185210\n",
       "std         11.755966\n",
       "min         18.000000\n",
       "25%         32.000000\n",
       "50%         39.000000\n",
       "75%         49.000000\n",
       "max         76.972055\n",
       "Name: age, dtype: float64"
      ]
     },
     "execution_count": 150,
     "metadata": {},
     "output_type": "execute_result"
    }
   ],
   "source": [
    "contact_df['age'].describe()"
   ]
  },
  {
   "cell_type": "code",
   "execution_count": 151,
   "metadata": {},
   "outputs": [
    {
     "name": "stderr",
     "output_type": "stream",
     "text": [
      "C:\\Users\\Smrithi\\Documents\\Anaconda\\lib\\site-packages\\seaborn\\_decorators.py:36: FutureWarning: Pass the following variable as a keyword arg: x. From version 0.12, the only valid positional argument will be `data`, and passing other arguments without an explicit keyword will result in an error or misinterpretation.\n",
      "  warnings.warn(\n"
     ]
    },
    {
     "data": {
      "text/plain": [
       "<AxesSubplot:xlabel='age'>"
      ]
     },
     "execution_count": 151,
     "metadata": {},
     "output_type": "execute_result"
    },
    {
     "data": {
      "image/png": "[encoded data removed]",
      "text/plain": [
       "<Figure size 432x288 with 1 Axes>"
      ]
     },
     "metadata": {
      "needs_background": "light"
     },
     "output_type": "display_data"
    }
   ],
   "source": [
    "sns.boxplot(contact_df['age'])"
   ]
  },
  {
   "cell_type": "code",
   "execution_count": null,
   "metadata": {},
   "outputs": [],
   "source": []
  },
  {
   "cell_type": "code",
   "execution_count": null,
   "metadata": {},
   "outputs": [],
   "source": []
  },
  {
   "cell_type": "code",
   "execution_count": 87,
   "metadata": {},
   "outputs": [],
   "source": [
    "encoded_df = preprocessor(contact_df)\n",
    "\n",
    "x = encoded_df.drop(['deposit'],axis =1).values\n",
    "y = encoded_df['deposit'].values"
   ]
  },
  {
   "cell_type": "markdown",
   "metadata": {},
   "source": [
    "## Split the data into Train-Test"
   ]
  },
  {
   "cell_type": "code",
   "execution_count": 88,
   "metadata": {},
   "outputs": [],
   "source": [
    "x_train, x_test, y_train, y_test = train_test_split(x,y,test_size =0.2)"
   ]
  },
  {
   "cell_type": "markdown",
   "metadata": {},
   "source": [
    "## Build the Decision Tree Model"
   ]
  },
  {
   "cell_type": "code",
   "execution_count": 89,
   "metadata": {},
   "outputs": [
    {
     "name": "stdout",
     "output_type": "stream",
     "text": [
      "Training score:  0.7099339231716878\n",
      "Testing score:  0.716524854455889\n"
     ]
    }
   ],
   "source": [
    "# Decision tree with depth = 2\n",
    "model_dt_2 = DecisionTreeClassifier(random_state=1, max_depth=2)\n",
    "model_dt_2.fit(x_train, y_train)\n",
    "model_dt_2_score_train = model_dt_2.score(x_train, y_train)\n",
    "print(\"Training score: \",model_dt_2_score_train)\n",
    "model_dt_2_score_test = model_dt_2.score(x_test, y_test)\n",
    "print(\"Testing score: \",model_dt_2_score_test)\n",
    "#y_pred_dt = model_dt_2.predict_proba(x_test)[:, 1]"
   ]
  },
  {
   "cell_type": "code",
   "execution_count": 90,
   "metadata": {},
   "outputs": [
    {
     "name": "stdout",
     "output_type": "stream",
     "text": [
      "Training score:  0.7857542837943778\n",
      "Testing score:  0.7944469323779668\n"
     ]
    }
   ],
   "source": [
    "# Decision tree with depth = 4\n",
    "model_dt_4 = DecisionTreeClassifier(random_state=1, max_depth=4)\n",
    "model_dt_4.fit(x_train, y_train)\n",
    "model_dt_4_score_train = model_dt_4.score(x_train, y_train)\n",
    "print(\"Training score: \",model_dt_4_score_train)\n",
    "model_dt_4_score_test = model_dt_4.score(x_test, y_test)\n",
    "print(\"Testing score: \",model_dt_4_score_test)\n"
   ]
  },
  {
   "cell_type": "code",
   "execution_count": 91,
   "metadata": {},
   "outputs": [
    {
     "name": "stdout",
     "output_type": "stream",
     "text": [
      "Training score:  0.8456714077724269\n",
      "Testing score:  0.8029556650246306\n"
     ]
    }
   ],
   "source": [
    "# Decision tree with depth = 8\n",
    "model_dt_8 = DecisionTreeClassifier(random_state=1, max_depth=8, criterion = \"gini\")\n",
    "model_dt_8.fit(x_train, y_train)\n",
    "model_dt_8_score_train = model_dt_8.score(x_train, y_train)\n",
    "print(\"Training score: \",model_dt_8_score_train)\n",
    "model_dt_8_score_test = model_dt_8.score(x_test, y_test)\n",
    "print(\"Testing score: \",model_dt_8_score_test)"
   ]
  },
  {
   "cell_type": "code",
   "execution_count": 92,
   "metadata": {},
   "outputs": [],
   "source": [
    "#Decision tree\n",
    "\n",
    "model_dt = DecisionTreeClassifier(max_depth = 8, criterion =\"entropy\")\n",
    "model_dt.fit(x_train, y_train)\n",
    "y_pred_dt = model_dt.predict_proba(x_test)[:, 1]"
   ]
  },
  {
   "cell_type": "markdown",
   "metadata": {},
   "source": [
    "# Assignment part 1 solution"
   ]
  },
  {
   "cell_type": "code",
   "execution_count": 103,
   "metadata": {},
   "outputs": [
    {
     "name": "stdout",
     "output_type": "stream",
     "text": [
      "Training score:  0.8504871766155224\n",
      "Testing score:  0.7962382445141066\n"
     ]
    }
   ],
   "source": [
    "# Decision tree with depth = 20\n",
    "model_dt_8 = DecisionTreeClassifier(random_state=1, max_depth=20, min_samples_split=10, min_samples_leaf=15, criterion = \"gini\")\n",
    "model_dt_8.fit(x_train, y_train)\n",
    "model_dt_8_score_train = model_dt_8.score(x_train, y_train)\n",
    "print(\"Training score: \",model_dt_8_score_train)\n",
    "model_dt_8_score_test = model_dt_8.score(x_test, y_test)\n",
    "print(\"Testing score: \",model_dt_8_score_test)"
   ]
  },
  {
   "cell_type": "code",
   "execution_count": null,
   "metadata": {},
   "outputs": [],
   "source": []
  },
  {
   "cell_type": "markdown",
   "metadata": {},
   "source": [
    "## Performance Metrics"
   ]
  },
  {
   "cell_type": "code",
   "execution_count": 104,
   "metadata": {},
   "outputs": [],
   "source": [
    "fpr_dt, tpr_dt, _ = roc_curve(y_test, y_pred_dt)\n",
    "roc_auc_dt = auc(fpr_dt, tpr_dt)"
   ]
  },
  {
   "cell_type": "code",
   "execution_count": 105,
   "metadata": {},
   "outputs": [
    {
     "data": {
      "text/plain": [
       "array([1, 0, 1, ..., 1, 0, 0])"
      ]
     },
     "execution_count": 105,
     "metadata": {},
     "output_type": "execute_result"
    }
   ],
   "source": [
    "predictions = model_dt.predict(x_test)\n",
    "predictions"
   ]
  },
  {
   "cell_type": "code",
   "execution_count": 106,
   "metadata": {},
   "outputs": [
    {
     "ename": "NameError",
     "evalue": "name 'y_actual_result' is not defined",
     "output_type": "error",
     "traceback": [
      "\u001b[1;31m---------------------------------------------------------------------------\u001b[0m",
      "\u001b[1;31mNameError\u001b[0m                                 Traceback (most recent call last)",
      "Input \u001b[1;32mIn [106]\u001b[0m, in \u001b[0;36m<cell line: 1>\u001b[1;34m()\u001b[0m\n\u001b[0;32m      1\u001b[0m \u001b[38;5;28;01mfor\u001b[39;00m i \u001b[38;5;129;01min\u001b[39;00m \u001b[38;5;28mrange\u001b[39m(\u001b[38;5;28mlen\u001b[39m(predictions)):\n\u001b[0;32m      2\u001b[0m     \u001b[38;5;28;01mif\u001b[39;00m(predictions[i] \u001b[38;5;241m==\u001b[39m \u001b[38;5;241m1\u001b[39m):\n\u001b[1;32m----> 3\u001b[0m         y_actual_result \u001b[38;5;241m=\u001b[39m np\u001b[38;5;241m.\u001b[39mvstack((\u001b[43my_actual_result\u001b[49m, y_test[i]))\n",
      "\u001b[1;31mNameError\u001b[0m: name 'y_actual_result' is not defined"
     ]
    }
   ],
   "source": [
    "for i in range(len(predictions)):\n",
    "    if(predictions[i] == 1):\n",
    "        y_actual_result = np.vstack((y_actual_result, y_test[i]))"
   ]
  },
  {
   "cell_type": "markdown",
   "metadata": {},
   "source": [
    "## Recall"
   ]
  },
  {
   "cell_type": "code",
   "execution_count": 108,
   "metadata": {},
   "outputs": [
    {
     "ename": "NameError",
     "evalue": "name 'y_actual_result' is not defined",
     "output_type": "error",
     "traceback": [
      "\u001b[1;31m---------------------------------------------------------------------------\u001b[0m",
      "\u001b[1;31mNameError\u001b[0m                                 Traceback (most recent call last)",
      "Input \u001b[1;32mIn [108]\u001b[0m, in \u001b[0;36m<cell line: 2>\u001b[1;34m()\u001b[0m\n\u001b[0;32m      1\u001b[0m \u001b[38;5;66;03m#Recall\u001b[39;00m\n\u001b[1;32m----> 2\u001b[0m y_actual_result \u001b[38;5;241m=\u001b[39m \u001b[43my_actual_result\u001b[49m\u001b[38;5;241m.\u001b[39mflatten()\n\u001b[0;32m      3\u001b[0m count \u001b[38;5;241m=\u001b[39m \u001b[38;5;241m0\u001b[39m\n\u001b[0;32m      4\u001b[0m \u001b[38;5;28;01mfor\u001b[39;00m result \u001b[38;5;129;01min\u001b[39;00m y_actual_result:\n",
      "\u001b[1;31mNameError\u001b[0m: name 'y_actual_result' is not defined"
     ]
    }
   ],
   "source": [
    "#Recall\n",
    "y_actual_result = y_actual_result.flatten()\n",
    "count = 0\n",
    "for result in y_actual_result:\n",
    "     if(result == 1):\n",
    "        count=count+1\n",
    "\n",
    "print (\"true yes|predicted yes:\")\n",
    "print (count/float(len(y_actual_result)))"
   ]
  },
  {
   "cell_type": "markdown",
   "metadata": {},
   "source": [
    "## Area Under the Curve"
   ]
  },
  {
   "cell_type": "code",
   "execution_count": 110,
   "metadata": {},
   "outputs": [
    {
     "data": {
      "image/png": "[encoded data removed]",
      "text/plain": [
       "<Figure size 432x288 with 1 Axes>"
      ]
     },
     "metadata": {
      "needs_background": "light"
     },
     "output_type": "display_data"
    }
   ],
   "source": [
    "plt.figure(1)\n",
    "lw = 2\n",
    "plt.plot(fpr_dt, tpr_dt, color='green',\n",
    "         lw=lw, label='Decision Tree(AUC = %0.2f)' % roc_auc_dt)\n",
    "plt.plot([0, 1], [0, 1], color='navy', lw=lw, linestyle='--')\n",
    "\n",
    "plt.xlim([0.0, 1.0])\n",
    "plt.ylim([0.0, 1.05])\n",
    "plt.xlabel('False Positive Rate')\n",
    "plt.ylabel('True Positive Rate')\n",
    "plt.title('Area Under Curve')\n",
    "plt.legend(loc=\"lower right\")\n",
    "plt.show()"
   ]
  },
  {
   "cell_type": "markdown",
   "metadata": {},
   "source": [
    "## Confusion Matrix"
   ]
  },
  {
   "cell_type": "code",
   "execution_count": 112,
   "metadata": {},
   "outputs": [
    {
     "name": "stdout",
     "output_type": "stream",
     "text": [
      "[[977 180]\n",
      " [258 818]]\n"
     ]
    }
   ],
   "source": [
    "print (confusion_matrix(y_test, predictions))"
   ]
  },
  {
   "cell_type": "code",
   "execution_count": 113,
   "metadata": {},
   "outputs": [
    {
     "data": {
      "text/plain": [
       "0.8038513210927004"
      ]
     },
     "execution_count": 113,
     "metadata": {},
     "output_type": "execute_result"
    }
   ],
   "source": [
    "accuracy_score(y_test, predictions)"
   ]
  },
  {
   "cell_type": "code",
   "execution_count": 115,
   "metadata": {},
   "outputs": [],
   "source": [
    "import itertools\n",
    "from sklearn.metrics import confusion_matrix\n",
    "def plot_confusion_matrix(model, normalize=False): # This function prints and plots the confusion matrix.\n",
    "    cm = confusion_matrix(y_test, model, labels=[0, 1])\n",
    "    classes=[\"Success\", \"Default\"]\n",
    "    cmap = plt.cm.Blues\n",
    "    title = \"Confusion Matrix\"\n",
    "    if normalize:\n",
    "        cm = cm.astype('float') / cm.sum(axis=1)[:, np.newaxis]\n",
    "        cm = np.around(cm, decimals=3)\n",
    "    plt.imshow(cm, interpolation='nearest', cmap=cmap)\n",
    "    plt.title(title)\n",
    "    plt.colorbar()\n",
    "    tick_marks = np.arange(len(classes))\n",
    "    plt.xticks(tick_marks, classes, rotation=45)\n",
    "    plt.yticks(tick_marks, classes)\n",
    "    thresh = cm.max() / 2.\n",
    "    for i, j in itertools.product(range(cm.shape[0]), range(cm.shape[1])):\n",
    "        plt.text(j, i, cm[i, j],\n",
    "                 horizontalalignment=\"center\",\n",
    "                 color=\"white\" if cm[i, j] > thresh else \"black\")\n",
    "    plt.tight_layout()\n",
    "    plt.ylabel('True label')\n",
    "    plt.xlabel('Predicted label')"
   ]
  },
  {
   "cell_type": "code",
   "execution_count": 116,
   "metadata": {},
   "outputs": [
    {
     "data": {
      "image/png": "[encoded data removed]",
      "text/plain": [
       "<Figure size 432x432 with 2 Axes>"
      ]
     },
     "metadata": {
      "needs_background": "light"
     },
     "output_type": "display_data"
    }
   ],
   "source": [
    "plt.figure(figsize=(6,6))\n",
    "plot_confusion_matrix(predictions, normalize=False)\n",
    "plt.show()"
   ]
  },
  {
   "cell_type": "code",
   "execution_count": null,
   "metadata": {},
   "outputs": [],
   "source": []
  },
  {
   "cell_type": "code",
   "execution_count": null,
   "metadata": {},
   "outputs": [],
   "source": []
  }
 ],
 "metadata": {
  "kernelspec": {
   "display_name": "Python 3 (ipykernel)",
   "language": "python",
   "name": "python3"
  },
  "language_info": {
   "codemirror_mode": {
    "name": "ipython",
    "version": 3
   },
   "file_extension": ".py",
   "mimetype": "text/x-python",
   "name": "python",
   "nbconvert_exporter": "python",
   "pygments_lexer": "ipython3",
   "version": "3.9.12"
  }
 },
 "nbformat": 4,
 "nbformat_minor": 4
}
